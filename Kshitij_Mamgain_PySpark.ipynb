{
  "nbformat": 4,
  "nbformat_minor": 0,
  "metadata": {
    "colab": {
      "name": "Kshitij_Mamgain_PySpark.ipynb",
      "provenance": [],
      "collapsed_sections": [],
      "authorship_tag": "ABX9TyMPxWer7JZE3VQXkzbuL6fy",
      "include_colab_link": true
    },
    "kernelspec": {
      "name": "python3",
      "display_name": "Python 3"
    }
  },
  "cells": [
    {
      "cell_type": "markdown",
      "metadata": {
        "id": "view-in-github",
        "colab_type": "text"
      },
      "source": [
        "<a href=\"https://colab.research.google.com/github/kshitijmamgain/NLP/blob/master/Kshitij_Mamgain_PySpark.ipynb\" target=\"_parent\"><img src=\"https://colab.research.google.com/assets/colab-badge.svg\" alt=\"Open In Colab\"/></a>"
      ]
    },
    {
      "cell_type": "markdown",
      "metadata": {
        "id": "zL28WmYHmwmj",
        "colab_type": "text"
      },
      "source": [
        "To run spark in Colab, we need to first install all the dependencies in Colab environment. The commands below would do it"
      ]
    },
    {
      "cell_type": "code",
      "metadata": {
        "id": "A6ROuiqJjvqS",
        "colab_type": "code",
        "colab": {}
      },
      "source": [
        "!apt-get install openjdk-8-jdk-headless -qq > /dev/null\n",
        "!wget -q https://www-us.apache.org/dist/spark/spark-2.4.4/spark-2.4.4-bin-hadoop2.7.tgz\n",
        "!tar xf spark-2.4.4-bin-hadoop2.7.tgz\n",
        "!pip install -q findspark"
      ],
      "execution_count": 0,
      "outputs": []
    },
    {
      "cell_type": "markdown",
      "metadata": {
        "id": "jomL1_J_nBT6",
        "colab_type": "text"
      },
      "source": [
        "Now that we have installed Spark and Java in Colab, it is time to set the environment path that enables us to run PySpark in our Colab environment."
      ]
    },
    {
      "cell_type": "code",
      "metadata": {
        "id": "2xTQUIdTlQmv",
        "colab_type": "code",
        "colab": {}
      },
      "source": [
        "import os\n",
        "os.environ[\"JAVA_HOME\"] = \"/usr/lib/jvm/java-8-openjdk-amd64\"\n",
        "os.environ[\"SPARK_HOME\"] = \"/content/spark-2.4.4-bin-hadoop2.7\""
      ],
      "execution_count": 0,
      "outputs": []
    },
    {
      "cell_type": "markdown",
      "metadata": {
        "id": "D2N6_381o8my",
        "colab_type": "text"
      },
      "source": [
        "Initialize spark and create a test df"
      ]
    },
    {
      "cell_type": "code",
      "metadata": {
        "id": "vTmKtuqRm28H",
        "colab_type": "code",
        "colab": {}
      },
      "source": [
        "import findspark\n",
        "findspark.init()\n",
        "from pyspark.sql import SparkSession\n",
        "spark = SparkSession.builder.master(\"local[*]\").getOrCreate()"
      ],
      "execution_count": 0,
      "outputs": []
    },
    {
      "cell_type": "code",
      "metadata": {
        "id": "gEHOQlvCnLax",
        "colab_type": "code",
        "outputId": "edf75bf1-c955-49ad-eec1-724db43d54fc",
        "colab": {
          "base_uri": "https://localhost:8080/",
          "height": 212
        }
      },
      "source": [
        "df = spark.createDataFrame([{\"hello\": \"world\"} for x in range(1000)])\n",
        "df.show(3)"
      ],
      "execution_count": 5,
      "outputs": [
        {
          "output_type": "stream",
          "text": [
            "/content/spark-2.4.4-bin-hadoop2.7/python/pyspark/sql/session.py:346: UserWarning: inferring schema from dict is deprecated,please use pyspark.sql.Row instead\n",
            "  warnings.warn(\"inferring schema from dict is deprecated,\"\n"
          ],
          "name": "stderr"
        },
        {
          "output_type": "stream",
          "text": [
            "+-----+\n",
            "|hello|\n",
            "+-----+\n",
            "|world|\n",
            "|world|\n",
            "|world|\n",
            "+-----+\n",
            "only showing top 3 rows\n",
            "\n"
          ],
          "name": "stdout"
        }
      ]
    },
    {
      "cell_type": "code",
      "metadata": {
        "id": "GKVzuPM1nw7x",
        "colab_type": "code",
        "outputId": "16ef1a87-b48a-4474-f02b-602d488e42ce",
        "colab": {
          "base_uri": "https://localhost:8080/",
          "height": 125
        }
      },
      "source": [
        "from google.colab import drive\n",
        "drive.mount('/content/drive')"
      ],
      "execution_count": 10,
      "outputs": [
        {
          "output_type": "stream",
          "text": [
            "Go to this URL in a browser: https://accounts.google.com/o/oauth2/auth?client_id=947318989803-6bn6qk8qdgf4n4g3pfee6491hc0brc4i.apps.googleusercontent.com&redirect_uri=urn%3aietf%3awg%3aoauth%3a2.0%3aoob&response_type=code&scope=email%20https%3a%2f%2fwww.googleapis.com%2fauth%2fdocs.test%20https%3a%2f%2fwww.googleapis.com%2fauth%2fdrive%20https%3a%2f%2fwww.googleapis.com%2fauth%2fdrive.photos.readonly%20https%3a%2f%2fwww.googleapis.com%2fauth%2fpeopleapi.readonly\n",
            "\n",
            "Enter your authorization code:\n",
            "··········\n",
            "Mounted at /content/drive\n"
          ],
          "name": "stdout"
        }
      ]
    },
    {
      "cell_type": "code",
      "metadata": {
        "id": "7gGAx2l-q5x4",
        "colab_type": "code",
        "outputId": "cf995f1e-b498-4aad-f7e6-f358b4c5e151",
        "colab": {
          "base_uri": "https://localhost:8080/",
          "height": 34
        }
      },
      "source": [
        "!ls"
      ],
      "execution_count": 11,
      "outputs": [
        {
          "output_type": "stream",
          "text": [
            "drive  sample_data  spark-2.4.4-bin-hadoop2.7  spark-2.4.4-bin-hadoop2.7.tgz\n"
          ],
          "name": "stdout"
        }
      ]
    },
    {
      "cell_type": "code",
      "metadata": {
        "id": "NHrmZOfSrfL1",
        "colab_type": "code",
        "colab": {}
      },
      "source": [
        "\n",
        "dataset = spark.read.format(\"org.apache.spark.csv\").option(\"delimiter\",\"\\t\").option(\"mode\", \"PERMISSIVE\").csv(r'/content/drive/My Drive/Machine Learning/ML/nltk/Restaurant_Reviews.tsv',inferSchema=True, header =True)"
      ],
      "execution_count": 0,
      "outputs": []
    },
    {
      "cell_type": "code",
      "metadata": {
        "id": "MQ2AJpkKsekS",
        "colab_type": "code",
        "outputId": "5fbf99c4-6e36-4805-c5d0-59da42d334f9",
        "colab": {
          "base_uri": "https://localhost:8080/",
          "height": 87
        }
      },
      "source": [
        "dataset.printSchema()"
      ],
      "execution_count": 13,
      "outputs": [
        {
          "output_type": "stream",
          "text": [
            "root\n",
            " |-- Review: string (nullable = true)\n",
            " |-- Liked: integer (nullable = true)\n",
            "\n"
          ],
          "name": "stdout"
        }
      ]
    },
    {
      "cell_type": "code",
      "metadata": {
        "id": "To5DWkjJsn9S",
        "colab_type": "code",
        "outputId": "d1404f90-9efe-424c-ee4a-99bb6548f2de",
        "colab": {
          "base_uri": "https://localhost:8080/",
          "height": 478
        }
      },
      "source": [
        "dataset.show()"
      ],
      "execution_count": 14,
      "outputs": [
        {
          "output_type": "stream",
          "text": [
            "+--------------------+-----+\n",
            "|              Review|Liked|\n",
            "+--------------------+-----+\n",
            "|Wow... Loved this...|    1|\n",
            "|  Crust is not good.|    0|\n",
            "|Not tasty and the...|    0|\n",
            "|Stopped by during...|    1|\n",
            "|The selection on ...|    1|\n",
            "|Now I am getting ...|    0|\n",
            "|Honestly it didn'...|    0|\n",
            "|The potatoes were...|    0|\n",
            "|The fries were gr...|    1|\n",
            "|      A great touch.|    1|\n",
            "|Service was very ...|    1|\n",
            "|  Would not go back.|    0|\n",
            "|The cashier had n...|    0|\n",
            "|I tried the Cape ...|    1|\n",
            "|I was disgusted b...|    0|\n",
            "|I was shocked bec...|    0|\n",
            "| Highly recommended.|    1|\n",
            "|Waitress was a li...|    0|\n",
            "|This place is not...|    0|\n",
            "|did not like at all.|    0|\n",
            "+--------------------+-----+\n",
            "only showing top 20 rows\n",
            "\n"
          ],
          "name": "stdout"
        }
      ]
    },
    {
      "cell_type": "markdown",
      "metadata": {
        "id": "xkH2Hx98wsKw",
        "colab_type": "text"
      },
      "source": [
        "So our spark data frame ready"
      ]
    },
    {
      "cell_type": "code",
      "metadata": {
        "id": "O2F0KETEtjxX",
        "colab_type": "code",
        "outputId": "4233f0ac-c78b-4eee-90e8-197bc7f32f79",
        "colab": {
          "base_uri": "https://localhost:8080/",
          "height": 34
        }
      },
      "source": [
        "dataset.dropna()\n",
        "dataset.count()"
      ],
      "execution_count": 0,
      "outputs": [
        {
          "output_type": "execute_result",
          "data": {
            "text/plain": [
              "1000"
            ]
          },
          "metadata": {
            "tags": []
          },
          "execution_count": 34
        }
      ]
    },
    {
      "cell_type": "code",
      "metadata": {
        "id": "nRGD7GqUt3dF",
        "colab_type": "code",
        "outputId": "d91ca9ad-de8b-4806-e7ce-8c81dd7e8e81",
        "colab": {
          "base_uri": "https://localhost:8080/",
          "height": 214
        }
      },
      "source": [
        "from pyspark.ml.feature import Tokenizer\n",
        "tokenization=Tokenizer(inputCol='Review',outputCol='tokens')\n",
        "tokenized_df=tokenization.transform(dataset)\n",
        "\n",
        "tokenized_df.show(4,False)"
      ],
      "execution_count": 15,
      "outputs": [
        {
          "output_type": "stream",
          "text": [
            "+---------------------------------------------------------------------------------------+-----+-------------------------------------------------------------------------------------------------------+\n",
            "|Review                                                                                 |Liked|tokens                                                                                                 |\n",
            "+---------------------------------------------------------------------------------------+-----+-------------------------------------------------------------------------------------------------------+\n",
            "|Wow... Loved this place.                                                               |1    |[wow..., loved, this, place.]                                                                          |\n",
            "|Crust is not good.                                                                     |0    |[crust, is, not, good.]                                                                                |\n",
            "|Not tasty and the texture was just nasty.                                              |0    |[not, tasty, and, the, texture, was, just, nasty.]                                                     |\n",
            "|Stopped by during the late May bank holiday off Rick Steve recommendation and loved it.|1    |[stopped, by, during, the, late, may, bank, holiday, off, rick, steve, recommendation, and, loved, it.]|\n",
            "+---------------------------------------------------------------------------------------+-----+-------------------------------------------------------------------------------------------------------+\n",
            "only showing top 4 rows\n",
            "\n"
          ],
          "name": "stdout"
        }
      ]
    },
    {
      "cell_type": "markdown",
      "metadata": {
        "id": "86Aa8Rs2_1gh",
        "colab_type": "text"
      },
      "source": [
        "The tokenizer is expected to tokenize the words but in the output above we see the problem. Our words still contain ellipsis '...' or fullstops '.' we need to get rid of these as well. Since ahead we are going to vectorize the words"
      ]
    },
    {
      "cell_type": "code",
      "metadata": {
        "id": "bSdT-830As5w",
        "colab_type": "code",
        "colab": {
          "base_uri": "https://localhost:8080/",
          "height": 214
        },
        "outputId": "db1dd978-46e9-4a3b-8242-2065b1befd13"
      },
      "source": [
        "from pyspark.ml.feature import RegexTokenizer\n",
        "regexTokenizer = RegexTokenizer(inputCol=\"Review\", outputCol=\"tokens\", pattern=\"\\\\W\")\n",
        "tokenized_df=regexTokenizer.transform(dataset)\n",
        "\n",
        "tokenized_df.show(4,False)"
      ],
      "execution_count": 27,
      "outputs": [
        {
          "output_type": "stream",
          "text": [
            "+---------------------------------------------------------------------------------------+-----+------------------------------------------------------------------------------------------------------+\n",
            "|Review                                                                                 |Liked|tokens                                                                                                |\n",
            "+---------------------------------------------------------------------------------------+-----+------------------------------------------------------------------------------------------------------+\n",
            "|Wow... Loved this place.                                                               |1    |[wow, loved, this, place]                                                                             |\n",
            "|Crust is not good.                                                                     |0    |[crust, is, not, good]                                                                                |\n",
            "|Not tasty and the texture was just nasty.                                              |0    |[not, tasty, and, the, texture, was, just, nasty]                                                     |\n",
            "|Stopped by during the late May bank holiday off Rick Steve recommendation and loved it.|1    |[stopped, by, during, the, late, may, bank, holiday, off, rick, steve, recommendation, and, loved, it]|\n",
            "+---------------------------------------------------------------------------------------+-----+------------------------------------------------------------------------------------------------------+\n",
            "only showing top 4 rows\n",
            "\n"
          ],
          "name": "stdout"
        }
      ]
    },
    {
      "cell_type": "code",
      "metadata": {
        "id": "2A0iMMLqujw1",
        "colab_type": "code",
        "outputId": "67f86b03-b7d4-4b4a-df3d-f23efb4662bd",
        "colab": {
          "base_uri": "https://localhost:8080/",
          "height": 321
        }
      },
      "source": [
        "# stopwords removal\n",
        "from pyspark.ml.feature import StopWordsRemover\n",
        "stopword_removal=StopWordsRemover(inputCol='tokens',outputCol='refined_tokens')\n",
        "stopword_removal=StopWordsRemover(inputCol='tokens',outputCol='refined_tokens')\n",
        "refined_df=stopword_removal.transform(tokenized_df)\n",
        "refined_df.show(10,False)"
      ],
      "execution_count": 33,
      "outputs": [
        {
          "output_type": "stream",
          "text": [
            "+---------------------------------------------------------------------------------------------------------------+-----+-------------------------------------------------------------------------------------------------------------------------------------+-----------------------------------------------------------------------+\n",
            "|Review                                                                                                         |Liked|tokens                                                                                                                               |refined_tokens                                                         |\n",
            "+---------------------------------------------------------------------------------------------------------------+-----+-------------------------------------------------------------------------------------------------------------------------------------+-----------------------------------------------------------------------+\n",
            "|Wow... Loved this place.                                                                                       |1    |[wow, loved, this, place]                                                                                                            |[wow, loved, place]                                                    |\n",
            "|Crust is not good.                                                                                             |0    |[crust, is, not, good]                                                                                                               |[crust, good]                                                          |\n",
            "|Not tasty and the texture was just nasty.                                                                      |0    |[not, tasty, and, the, texture, was, just, nasty]                                                                                    |[tasty, texture, nasty]                                                |\n",
            "|Stopped by during the late May bank holiday off Rick Steve recommendation and loved it.                        |1    |[stopped, by, during, the, late, may, bank, holiday, off, rick, steve, recommendation, and, loved, it]                               |[stopped, late, may, bank, holiday, rick, steve, recommendation, loved]|\n",
            "|The selection on the menu was great and so were the prices.                                                    |1    |[the, selection, on, the, menu, was, great, and, so, were, the, prices]                                                              |[selection, menu, great, prices]                                       |\n",
            "|Now I am getting angry and I want my damn pho.                                                                 |0    |[now, i, am, getting, angry, and, i, want, my, damn, pho]                                                                            |[getting, angry, want, damn, pho]                                      |\n",
            "|Honestly it didn't taste THAT fresh.)                                                                          |0    |[honestly, it, didn, t, taste, that, fresh]                                                                                          |[honestly, didn, taste, fresh]                                         |\n",
            "|The potatoes were like rubber and you could tell they had been made up ahead of time being kept under a warmer.|0    |[the, potatoes, were, like, rubber, and, you, could, tell, they, had, been, made, up, ahead, of, time, being, kept, under, a, warmer]|[potatoes, like, rubber, tell, made, ahead, time, kept, warmer]        |\n",
            "|The fries were great too.                                                                                      |1    |[the, fries, were, great, too]                                                                                                       |[fries, great]                                                         |\n",
            "|A great touch.                                                                                                 |1    |[a, great, touch]                                                                                                                    |[great, touch]                                                         |\n",
            "+---------------------------------------------------------------------------------------------------------------+-----+-------------------------------------------------------------------------------------------------------------------------------------+-----------------------------------------------------------------------+\n",
            "only showing top 10 rows\n",
            "\n"
          ],
          "name": "stdout"
        }
      ]
    },
    {
      "cell_type": "code",
      "metadata": {
        "id": "4ohplyOX0Fd_",
        "colab_type": "code",
        "outputId": "34d8815c-2b92-451e-ae5b-4888c9550325",
        "colab": {
          "base_uri": "https://localhost:8080/",
          "height": 214
        }
      },
      "source": [
        "# Count Vectorizer\n",
        "from pyspark.ml.feature import CountVectorizer\n",
        "count_vec=CountVectorizer(inputCol='refined_tokens',outputCol='features')\n",
        "cv_df=count_vec.fit(refined_df).transform(refined_df)\n",
        "cv_df.show(4,False)"
      ],
      "execution_count": 29,
      "outputs": [
        {
          "output_type": "stream",
          "text": [
            "+---------------------------------------------------------------------------------------+-----+------------------------------------------------------------------------------------------------------+-----------------------------------------------------------------------+--------------------------------------------------------------------------------------+\n",
            "|Review                                                                                 |Liked|tokens                                                                                                |refined_tokens                                                         |features                                                                              |\n",
            "+---------------------------------------------------------------------------------------+-----+------------------------------------------------------------------------------------------------------+-----------------------------------------------------------------------+--------------------------------------------------------------------------------------+\n",
            "|Wow... Loved this place.                                                               |1    |[wow, loved, this, place]                                                                             |[wow, loved, place]                                                    |(1932,[1,101,391],[1.0,1.0,1.0])                                                      |\n",
            "|Crust is not good.                                                                     |0    |[crust, is, not, good]                                                                                |[crust, good]                                                          |(1932,[2,530],[1.0,1.0])                                                              |\n",
            "|Not tasty and the texture was just nasty.                                              |0    |[not, tasty, and, the, texture, was, just, nasty]                                                     |[tasty, texture, nasty]                                                |(1932,[86,396,472],[1.0,1.0,1.0])                                                     |\n",
            "|Stopped by during the late May bank holiday off Rick Steve recommendation and loved it.|1    |[stopped, by, during, the, late, may, bank, holiday, off, rick, steve, recommendation, and, loved, it]|[stopped, late, may, bank, holiday, rick, steve, recommendation, loved]|(1932,[101,233,359,674,708,1248,1563,1906,1908],[1.0,1.0,1.0,1.0,1.0,1.0,1.0,1.0,1.0])|\n",
            "+---------------------------------------------------------------------------------------+-----+------------------------------------------------------------------------------------------------------+-----------------------------------------------------------------------+--------------------------------------------------------------------------------------+\n",
            "only showing top 4 rows\n",
            "\n"
          ],
          "name": "stdout"
        }
      ]
    },
    {
      "cell_type": "code",
      "metadata": {
        "id": "MhDk2l-C6xIs",
        "colab_type": "code",
        "outputId": "4ec685e0-30d7-4116-dd96-4891fdc981f0",
        "colab": {
          "base_uri": "https://localhost:8080/",
          "height": 1000
        }
      },
      "source": [
        "count_vec.fit(refined_df).vocabulary"
      ],
      "execution_count": 30,
      "outputs": [
        {
          "output_type": "execute_result",
          "data": {
            "text/plain": [
              "['food',\n",
              " 'place',\n",
              " 'good',\n",
              " 'service',\n",
              " 'great',\n",
              " 'back',\n",
              " 'like',\n",
              " 'go',\n",
              " 'time',\n",
              " 'really',\n",
              " 'best',\n",
              " 'ever',\n",
              " 'friendly',\n",
              " 'also',\n",
              " 'one',\n",
              " 'never',\n",
              " 'nice',\n",
              " 'restaurant',\n",
              " 'amazing',\n",
              " 've',\n",
              " 'delicious',\n",
              " 'vegas',\n",
              " 'm',\n",
              " 'experience',\n",
              " 'pretty',\n",
              " 'came',\n",
              " 'even',\n",
              " 'definitely',\n",
              " 'staff',\n",
              " 'love',\n",
              " 'disappointed',\n",
              " 'minutes',\n",
              " 'get',\n",
              " 'eat',\n",
              " 'us',\n",
              " 'won',\n",
              " 'going',\n",
              " 'bad',\n",
              " 'much',\n",
              " 'got',\n",
              " 'first',\n",
              " 'made',\n",
              " 'chicken',\n",
              " 'say',\n",
              " 'think',\n",
              " 'better',\n",
              " 'way',\n",
              " 'worst',\n",
              " 'salad',\n",
              " 'menu',\n",
              " 'stars',\n",
              " 'pizza',\n",
              " 'always',\n",
              " 'well',\n",
              " 'ordered',\n",
              " 'steak',\n",
              " 'wait',\n",
              " 'quality',\n",
              " 'fresh',\n",
              " 'wasn',\n",
              " 'want',\n",
              " 'didn',\n",
              " 'server',\n",
              " 'sushi',\n",
              " 'times',\n",
              " 'll',\n",
              " 'taste',\n",
              " 'went',\n",
              " 'flavor',\n",
              " 'burger',\n",
              " 'enough',\n",
              " 'everything',\n",
              " 'night',\n",
              " 'awesome',\n",
              " 'fantastic',\n",
              " 'buffet',\n",
              " 'slow',\n",
              " 'recommend',\n",
              " 'know',\n",
              " 'come',\n",
              " 'bland',\n",
              " 'feel',\n",
              " 'next',\n",
              " 'meal',\n",
              " 'atmosphere',\n",
              " 'still',\n",
              " 'tasty',\n",
              " 'order',\n",
              " 'sauce',\n",
              " 'little',\n",
              " 'perfect',\n",
              " 'worth',\n",
              " 'coming',\n",
              " 'lunch',\n",
              " 'waited',\n",
              " 'breakfast',\n",
              " 'selection',\n",
              " 'excellent',\n",
              " 'terrible',\n",
              " 'prices',\n",
              " 'probably',\n",
              " 'loved',\n",
              " 'another',\n",
              " 'soon',\n",
              " 'clean',\n",
              " 'meat',\n",
              " 'table',\n",
              " 'hot',\n",
              " 'd',\n",
              " 'fries',\n",
              " 'day',\n",
              " 'many',\n",
              " '2',\n",
              " 'dishes',\n",
              " 'every',\n",
              " 'sandwich',\n",
              " 'give',\n",
              " 'people',\n",
              " 'cold',\n",
              " 'right',\n",
              " 'impressed',\n",
              " 'tasted',\n",
              " 'dining',\n",
              " 'waitress',\n",
              " 'thing',\n",
              " 'said',\n",
              " 'since',\n",
              " 'spot',\n",
              " 'eating',\n",
              " 'felt',\n",
              " 'quite',\n",
              " 'sure',\n",
              " 'around',\n",
              " 'try',\n",
              " 'two',\n",
              " 'make',\n",
              " 'getting',\n",
              " 'rude',\n",
              " 'dish',\n",
              " '5',\n",
              " 'take',\n",
              " 'bit',\n",
              " 'absolutely',\n",
              " 'took',\n",
              " 'spicy',\n",
              " 'overall',\n",
              " 'beer',\n",
              " 'happy',\n",
              " 'cooked',\n",
              " 'chips',\n",
              " 'side',\n",
              " 'inside',\n",
              " 'nothing',\n",
              " 'attentive',\n",
              " 'town',\n",
              " 'far',\n",
              " 'family',\n",
              " 'overpriced',\n",
              " 'waiter',\n",
              " 'seriously',\n",
              " 'area',\n",
              " 'check',\n",
              " 'tried',\n",
              " 'special',\n",
              " 'wonderful',\n",
              " 'deal',\n",
              " 'super',\n",
              " 'warm',\n",
              " '1',\n",
              " 'must',\n",
              " 'ambiance',\n",
              " 'lot',\n",
              " 'found',\n",
              " 'bar',\n",
              " 'price',\n",
              " 'authentic',\n",
              " 'hour',\n",
              " 'twice',\n",
              " 'left',\n",
              " 'last',\n",
              " 'done',\n",
              " 'hard',\n",
              " 'either',\n",
              " 'pho',\n",
              " 'enjoy',\n",
              " 'served',\n",
              " 'money',\n",
              " 'mediocre',\n",
              " 'management',\n",
              " 'horrible',\n",
              " 'dinner',\n",
              " 'see',\n",
              " 'poor',\n",
              " 'customer',\n",
              " 'tell',\n",
              " 're',\n",
              " 'potato',\n",
              " 'shrimp',\n",
              " 'tender',\n",
              " 'small',\n",
              " '3',\n",
              " 'fried',\n",
              " 'seafood',\n",
              " 'huge',\n",
              " 'zero',\n",
              " 'ice',\n",
              " 'fast',\n",
              " 'sweet',\n",
              " 'outside',\n",
              " 'new',\n",
              " 'talk',\n",
              " 'barely',\n",
              " 'kept',\n",
              " 'full',\n",
              " 'pasta',\n",
              " 'bacon',\n",
              " '10',\n",
              " 'old',\n",
              " 'bring',\n",
              " 'hit',\n",
              " 'tasteless',\n",
              " 'servers',\n",
              " 'things',\n",
              " 'quick',\n",
              " 'dessert',\n",
              " 'thai',\n",
              " 'bread',\n",
              " 'return',\n",
              " 'tables',\n",
              " 'eaten',\n",
              " 'thought',\n",
              " 'sat',\n",
              " 'wrong',\n",
              " 'may',\n",
              " 'waiting',\n",
              " 'disappointing',\n",
              " 'real',\n",
              " 'anytime',\n",
              " '30',\n",
              " 'fish',\n",
              " 'waste',\n",
              " 'avoid',\n",
              " 'expect',\n",
              " 'seated',\n",
              " 'away',\n",
              " 'long',\n",
              " 'home',\n",
              " 'sick',\n",
              " 'portions',\n",
              " 'places',\n",
              " 'friend',\n",
              " 'enjoyed',\n",
              " 'extremely',\n",
              " 'reasonable',\n",
              " 'asked',\n",
              " 'beef',\n",
              " 'fun',\n",
              " 'elsewhere',\n",
              " 'running',\n",
              " 'folks',\n",
              " 'cream',\n",
              " 'husband',\n",
              " 'something',\n",
              " 'everyone',\n",
              " '4',\n",
              " 'high',\n",
              " 'business',\n",
              " 'chef',\n",
              " 'owner',\n",
              " '40',\n",
              " 'close',\n",
              " 'phoenix',\n",
              " 'burgers',\n",
              " 'manager',\n",
              " 'rice',\n",
              " 'sad',\n",
              " 'drinks',\n",
              " 'tacos',\n",
              " 'piece',\n",
              " 'owners',\n",
              " 'salmon',\n",
              " 'drive',\n",
              " 'damn',\n",
              " 'leave',\n",
              " 'average',\n",
              " 'gave',\n",
              " 'today',\n",
              " 'house',\n",
              " 'thumbs',\n",
              " 'thin',\n",
              " 'large',\n",
              " 'location',\n",
              " 'unfortunately',\n",
              " 'visit',\n",
              " 'establishment',\n",
              " 'vegetables',\n",
              " 'sucked',\n",
              " 'wings',\n",
              " 'needs',\n",
              " 'look',\n",
              " 'though',\n",
              " 'live',\n",
              " 'least',\n",
              " 'ask',\n",
              " 'wine',\n",
              " 'heart',\n",
              " 'incredible',\n",
              " 'job',\n",
              " 'soup',\n",
              " 'highly',\n",
              " 'dry',\n",
              " 'friends',\n",
              " 'tea',\n",
              " 'bay',\n",
              " 'pay',\n",
              " '20',\n",
              " 'dirty',\n",
              " 'disappointment',\n",
              " 'yummy',\n",
              " 'kind',\n",
              " 'steaks',\n",
              " 'drink',\n",
              " 'trip',\n",
              " 'fact',\n",
              " 'considering',\n",
              " 'beat',\n",
              " 'options',\n",
              " 'helpful',\n",
              " 'rare',\n",
              " 'pork',\n",
              " 'possible',\n",
              " 'someone',\n",
              " 'oh',\n",
              " 'chewy',\n",
              " 'totally',\n",
              " 'several',\n",
              " 'boyfriend',\n",
              " 'frozen',\n",
              " 'duck',\n",
              " 'generous',\n",
              " 'deserves',\n",
              " 'cafe',\n",
              " 'egg',\n",
              " 'used',\n",
              " 'different',\n",
              " 'edible',\n",
              " 'find',\n",
              " 'moist',\n",
              " 'busy',\n",
              " 'fine',\n",
              " 'green',\n",
              " 'pizzas',\n",
              " 'point',\n",
              " 'big',\n",
              " 'stop',\n",
              " 'second',\n",
              " 'ok',\n",
              " 'lacked',\n",
              " 'stomach',\n",
              " 'recommendation',\n",
              " 'hands',\n",
              " 'let',\n",
              " 'arrived',\n",
              " 'brought',\n",
              " 'world',\n",
              " 'water',\n",
              " 'although',\n",
              " 'believe',\n",
              " 'review',\n",
              " 'worse',\n",
              " 'lobster',\n",
              " 'expected',\n",
              " 'course',\n",
              " 'wife',\n",
              " 'ago',\n",
              " 'list',\n",
              " 'liked',\n",
              " 'recommended',\n",
              " 'style',\n",
              " 'music',\n",
              " 'pulled',\n",
              " 'outstanding',\n",
              " 'total',\n",
              " 'soggy',\n",
              " 'honestly',\n",
              " 'vegetarian',\n",
              " 'wanted',\n",
              " 'bathroom',\n",
              " 'seating',\n",
              " 'walked',\n",
              " 'rolls',\n",
              " 'wow',\n",
              " 'sashimi',\n",
              " 'tip',\n",
              " 'beans',\n",
              " 'door',\n",
              " 'texture',\n",
              " 'received',\n",
              " 'salsa',\n",
              " 'immediately',\n",
              " 'hummus',\n",
              " 'vibe',\n",
              " 'perfectly',\n",
              " 'care',\n",
              " 'sides',\n",
              " 'gone',\n",
              " 'guess',\n",
              " 'favorite',\n",
              " 'dressing',\n",
              " 'cheese',\n",
              " 'honest',\n",
              " 'regular',\n",
              " 'room',\n",
              " 'beautiful',\n",
              " 'subway',\n",
              " 'yet',\n",
              " 'potatoes',\n",
              " 'lacking',\n",
              " 'wall',\n",
              " 'told',\n",
              " 'pleasant',\n",
              " 'amount',\n",
              " 'isn',\n",
              " 'party',\n",
              " 'strip',\n",
              " 'priced',\n",
              " 'need',\n",
              " 'pita',\n",
              " 'quickly',\n",
              " 'desserts',\n",
              " 'brunch',\n",
              " 'mom',\n",
              " 'empty',\n",
              " 'cool',\n",
              " 'sucks',\n",
              " 'maybe',\n",
              " 'pleased',\n",
              " 'reviews',\n",
              " 'unless',\n",
              " 'literally',\n",
              " 'ate',\n",
              " 'wouldn',\n",
              " 'stay',\n",
              " '8',\n",
              " 'flat',\n",
              " 'none',\n",
              " 'dog',\n",
              " 'insulted',\n",
              " 'melt',\n",
              " 'butter',\n",
              " 'mouth',\n",
              " 'ambience',\n",
              " 'equally',\n",
              " 'rather',\n",
              " 'par',\n",
              " 'else',\n",
              " 'couple',\n",
              " 'stale',\n",
              " 'half',\n",
              " 'star',\n",
              " 'please',\n",
              " 'greek',\n",
              " 'interesting',\n",
              " 'flavorful',\n",
              " 'bill',\n",
              " 'decor',\n",
              " 'especially',\n",
              " 'setting',\n",
              " 'checked',\n",
              " 'homemade',\n",
              " 'years',\n",
              " 'awful',\n",
              " 'nasty',\n",
              " 'watched',\n",
              " 'treated',\n",
              " 'meals',\n",
              " 'salt',\n",
              " 'white',\n",
              " 'couldn',\n",
              " '35',\n",
              " 'patio',\n",
              " 'hope',\n",
              " 'healthy',\n",
              " 'delish',\n",
              " 'restaurants',\n",
              " 'pace',\n",
              " 'cant',\n",
              " 'set',\n",
              " 'towards',\n",
              " 'cow',\n",
              " '100',\n",
              " 'hate',\n",
              " 'suck',\n",
              " 'stayed',\n",
              " 'dine',\n",
              " 'plus',\n",
              " 'ten',\n",
              " 'decorated',\n",
              " 'color',\n",
              " 'omg',\n",
              " 'needless',\n",
              " 'third',\n",
              " 'overwhelmed',\n",
              " 'decent',\n",
              " 'staying',\n",
              " 'judge',\n",
              " 'mid',\n",
              " 'seen',\n",
              " 'cashier',\n",
              " 'mary',\n",
              " 'extra',\n",
              " '12',\n",
              " 'die',\n",
              " 'coffee',\n",
              " 'later',\n",
              " 'fairly',\n",
              " 'chinese',\n",
              " 'others',\n",
              " 'disgusting',\n",
              " 'tap',\n",
              " 'bite',\n",
              " 'plate',\n",
              " 'satisfying',\n",
              " 'cheap',\n",
              " 'anyway',\n",
              " 'whole',\n",
              " 'pricing',\n",
              " 'complaints',\n",
              " 'mexican',\n",
              " 'cheeseburger',\n",
              " 'crust',\n",
              " 'week',\n",
              " 'year',\n",
              " 'grilled',\n",
              " 'feels',\n",
              " 'rarely',\n",
              " 'stir',\n",
              " 'overcooked',\n",
              " 'actually',\n",
              " 'disrespected',\n",
              " 'boot',\n",
              " 'heat',\n",
              " 'kids',\n",
              " 'car',\n",
              " 'gross',\n",
              " 'three',\n",
              " 'low',\n",
              " 'tots',\n",
              " 'mmmm',\n",
              " 'lady',\n",
              " 'simple',\n",
              " 'finally',\n",
              " 'glad',\n",
              " 'appetizers',\n",
              " 'marrow',\n",
              " 'charcoal',\n",
              " 'grease',\n",
              " 'sub',\n",
              " 'legit',\n",
              " 'fly',\n",
              " 'life',\n",
              " 'cute',\n",
              " 'group',\n",
              " 'beyond',\n",
              " 'grossed',\n",
              " 'spend',\n",
              " 'sliced',\n",
              " 'anyone',\n",
              " 'single',\n",
              " 'hair',\n",
              " 'bartender',\n",
              " 'started',\n",
              " 'finish',\n",
              " 'attack',\n",
              " 'roasted',\n",
              " 'hand',\n",
              " 'added',\n",
              " 'impeccable',\n",
              " 'hours',\n",
              " 'realized',\n",
              " 'greeted',\n",
              " 'italian',\n",
              " 'rated',\n",
              " '7',\n",
              " 'bakery',\n",
              " 'behind',\n",
              " 'looking',\n",
              " 'puree',\n",
              " 'part',\n",
              " 'shower',\n",
              " 'professional',\n",
              " 'recently',\n",
              " 'grill',\n",
              " 'dealing',\n",
              " 'wasting',\n",
              " 'cook',\n",
              " 'bother',\n",
              " 'gold',\n",
              " 'fail',\n",
              " 'valley',\n",
              " 'nachos',\n",
              " 'eggplant',\n",
              " 'dirt',\n",
              " 'baby',\n",
              " 'bagels',\n",
              " 'dark',\n",
              " 'offers',\n",
              " 'fell',\n",
              " 'choose',\n",
              " 'dont',\n",
              " 'orders',\n",
              " 'toasted',\n",
              " 'driest',\n",
              " 'undercooked',\n",
              " 'salads',\n",
              " 'summer',\n",
              " 'biscuits',\n",
              " 'customers',\n",
              " 'bowl',\n",
              " 'serve',\n",
              " 'feeling',\n",
              " 'seems',\n",
              " 'touch',\n",
              " 'stuffed',\n",
              " 'boba',\n",
              " 'helped',\n",
              " 'fare',\n",
              " 'underwhelming',\n",
              " 'preparing',\n",
              " 'perfection',\n",
              " 'anything',\n",
              " 'watch',\n",
              " 'yum',\n",
              " 'focused',\n",
              " 'serves',\n",
              " 'double',\n",
              " 'human',\n",
              " 'pop',\n",
              " 'given',\n",
              " 'flower',\n",
              " 'person',\n",
              " 'tuna',\n",
              " 'wrap',\n",
              " 'means',\n",
              " 'heard',\n",
              " 'stuff',\n",
              " 'opportunity',\n",
              " 'pancakes',\n",
              " 'bathrooms',\n",
              " 'value',\n",
              " 'happened',\n",
              " 'recent',\n",
              " 'joint',\n",
              " 'simply',\n",
              " 'mistake',\n",
              " 'mall',\n",
              " 'crazy',\n",
              " 'neighborhood',\n",
              " 'almost',\n",
              " 'basically',\n",
              " 'longer',\n",
              " 'vinegrette',\n",
              " 'become',\n",
              " 'lost',\n",
              " 'soooo',\n",
              " 'hip',\n",
              " 'doubt',\n",
              " 'legs',\n",
              " 'garlic',\n",
              " 'gyros',\n",
              " 'portion',\n",
              " 'non',\n",
              " 'indian',\n",
              " 'entrees',\n",
              " 'stopped',\n",
              " 'oven',\n",
              " 'crab',\n",
              " 'front',\n",
              " 'delightful',\n",
              " 'tapas',\n",
              " 'boy',\n",
              " 'playing',\n",
              " 'paper',\n",
              " 'bunch',\n",
              " 'meh',\n",
              " 'nicest',\n",
              " 'ended',\n",
              " 'comfortable',\n",
              " 'favor',\n",
              " 'combination',\n",
              " 'bye',\n",
              " 'belly',\n",
              " 'lovers',\n",
              " 'aren',\n",
              " 'six',\n",
              " 'sticks',\n",
              " 'needed',\n",
              " 'ladies',\n",
              " 'without',\n",
              " 'serving',\n",
              " 'decided',\n",
              " 'cut',\n",
              " 'flavorless',\n",
              " 'building',\n",
              " 'note',\n",
              " 'presentation',\n",
              " 'however',\n",
              " 'sugary',\n",
              " 'late',\n",
              " 'lovely',\n",
              " 'black',\n",
              " 'crispy',\n",
              " 'fan',\n",
              " 'inexpensive',\n",
              " 'top',\n",
              " 'similar',\n",
              " 'assure',\n",
              " 'taco',\n",
              " 'filling',\n",
              " 'bachi',\n",
              " 'break',\n",
              " 'selections',\n",
              " 'bucks',\n",
              " 'looked',\n",
              " 'complain',\n",
              " 'red',\n",
              " 'tribute',\n",
              " 'roast',\n",
              " 'brick',\n",
              " 'seemed',\n",
              " 'ripped',\n",
              " 'mayo',\n",
              " 'scallop',\n",
              " 'lots',\n",
              " 'attitudes',\n",
              " 'evening',\n",
              " 'curry',\n",
              " 'definately',\n",
              " 'convenient',\n",
              " 'treat',\n",
              " 'joke',\n",
              " 'trying',\n",
              " 'crowd',\n",
              " 'reasonably',\n",
              " 'eggs',\n",
              " 'completely',\n",
              " 'char',\n",
              " 'services',\n",
              " 'margaritas',\n",
              " 'seasoned',\n",
              " 'min',\n",
              " 'known',\n",
              " 'word',\n",
              " 'bug',\n",
              " 'sitting',\n",
              " 'pepper',\n",
              " 'stepped',\n",
              " 'company',\n",
              " 'fry',\n",
              " 'guy',\n",
              " 'delight',\n",
              " 'multiple',\n",
              " 'lukewarm',\n",
              " 'use',\n",
              " 'bars',\n",
              " 'excuse',\n",
              " 'mind',\n",
              " 'station',\n",
              " 'familiar',\n",
              " 'paid',\n",
              " 'passed',\n",
              " 'promise',\n",
              " 'creamy',\n",
              " 'acknowledged',\n",
              " 'bisque',\n",
              " 'batter',\n",
              " 'work',\n",
              " 'downtown',\n",
              " 'refill',\n",
              " 'disappoint',\n",
              " 'bites',\n",
              " 'filet',\n",
              " 'end',\n",
              " 'crusty',\n",
              " 'website',\n",
              " 'bone',\n",
              " 'spends',\n",
              " 'bought',\n",
              " 'pack',\n",
              " 'suggestions',\n",
              " 'rancheros',\n",
              " 'play',\n",
              " 'genuinely',\n",
              " 'greedy',\n",
              " 'thick',\n",
              " 'rolled',\n",
              " 'similarly',\n",
              " 'beauty',\n",
              " 'recall',\n",
              " 'weekly',\n",
              " 'charged',\n",
              " 'joy',\n",
              " 'expectations',\n",
              " 'bloodiest',\n",
              " 'bitches',\n",
              " 'expert',\n",
              " 'afternoon',\n",
              " 'soups',\n",
              " 'carpaccio',\n",
              " 'omelets',\n",
              " 'penne',\n",
              " 'generic',\n",
              " 'luck',\n",
              " 'dried',\n",
              " 'pe',\n",
              " 'postinos',\n",
              " 'jerk',\n",
              " 'maintaining',\n",
              " 'caf',\n",
              " 'discount',\n",
              " 'batch',\n",
              " 'personable',\n",
              " 'jewel',\n",
              " 'tater',\n",
              " 'unbelievably',\n",
              " 'class',\n",
              " 'self',\n",
              " 'count',\n",
              " 'panna',\n",
              " 'biscuit',\n",
              " 'dressed',\n",
              " 'cibo',\n",
              " 'less',\n",
              " 'dead',\n",
              " 'weren',\n",
              " 'wayyy',\n",
              " 'caught',\n",
              " 'ethic',\n",
              " 'inviting',\n",
              " 'elegantly',\n",
              " 'gordon',\n",
              " 'correct',\n",
              " 'level',\n",
              " 'ha',\n",
              " 'screams',\n",
              " 'strangers',\n",
              " 'bloddy',\n",
              " 'funny',\n",
              " 'refreshing',\n",
              " 'grab',\n",
              " 'lettuce',\n",
              " 'etc',\n",
              " 'haven',\n",
              " 'peanut',\n",
              " 'cake',\n",
              " 'boring',\n",
              " 'case',\n",
              " 'hasn',\n",
              " 'meats',\n",
              " '40min',\n",
              " 'touched',\n",
              " 'airport',\n",
              " 'rotating',\n",
              " 'caring',\n",
              " 'excalibur',\n",
              " 'eyed',\n",
              " 'baseball',\n",
              " 'polite',\n",
              " 'drunk',\n",
              " 'goat',\n",
              " 'fella',\n",
              " 'begin',\n",
              " 'inflate',\n",
              " 'saffron',\n",
              " 'bellagio',\n",
              " 'hawaiian',\n",
              " 'operation',\n",
              " 'fruit',\n",
              " 'flavourful',\n",
              " 'golden',\n",
              " 'handled',\n",
              " 'otto',\n",
              " 'informative',\n",
              " 'cart',\n",
              " 'martini',\n",
              " 'promptly',\n",
              " 'looks',\n",
              " 'giving',\n",
              " 'covered',\n",
              " 'lox',\n",
              " 'visited',\n",
              " 'email',\n",
              " 'seasoning',\n",
              " 'dos',\n",
              " 'powdered',\n",
              " 'heads',\n",
              " 'maine',\n",
              " 'drag',\n",
              " 'blown',\n",
              " 'instantly',\n",
              " 'largely',\n",
              " 'entire',\n",
              " 'proclaimed',\n",
              " 'mozzarella',\n",
              " 'regularly',\n",
              " 'brother',\n",
              " 'moods',\n",
              " 'cannoli',\n",
              " 'venture',\n",
              " 'inspired',\n",
              " 'block',\n",
              " 'crepe',\n",
              " 'enjoyable',\n",
              " 'cape',\n",
              " 'ingredients',\n",
              " 'call',\n",
              " 'speedy',\n",
              " 'buying',\n",
              " 'ratio',\n",
              " 'cranberry',\n",
              " 'via',\n",
              " 'imagine',\n",
              " 'ninja',\n",
              " 'rushed',\n",
              " 'returned',\n",
              " 'dime',\n",
              " 'quantity',\n",
              " 'containers',\n",
              " 'solid',\n",
              " 'perpared',\n",
              " 'unsatisfying',\n",
              " 'las',\n",
              " 'apparently',\n",
              " 'toro',\n",
              " 'hostess',\n",
              " 'complete',\n",
              " 'chocolate',\n",
              " 'mirage',\n",
              " 'extensive',\n",
              " 'drawing',\n",
              " 'loving',\n",
              " 'expensive',\n",
              " 'spaghetti',\n",
              " 'oysters',\n",
              " 'lordy',\n",
              " 'wide',\n",
              " 'shopping',\n",
              " 'dollars',\n",
              " 'changing',\n",
              " 'flirting',\n",
              " 'disgraceful',\n",
              " 'crystals',\n",
              " 'unhealthy',\n",
              " 'sour',\n",
              " 'rest',\n",
              " 'milk',\n",
              " 'arriving',\n",
              " 'anticipated',\n",
              " 'sandwiches',\n",
              " 'welcome',\n",
              " 'offered',\n",
              " 'hearts',\n",
              " 'hereas',\n",
              " 'forever',\n",
              " 'fianc',\n",
              " 'disaster',\n",
              " 'dreamed',\n",
              " 'writing',\n",
              " 'read',\n",
              " 'pan',\n",
              " '99',\n",
              " 'tolerance',\n",
              " 'chow',\n",
              " 'teeth',\n",
              " 'relleno',\n",
              " 'boxes',\n",
              " 'ganoush',\n",
              " 'flair',\n",
              " 'concern',\n",
              " 'stinks',\n",
              " 'spice',\n",
              " 'loyal',\n",
              " 'ignore',\n",
              " 'book',\n",
              " 'classic',\n",
              " 'brings',\n",
              " 'redeeming',\n",
              " 'thus',\n",
              " 'box',\n",
              " 'corporation',\n",
              " 'ryan',\n",
              " 'bottom',\n",
              " 'ramsey',\n",
              " 'ya',\n",
              " 'wound',\n",
              " 'breaks',\n",
              " 'hated',\n",
              " 'reminds',\n",
              " 'albondigas',\n",
              " 'eve',\n",
              " ...]"
            ]
          },
          "metadata": {
            "tags": []
          },
          "execution_count": 30
        }
      ]
    },
    {
      "cell_type": "code",
      "metadata": {
        "id": "2Tl6Q4FO63vr",
        "colab_type": "code",
        "outputId": "4f535711-987e-4845-92f6-62c791f51cb0",
        "colab": {
          "base_uri": "https://localhost:8080/",
          "height": 212
        }
      },
      "source": [
        "#Tf-idf\n",
        "from pyspark.ml.feature import HashingTF,IDF\n",
        "hashing_vec=HashingTF(inputCol='refined_tokens',outputCol='tf_features')\n",
        "hashing_df=hashing_vec.transform(refined_df)\n",
        "hashing_df.select(['refined_tokens','tf_features']).show(5,False)"
      ],
      "execution_count": 47,
      "outputs": [
        {
          "output_type": "stream",
          "text": [
            "+-----------------------------------------------------------------------+-------------------------------------------------------------------------------------------------------+\n",
            "|refined_tokens                                                         |tf_features                                                                                            |\n",
            "+-----------------------------------------------------------------------+-------------------------------------------------------------------------------------------------------+\n",
            "|[wow, loved, place]                                                    |(262144,[33933,59414,61231],[1.0,1.0,1.0])                                                             |\n",
            "|[crust, good]                                                          |(262144,[113432,153353],[1.0,1.0])                                                                     |\n",
            "|[tasty, texture, nasty]                                                |(262144,[63367,93123,227406],[1.0,1.0,1.0])                                                            |\n",
            "|[stopped, late, may, bank, holiday, rick, steve, recommendation, loved]|(262144,[6286,27293,33933,53101,68727,76515,90362,140586,146390],[1.0,1.0,1.0,1.0,1.0,1.0,1.0,1.0,1.0])|\n",
            "|[selection, menu, great, prices]                                       |(262144,[91184,138356,151571,183237],[1.0,1.0,1.0,1.0])                                                |\n",
            "+-----------------------------------------------------------------------+-------------------------------------------------------------------------------------------------------+\n",
            "only showing top 5 rows\n",
            "\n"
          ],
          "name": "stdout"
        }
      ]
    },
    {
      "cell_type": "code",
      "metadata": {
        "id": "7zI62kXF7GM8",
        "colab_type": "code",
        "outputId": "3b7f9787-d910-4060-db0b-0a4a3f41af71",
        "colab": {
          "base_uri": "https://localhost:8080/",
          "height": 232
        }
      },
      "source": [
        "tf_idf_vec=IDF(inputCol='tf_features',outputCol='tf_idf_features')\n",
        "tf_idf_df=tf_idf_vec.fit(hashing_df).transform(hashing_df)\n",
        "tf_idf_df.select(['tf_idf_features']).show(5,False)"
      ],
      "execution_count": 38,
      "outputs": [
        {
          "output_type": "stream",
          "text": [
            "+-----------------------------------------------------------------------------------------------------------------------------------------------------------------------------------------------------------------------------------+\n",
            "|tf_idf_features                                                                                                                                                                                                                    |\n",
            "+-----------------------------------------------------------------------------------------------------------------------------------------------------------------------------------------------------------------------------------+\n",
            "|(262144,[33933,59414,61231],[4.51085950651685,5.52246041819533,2.264363880173848])                                                                                                                                                 |\n",
            "|(262144,[113432,153353],[2.3869662022661804,5.810142490647111])                                                                                                                                                                    |\n",
            "|(262144,[63367,93123,227406],[5.52246041819533,5.52246041819533,4.4238481295272205])                                                                                                                                               |\n",
            "|(262144,[6286,27293,33933,53101,68727,76515,90362,140586,146390],[6.215607598755275,5.810142490647111,4.51085950651685,6.215607598755275,5.810142490647111,5.52246041819533,6.215607598755275,5.116995310087166,6.215607598755275])|\n",
            "|(262144,[91184,138356,151571,183237],[4.6061696863211745,2.7343675094195836,4.13616605707544,4.51085950651685])                                                                                                                    |\n",
            "+-----------------------------------------------------------------------------------------------------------------------------------------------------------------------------------------------------------------------------------+\n",
            "only showing top 5 rows\n",
            "\n"
          ],
          "name": "stdout"
        }
      ]
    },
    {
      "cell_type": "code",
      "metadata": {
        "id": "bHqQwMkoN_PB",
        "colab_type": "code",
        "colab": {
          "base_uri": "https://localhost:8080/",
          "height": 123
        },
        "outputId": "97282958-10e7-489e-e976-d3f47667d48f"
      },
      "source": [
        "tf_idf_df.columns"
      ],
      "execution_count": 44,
      "outputs": [
        {
          "output_type": "execute_result",
          "data": {
            "text/plain": [
              "['Review',\n",
              " 'Liked',\n",
              " 'tokens',\n",
              " 'refined_tokens',\n",
              " 'tf_features',\n",
              " 'tf_idf_features']"
            ]
          },
          "metadata": {
            "tags": []
          },
          "execution_count": 44
        }
      ]
    },
    {
      "cell_type": "code",
      "metadata": {
        "id": "W6tf1Vs-NG3P",
        "colab_type": "code",
        "colab": {
          "base_uri": "https://localhost:8080/",
          "height": 34
        },
        "outputId": "1eae5bbe-7ec5-49ab-d1e7-5f8a098b0707"
      },
      "source": [
        "train_df, test_df = tf_idf_df.randomSplit([0.80, 0.20], seed=0)\n",
        "train_df.count(), test_df.count()"
      ],
      "execution_count": 64,
      "outputs": [
        {
          "output_type": "execute_result",
          "data": {
            "text/plain": [
              "(806, 194)"
            ]
          },
          "metadata": {
            "tags": []
          },
          "execution_count": 64
        }
      ]
    },
    {
      "cell_type": "code",
      "metadata": {
        "id": "efjAADbYIC3C",
        "colab_type": "code",
        "colab": {}
      },
      "source": [
        "from pyspark.ml.classification import LogisticRegression\n",
        "LR = LogisticRegression().setLabelCol('Liked').setFeaturesCol('tf_idf_features').setMaxIter(100)"
      ],
      "execution_count": 0,
      "outputs": []
    },
    {
      "cell_type": "code",
      "metadata": {
        "id": "NnVEib66StsM",
        "colab_type": "code",
        "colab": {}
      },
      "source": [
        "# Fit the pipeline to training documents.\n",
        "model = LR.fit(train_df)\n"
      ],
      "execution_count": 0,
      "outputs": []
    },
    {
      "cell_type": "code",
      "metadata": {
        "id": "dMmsfLDAVKZX",
        "colab_type": "code",
        "colab": {
          "base_uri": "https://localhost:8080/",
          "height": 212
        },
        "outputId": "fc66cbd6-6162-4571-a52f-023277c6ae0e"
      },
      "source": [
        "# Make predictions.\n",
        "predictions = model.transform(test_df)\n",
        "\n",
        "# Select example rows to display.\n",
        "predictions.show(5)"
      ],
      "execution_count": 67,
      "outputs": [
        {
          "output_type": "stream",
          "text": [
            "+--------------------+-----+--------------------+--------------------+--------------------+--------------------+--------------------+--------------------+----------+\n",
            "|              Review|Liked|              tokens|      refined_tokens|         tf_features|     tf_idf_features|       rawPrediction|         probability|prediction|\n",
            "+--------------------+-----+--------------------+--------------------+--------------------+--------------------+--------------------+--------------------+----------+\n",
            "|!....THE OWNERS R...|    0|[the, owners, rea...|[owners, really, ...|(262144,[14,12946...|(262144,[14,12946...|[7.34284573033089...|[0.99935321248107...|       0.0|\n",
            "|* Both the Hot & ...|    1|[both, the, hot, ...|[hot, sour, egg, ...|(262144,[35263,42...|(262144,[35263,42...|[-80.079608881996...|[1.66673958331062...|       1.0|\n",
            "|- They never brou...|    0|[they, never, bro...|[never, brought, ...|(262144,[84488,17...|(262144,[84488,17...|[61.3825137191872...|[1.0,2.1974196632...|       0.0|\n",
            "|After 20 minutes ...|    0|[after, 20, minut...|[20, minutes, wai...|(262144,[31463,15...|(262144,[31463,15...|[6.46634975223676...|[0.99844752280856...|       0.0|\n",
            "|After I pulled up...|    0|[after, i, pulled...|[pulled, car, wai...|(262144,[41733,12...|(262144,[41733,12...|[47.8693957563868...|[1.0,1.6239983025...|       0.0|\n",
            "+--------------------+-----+--------------------+--------------------+--------------------+--------------------+--------------------+--------------------+----------+\n",
            "only showing top 5 rows\n",
            "\n"
          ],
          "name": "stdout"
        }
      ]
    },
    {
      "cell_type": "code",
      "metadata": {
        "id": "Bk9Y5R1OTVWC",
        "colab_type": "code",
        "colab": {}
      },
      "source": [
        "# Select (prediction, true label) and compute test error\n",
        "from pyspark.ml.evaluation import MulticlassClassificationEvaluator\n",
        "evaluator = MulticlassClassificationEvaluator(\n",
        "    labelCol=\"Liked\", predictionCol=\"prediction\", metricName=\"accuracy\")\n",
        "accuracy = evaluator.evaluate(predictions)"
      ],
      "execution_count": 0,
      "outputs": []
    },
    {
      "cell_type": "code",
      "metadata": {
        "id": "z7AAbtnSWAYO",
        "colab_type": "code",
        "colab": {
          "base_uri": "https://localhost:8080/",
          "height": 34
        },
        "outputId": "ce720f18-4e02-4f42-e216-3a69e92ee282"
      },
      "source": [
        "accuracy"
      ],
      "execution_count": 69,
      "outputs": [
        {
          "output_type": "execute_result",
          "data": {
            "text/plain": [
              "0.7422680412371134"
            ]
          },
          "metadata": {
            "tags": []
          },
          "execution_count": 69
        }
      ]
    },
    {
      "cell_type": "code",
      "metadata": {
        "id": "4T_kcyZhUpuF",
        "colab_type": "code",
        "colab": {
          "base_uri": "https://localhost:8080/",
          "height": 478
        },
        "outputId": "c9ebc3e6-48eb-4bd5-e1a4-6b522abc505b"
      },
      "source": [
        "model.summary.roc.show()"
      ],
      "execution_count": 70,
      "outputs": [
        {
          "output_type": "stream",
          "text": [
            "+--------------------+------------------+\n",
            "|                 FPR|               TPR|\n",
            "+--------------------+------------------+\n",
            "|                 0.0|               0.0|\n",
            "|                 0.0| 0.821608040201005|\n",
            "|                 0.0|0.8316582914572864|\n",
            "|                 0.0|0.8417085427135679|\n",
            "|                 0.0|0.8517587939698492|\n",
            "|                 0.0|0.8618090452261307|\n",
            "|                 0.0| 0.871859296482412|\n",
            "|                 0.0|0.8819095477386935|\n",
            "|                 0.0|0.8919597989949749|\n",
            "|                 0.0|0.9020100502512562|\n",
            "|                 0.0|0.9120603015075377|\n",
            "|                 0.0|0.9221105527638191|\n",
            "|                 0.0|0.9321608040201005|\n",
            "|                 0.0|0.9422110552763819|\n",
            "|                 0.0|0.9522613065326633|\n",
            "|                 0.0|0.9623115577889447|\n",
            "|                 0.0|0.9723618090452262|\n",
            "|                 0.0|0.9824120603015075|\n",
            "|                 0.0| 0.992462311557789|\n",
            "|0.002450980392156...|               1.0|\n",
            "+--------------------+------------------+\n",
            "only showing top 20 rows\n",
            "\n"
          ],
          "name": "stdout"
        }
      ]
    },
    {
      "cell_type": "code",
      "metadata": {
        "id": "vUVpXVDpOV0D",
        "colab_type": "code",
        "colab": {}
      },
      "source": [
        "from pyspark.ml import Pipeline\n",
        "# Configure an ML pipeline, which consists of three stages: tokenizer, stopwords, hashingTF, tfidf and lr.\n",
        "regexTokenizer = RegexTokenizer(inputCol=\"Review\", outputCol=\"tokens\", pattern=\"\\\\W\")\n",
        "stopword_removal=StopWordsRemover(inputCol=regexTokenizer.getOutputCol(),outputCol='refined_tokens')\n",
        "hashing_vec=HashingTF(inputCol=stopword_removal.getOutputCol(),outputCol='tf_features')\n",
        "tf_idf_vec=IDF(inputCol=hashing_vec.getOutputCol(),outputCol='tf_idf_features')\n",
        "\n",
        "pipeline = Pipeline(stages=[regexTokenizer, stopword_removal, hashing_vec, tf_idf_vec, LR])"
      ],
      "execution_count": 0,
      "outputs": []
    },
    {
      "cell_type": "code",
      "metadata": {
        "id": "5zbByFnoUyYw",
        "colab_type": "code",
        "colab": {}
      },
      "source": [
        "from pyspark.ml.classification import LinearSVC\n",
        "\n",
        "lsvc = LinearSVC(maxIter=100, regParam=0.1).setLabelCol('Liked').setFeaturesCol('tf_idf_features')\n",
        "\n",
        "modelSV = lsvc.fit(train_df)\n"
      ],
      "execution_count": 0,
      "outputs": []
    },
    {
      "cell_type": "code",
      "metadata": {
        "id": "5k_v6J2BXkRK",
        "colab_type": "code",
        "colab": {
          "base_uri": "https://localhost:8080/",
          "height": 496
        },
        "outputId": "752286aa-638c-4659-fab5-d4f6428c2dfc"
      },
      "source": [
        "predictionsv = modelSV.transform(test_df)\n",
        "accuracy = evaluator.evaluate(predictionsv)\n",
        "print(accuracy)\n",
        "model.summary.roc.show()"
      ],
      "execution_count": 72,
      "outputs": [
        {
          "output_type": "stream",
          "text": [
            "0.7680412371134021\n",
            "+--------------------+------------------+\n",
            "|                 FPR|               TPR|\n",
            "+--------------------+------------------+\n",
            "|                 0.0|               0.0|\n",
            "|                 0.0| 0.821608040201005|\n",
            "|                 0.0|0.8316582914572864|\n",
            "|                 0.0|0.8417085427135679|\n",
            "|                 0.0|0.8517587939698492|\n",
            "|                 0.0|0.8618090452261307|\n",
            "|                 0.0| 0.871859296482412|\n",
            "|                 0.0|0.8819095477386935|\n",
            "|                 0.0|0.8919597989949749|\n",
            "|                 0.0|0.9020100502512562|\n",
            "|                 0.0|0.9120603015075377|\n",
            "|                 0.0|0.9221105527638191|\n",
            "|                 0.0|0.9321608040201005|\n",
            "|                 0.0|0.9422110552763819|\n",
            "|                 0.0|0.9522613065326633|\n",
            "|                 0.0|0.9623115577889447|\n",
            "|                 0.0|0.9723618090452262|\n",
            "|                 0.0|0.9824120603015075|\n",
            "|                 0.0| 0.992462311557789|\n",
            "|0.002450980392156...|               1.0|\n",
            "+--------------------+------------------+\n",
            "only showing top 20 rows\n",
            "\n"
          ],
          "name": "stdout"
        }
      ]
    },
    {
      "cell_type": "code",
      "metadata": {
        "id": "0V1MUPgwYSZZ",
        "colab_type": "code",
        "colab": {}
      },
      "source": [
        ""
      ],
      "execution_count": 0,
      "outputs": []
    }
  ]
}
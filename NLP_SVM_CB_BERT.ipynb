{
  "nbformat": 4,
  "nbformat_minor": 0,
  "metadata": {
    "kernelspec": {
      "name": "python3",
      "display_name": "Python 3"
    },
    "language_info": {
      "pygments_lexer": "ipython3",
      "nbconvert_exporter": "python",
      "version": "3.6.4",
      "file_extension": ".py",
      "codemirror_mode": {
        "name": "ipython",
        "version": 3
      },
      "name": "python",
      "mimetype": "text/x-python"
    },
    "colab": {
      "name": " NLP-SVM-CB-BERT.ipynb",
      "provenance": [],
      "collapsed_sections": [],
      "toc_visible": true,
      "machine_shape": "hm",
      "include_colab_link": true
    },
    "accelerator": "GPU",
    "widgets": {
      "application/vnd.jupyter.widget-state+json": {
        "ebdbb0e7c67a436eb95a2a295246b91e": {
          "model_module": "@jupyter-widgets/controls",
          "model_name": "HBoxModel",
          "state": {
            "_view_name": "HBoxView",
            "_dom_classes": [],
            "_model_name": "HBoxModel",
            "_view_module": "@jupyter-widgets/controls",
            "_model_module_version": "1.5.0",
            "_view_count": null,
            "_view_module_version": "1.5.0",
            "box_style": "",
            "layout": "IPY_MODEL_858b595ca7d34ed69d44e27f781e3574",
            "_model_module": "@jupyter-widgets/controls",
            "children": [
              "IPY_MODEL_532b5aae7d59435bb353ec764e3315b6",
              "IPY_MODEL_2c7c27e2bce94ec8950d37953df9bcc1"
            ]
          }
        },
        "858b595ca7d34ed69d44e27f781e3574": {
          "model_module": "@jupyter-widgets/base",
          "model_name": "LayoutModel",
          "state": {
            "_view_name": "LayoutView",
            "grid_template_rows": null,
            "right": null,
            "justify_content": null,
            "_view_module": "@jupyter-widgets/base",
            "overflow": null,
            "_model_module_version": "1.2.0",
            "_view_count": null,
            "flex_flow": null,
            "width": null,
            "min_width": null,
            "border": null,
            "align_items": null,
            "bottom": null,
            "_model_module": "@jupyter-widgets/base",
            "top": null,
            "grid_column": null,
            "overflow_y": null,
            "overflow_x": null,
            "grid_auto_flow": null,
            "grid_area": null,
            "grid_template_columns": null,
            "flex": null,
            "_model_name": "LayoutModel",
            "justify_items": null,
            "grid_row": null,
            "max_height": null,
            "align_content": null,
            "visibility": null,
            "align_self": null,
            "height": null,
            "min_height": null,
            "padding": null,
            "grid_auto_rows": null,
            "grid_gap": null,
            "max_width": null,
            "order": null,
            "_view_module_version": "1.2.0",
            "grid_template_areas": null,
            "object_position": null,
            "object_fit": null,
            "grid_auto_columns": null,
            "margin": null,
            "display": null,
            "left": null
          }
        },
        "532b5aae7d59435bb353ec764e3315b6": {
          "model_module": "@jupyter-widgets/controls",
          "model_name": "IntProgressModel",
          "state": {
            "_view_name": "ProgressView",
            "style": "IPY_MODEL_fcc6e9ab8b7941d3b429b41a6b41c73a",
            "_dom_classes": [],
            "description": "Downloading",
            "_model_name": "IntProgressModel",
            "bar_style": "success",
            "max": 361,
            "_view_module": "@jupyter-widgets/controls",
            "_model_module_version": "1.5.0",
            "value": 361,
            "_view_count": null,
            "_view_module_version": "1.5.0",
            "orientation": "horizontal",
            "min": 0,
            "description_tooltip": null,
            "_model_module": "@jupyter-widgets/controls",
            "layout": "IPY_MODEL_8be722df7fef4222984b8472fb3e086f"
          }
        },
        "2c7c27e2bce94ec8950d37953df9bcc1": {
          "model_module": "@jupyter-widgets/controls",
          "model_name": "HTMLModel",
          "state": {
            "_view_name": "HTMLView",
            "style": "IPY_MODEL_fc2dced139f948bda4faefc00981b3c0",
            "_dom_classes": [],
            "description": "",
            "_model_name": "HTMLModel",
            "placeholder": "​",
            "_view_module": "@jupyter-widgets/controls",
            "_model_module_version": "1.5.0",
            "value": "100% 361/361 [00:00&lt;00:00, 15.1kB/s]",
            "_view_count": null,
            "_view_module_version": "1.5.0",
            "description_tooltip": null,
            "_model_module": "@jupyter-widgets/controls",
            "layout": "IPY_MODEL_74108abf6d3047f58d25ad803b6984ef"
          }
        },
        "fcc6e9ab8b7941d3b429b41a6b41c73a": {
          "model_module": "@jupyter-widgets/controls",
          "model_name": "ProgressStyleModel",
          "state": {
            "_view_name": "StyleView",
            "_model_name": "ProgressStyleModel",
            "description_width": "initial",
            "_view_module": "@jupyter-widgets/base",
            "_model_module_version": "1.5.0",
            "_view_count": null,
            "_view_module_version": "1.2.0",
            "bar_color": null,
            "_model_module": "@jupyter-widgets/controls"
          }
        },
        "8be722df7fef4222984b8472fb3e086f": {
          "model_module": "@jupyter-widgets/base",
          "model_name": "LayoutModel",
          "state": {
            "_view_name": "LayoutView",
            "grid_template_rows": null,
            "right": null,
            "justify_content": null,
            "_view_module": "@jupyter-widgets/base",
            "overflow": null,
            "_model_module_version": "1.2.0",
            "_view_count": null,
            "flex_flow": null,
            "width": null,
            "min_width": null,
            "border": null,
            "align_items": null,
            "bottom": null,
            "_model_module": "@jupyter-widgets/base",
            "top": null,
            "grid_column": null,
            "overflow_y": null,
            "overflow_x": null,
            "grid_auto_flow": null,
            "grid_area": null,
            "grid_template_columns": null,
            "flex": null,
            "_model_name": "LayoutModel",
            "justify_items": null,
            "grid_row": null,
            "max_height": null,
            "align_content": null,
            "visibility": null,
            "align_self": null,
            "height": null,
            "min_height": null,
            "padding": null,
            "grid_auto_rows": null,
            "grid_gap": null,
            "max_width": null,
            "order": null,
            "_view_module_version": "1.2.0",
            "grid_template_areas": null,
            "object_position": null,
            "object_fit": null,
            "grid_auto_columns": null,
            "margin": null,
            "display": null,
            "left": null
          }
        },
        "fc2dced139f948bda4faefc00981b3c0": {
          "model_module": "@jupyter-widgets/controls",
          "model_name": "DescriptionStyleModel",
          "state": {
            "_view_name": "StyleView",
            "_model_name": "DescriptionStyleModel",
            "description_width": "",
            "_view_module": "@jupyter-widgets/base",
            "_model_module_version": "1.5.0",
            "_view_count": null,
            "_view_module_version": "1.2.0",
            "_model_module": "@jupyter-widgets/controls"
          }
        },
        "74108abf6d3047f58d25ad803b6984ef": {
          "model_module": "@jupyter-widgets/base",
          "model_name": "LayoutModel",
          "state": {
            "_view_name": "LayoutView",
            "grid_template_rows": null,
            "right": null,
            "justify_content": null,
            "_view_module": "@jupyter-widgets/base",
            "overflow": null,
            "_model_module_version": "1.2.0",
            "_view_count": null,
            "flex_flow": null,
            "width": null,
            "min_width": null,
            "border": null,
            "align_items": null,
            "bottom": null,
            "_model_module": "@jupyter-widgets/base",
            "top": null,
            "grid_column": null,
            "overflow_y": null,
            "overflow_x": null,
            "grid_auto_flow": null,
            "grid_area": null,
            "grid_template_columns": null,
            "flex": null,
            "_model_name": "LayoutModel",
            "justify_items": null,
            "grid_row": null,
            "max_height": null,
            "align_content": null,
            "visibility": null,
            "align_self": null,
            "height": null,
            "min_height": null,
            "padding": null,
            "grid_auto_rows": null,
            "grid_gap": null,
            "max_width": null,
            "order": null,
            "_view_module_version": "1.2.0",
            "grid_template_areas": null,
            "object_position": null,
            "object_fit": null,
            "grid_auto_columns": null,
            "margin": null,
            "display": null,
            "left": null
          }
        },
        "311a959213d94d579b89580d8803505d": {
          "model_module": "@jupyter-widgets/controls",
          "model_name": "HBoxModel",
          "state": {
            "_view_name": "HBoxView",
            "_dom_classes": [],
            "_model_name": "HBoxModel",
            "_view_module": "@jupyter-widgets/controls",
            "_model_module_version": "1.5.0",
            "_view_count": null,
            "_view_module_version": "1.5.0",
            "box_style": "",
            "layout": "IPY_MODEL_d8367488a9da4a2dbb3fb5f262a31049",
            "_model_module": "@jupyter-widgets/controls",
            "children": [
              "IPY_MODEL_bbd6dd9a1d0a465690b87d8be9a969e3",
              "IPY_MODEL_d637a1ea8153455d9f15e0c94dc8d523"
            ]
          }
        },
        "d8367488a9da4a2dbb3fb5f262a31049": {
          "model_module": "@jupyter-widgets/base",
          "model_name": "LayoutModel",
          "state": {
            "_view_name": "LayoutView",
            "grid_template_rows": null,
            "right": null,
            "justify_content": null,
            "_view_module": "@jupyter-widgets/base",
            "overflow": null,
            "_model_module_version": "1.2.0",
            "_view_count": null,
            "flex_flow": null,
            "width": null,
            "min_width": null,
            "border": null,
            "align_items": null,
            "bottom": null,
            "_model_module": "@jupyter-widgets/base",
            "top": null,
            "grid_column": null,
            "overflow_y": null,
            "overflow_x": null,
            "grid_auto_flow": null,
            "grid_area": null,
            "grid_template_columns": null,
            "flex": null,
            "_model_name": "LayoutModel",
            "justify_items": null,
            "grid_row": null,
            "max_height": null,
            "align_content": null,
            "visibility": null,
            "align_self": null,
            "height": null,
            "min_height": null,
            "padding": null,
            "grid_auto_rows": null,
            "grid_gap": null,
            "max_width": null,
            "order": null,
            "_view_module_version": "1.2.0",
            "grid_template_areas": null,
            "object_position": null,
            "object_fit": null,
            "grid_auto_columns": null,
            "margin": null,
            "display": null,
            "left": null
          }
        },
        "bbd6dd9a1d0a465690b87d8be9a969e3": {
          "model_module": "@jupyter-widgets/controls",
          "model_name": "IntProgressModel",
          "state": {
            "_view_name": "ProgressView",
            "style": "IPY_MODEL_b94299904ef64a6099527b767b6c953e",
            "_dom_classes": [],
            "description": "Downloading",
            "_model_name": "IntProgressModel",
            "bar_style": "success",
            "max": 440473133,
            "_view_module": "@jupyter-widgets/controls",
            "_model_module_version": "1.5.0",
            "value": 440473133,
            "_view_count": null,
            "_view_module_version": "1.5.0",
            "orientation": "horizontal",
            "min": 0,
            "description_tooltip": null,
            "_model_module": "@jupyter-widgets/controls",
            "layout": "IPY_MODEL_126f4307318c4a319346fee9a69a6450"
          }
        },
        "d637a1ea8153455d9f15e0c94dc8d523": {
          "model_module": "@jupyter-widgets/controls",
          "model_name": "HTMLModel",
          "state": {
            "_view_name": "HTMLView",
            "style": "IPY_MODEL_783b98b6bcf14da6b61b98eec429aee3",
            "_dom_classes": [],
            "description": "",
            "_model_name": "HTMLModel",
            "placeholder": "​",
            "_view_module": "@jupyter-widgets/controls",
            "_model_module_version": "1.5.0",
            "value": "100% 440M/440M [00:08&lt;00:00, 53.7MB/s]",
            "_view_count": null,
            "_view_module_version": "1.5.0",
            "description_tooltip": null,
            "_model_module": "@jupyter-widgets/controls",
            "layout": "IPY_MODEL_34ce35144e5649f5a39f8e196826730d"
          }
        },
        "b94299904ef64a6099527b767b6c953e": {
          "model_module": "@jupyter-widgets/controls",
          "model_name": "ProgressStyleModel",
          "state": {
            "_view_name": "StyleView",
            "_model_name": "ProgressStyleModel",
            "description_width": "initial",
            "_view_module": "@jupyter-widgets/base",
            "_model_module_version": "1.5.0",
            "_view_count": null,
            "_view_module_version": "1.2.0",
            "bar_color": null,
            "_model_module": "@jupyter-widgets/controls"
          }
        },
        "126f4307318c4a319346fee9a69a6450": {
          "model_module": "@jupyter-widgets/base",
          "model_name": "LayoutModel",
          "state": {
            "_view_name": "LayoutView",
            "grid_template_rows": null,
            "right": null,
            "justify_content": null,
            "_view_module": "@jupyter-widgets/base",
            "overflow": null,
            "_model_module_version": "1.2.0",
            "_view_count": null,
            "flex_flow": null,
            "width": null,
            "min_width": null,
            "border": null,
            "align_items": null,
            "bottom": null,
            "_model_module": "@jupyter-widgets/base",
            "top": null,
            "grid_column": null,
            "overflow_y": null,
            "overflow_x": null,
            "grid_auto_flow": null,
            "grid_area": null,
            "grid_template_columns": null,
            "flex": null,
            "_model_name": "LayoutModel",
            "justify_items": null,
            "grid_row": null,
            "max_height": null,
            "align_content": null,
            "visibility": null,
            "align_self": null,
            "height": null,
            "min_height": null,
            "padding": null,
            "grid_auto_rows": null,
            "grid_gap": null,
            "max_width": null,
            "order": null,
            "_view_module_version": "1.2.0",
            "grid_template_areas": null,
            "object_position": null,
            "object_fit": null,
            "grid_auto_columns": null,
            "margin": null,
            "display": null,
            "left": null
          }
        },
        "783b98b6bcf14da6b61b98eec429aee3": {
          "model_module": "@jupyter-widgets/controls",
          "model_name": "DescriptionStyleModel",
          "state": {
            "_view_name": "StyleView",
            "_model_name": "DescriptionStyleModel",
            "description_width": "",
            "_view_module": "@jupyter-widgets/base",
            "_model_module_version": "1.5.0",
            "_view_count": null,
            "_view_module_version": "1.2.0",
            "_model_module": "@jupyter-widgets/controls"
          }
        },
        "34ce35144e5649f5a39f8e196826730d": {
          "model_module": "@jupyter-widgets/base",
          "model_name": "LayoutModel",
          "state": {
            "_view_name": "LayoutView",
            "grid_template_rows": null,
            "right": null,
            "justify_content": null,
            "_view_module": "@jupyter-widgets/base",
            "overflow": null,
            "_model_module_version": "1.2.0",
            "_view_count": null,
            "flex_flow": null,
            "width": null,
            "min_width": null,
            "border": null,
            "align_items": null,
            "bottom": null,
            "_model_module": "@jupyter-widgets/base",
            "top": null,
            "grid_column": null,
            "overflow_y": null,
            "overflow_x": null,
            "grid_auto_flow": null,
            "grid_area": null,
            "grid_template_columns": null,
            "flex": null,
            "_model_name": "LayoutModel",
            "justify_items": null,
            "grid_row": null,
            "max_height": null,
            "align_content": null,
            "visibility": null,
            "align_self": null,
            "height": null,
            "min_height": null,
            "padding": null,
            "grid_auto_rows": null,
            "grid_gap": null,
            "max_width": null,
            "order": null,
            "_view_module_version": "1.2.0",
            "grid_template_areas": null,
            "object_position": null,
            "object_fit": null,
            "grid_auto_columns": null,
            "margin": null,
            "display": null,
            "left": null
          }
        },
        "9e431bf9fd864a7788a969fbb9310584": {
          "model_module": "@jupyter-widgets/controls",
          "model_name": "HBoxModel",
          "state": {
            "_view_name": "HBoxView",
            "_dom_classes": [],
            "_model_name": "HBoxModel",
            "_view_module": "@jupyter-widgets/controls",
            "_model_module_version": "1.5.0",
            "_view_count": null,
            "_view_module_version": "1.5.0",
            "box_style": "",
            "layout": "IPY_MODEL_44f2a50157ad4ff8b26ae7d2abedb3ca",
            "_model_module": "@jupyter-widgets/controls",
            "children": [
              "IPY_MODEL_7a514bf923cb4e90b4474b0e7d451b6b",
              "IPY_MODEL_8dbace098b884352861e2bb7271fa438"
            ]
          }
        },
        "44f2a50157ad4ff8b26ae7d2abedb3ca": {
          "model_module": "@jupyter-widgets/base",
          "model_name": "LayoutModel",
          "state": {
            "_view_name": "LayoutView",
            "grid_template_rows": null,
            "right": null,
            "justify_content": null,
            "_view_module": "@jupyter-widgets/base",
            "overflow": null,
            "_model_module_version": "1.2.0",
            "_view_count": null,
            "flex_flow": null,
            "width": null,
            "min_width": null,
            "border": null,
            "align_items": null,
            "bottom": null,
            "_model_module": "@jupyter-widgets/base",
            "top": null,
            "grid_column": null,
            "overflow_y": null,
            "overflow_x": null,
            "grid_auto_flow": null,
            "grid_area": null,
            "grid_template_columns": null,
            "flex": null,
            "_model_name": "LayoutModel",
            "justify_items": null,
            "grid_row": null,
            "max_height": null,
            "align_content": null,
            "visibility": null,
            "align_self": null,
            "height": null,
            "min_height": null,
            "padding": null,
            "grid_auto_rows": null,
            "grid_gap": null,
            "max_width": null,
            "order": null,
            "_view_module_version": "1.2.0",
            "grid_template_areas": null,
            "object_position": null,
            "object_fit": null,
            "grid_auto_columns": null,
            "margin": null,
            "display": null,
            "left": null
          }
        },
        "7a514bf923cb4e90b4474b0e7d451b6b": {
          "model_module": "@jupyter-widgets/controls",
          "model_name": "IntProgressModel",
          "state": {
            "_view_name": "ProgressView",
            "style": "IPY_MODEL_aa53e27a812b4cc48a4220a728cc74b1",
            "_dom_classes": [],
            "description": "Downloading",
            "_model_name": "IntProgressModel",
            "bar_style": "success",
            "max": 231508,
            "_view_module": "@jupyter-widgets/controls",
            "_model_module_version": "1.5.0",
            "value": 231508,
            "_view_count": null,
            "_view_module_version": "1.5.0",
            "orientation": "horizontal",
            "min": 0,
            "description_tooltip": null,
            "_model_module": "@jupyter-widgets/controls",
            "layout": "IPY_MODEL_aa52d4e1f8f646e58fb4286c42fa1499"
          }
        },
        "8dbace098b884352861e2bb7271fa438": {
          "model_module": "@jupyter-widgets/controls",
          "model_name": "HTMLModel",
          "state": {
            "_view_name": "HTMLView",
            "style": "IPY_MODEL_9284e0fe286c4d7a869ca9ed54b2484a",
            "_dom_classes": [],
            "description": "",
            "_model_name": "HTMLModel",
            "placeholder": "​",
            "_view_module": "@jupyter-widgets/controls",
            "_model_module_version": "1.5.0",
            "value": "100% 232k/232k [00:00&lt;00:00, 4.40MB/s]",
            "_view_count": null,
            "_view_module_version": "1.5.0",
            "description_tooltip": null,
            "_model_module": "@jupyter-widgets/controls",
            "layout": "IPY_MODEL_f668b23552fd40449e819da948017631"
          }
        },
        "aa53e27a812b4cc48a4220a728cc74b1": {
          "model_module": "@jupyter-widgets/controls",
          "model_name": "ProgressStyleModel",
          "state": {
            "_view_name": "StyleView",
            "_model_name": "ProgressStyleModel",
            "description_width": "initial",
            "_view_module": "@jupyter-widgets/base",
            "_model_module_version": "1.5.0",
            "_view_count": null,
            "_view_module_version": "1.2.0",
            "bar_color": null,
            "_model_module": "@jupyter-widgets/controls"
          }
        },
        "aa52d4e1f8f646e58fb4286c42fa1499": {
          "model_module": "@jupyter-widgets/base",
          "model_name": "LayoutModel",
          "state": {
            "_view_name": "LayoutView",
            "grid_template_rows": null,
            "right": null,
            "justify_content": null,
            "_view_module": "@jupyter-widgets/base",
            "overflow": null,
            "_model_module_version": "1.2.0",
            "_view_count": null,
            "flex_flow": null,
            "width": null,
            "min_width": null,
            "border": null,
            "align_items": null,
            "bottom": null,
            "_model_module": "@jupyter-widgets/base",
            "top": null,
            "grid_column": null,
            "overflow_y": null,
            "overflow_x": null,
            "grid_auto_flow": null,
            "grid_area": null,
            "grid_template_columns": null,
            "flex": null,
            "_model_name": "LayoutModel",
            "justify_items": null,
            "grid_row": null,
            "max_height": null,
            "align_content": null,
            "visibility": null,
            "align_self": null,
            "height": null,
            "min_height": null,
            "padding": null,
            "grid_auto_rows": null,
            "grid_gap": null,
            "max_width": null,
            "order": null,
            "_view_module_version": "1.2.0",
            "grid_template_areas": null,
            "object_position": null,
            "object_fit": null,
            "grid_auto_columns": null,
            "margin": null,
            "display": null,
            "left": null
          }
        },
        "9284e0fe286c4d7a869ca9ed54b2484a": {
          "model_module": "@jupyter-widgets/controls",
          "model_name": "DescriptionStyleModel",
          "state": {
            "_view_name": "StyleView",
            "_model_name": "DescriptionStyleModel",
            "description_width": "",
            "_view_module": "@jupyter-widgets/base",
            "_model_module_version": "1.5.0",
            "_view_count": null,
            "_view_module_version": "1.2.0",
            "_model_module": "@jupyter-widgets/controls"
          }
        },
        "f668b23552fd40449e819da948017631": {
          "model_module": "@jupyter-widgets/base",
          "model_name": "LayoutModel",
          "state": {
            "_view_name": "LayoutView",
            "grid_template_rows": null,
            "right": null,
            "justify_content": null,
            "_view_module": "@jupyter-widgets/base",
            "overflow": null,
            "_model_module_version": "1.2.0",
            "_view_count": null,
            "flex_flow": null,
            "width": null,
            "min_width": null,
            "border": null,
            "align_items": null,
            "bottom": null,
            "_model_module": "@jupyter-widgets/base",
            "top": null,
            "grid_column": null,
            "overflow_y": null,
            "overflow_x": null,
            "grid_auto_flow": null,
            "grid_area": null,
            "grid_template_columns": null,
            "flex": null,
            "_model_name": "LayoutModel",
            "justify_items": null,
            "grid_row": null,
            "max_height": null,
            "align_content": null,
            "visibility": null,
            "align_self": null,
            "height": null,
            "min_height": null,
            "padding": null,
            "grid_auto_rows": null,
            "grid_gap": null,
            "max_width": null,
            "order": null,
            "_view_module_version": "1.2.0",
            "grid_template_areas": null,
            "object_position": null,
            "object_fit": null,
            "grid_auto_columns": null,
            "margin": null,
            "display": null,
            "left": null
          }
        }
      }
    }
  },
  "cells": [
    {
      "cell_type": "markdown",
      "metadata": {
        "id": "view-in-github",
        "colab_type": "text"
      },
      "source": [
        "<a href=\"https://colab.research.google.com/github/kshitijmamgain/NLP/blob/master/NLP_SVM_CB_BERT.ipynb\" target=\"_parent\"><img src=\"https://colab.research.google.com/assets/colab-badge.svg\" alt=\"Open In Colab\"/></a>"
      ]
    },
    {
      "cell_type": "code",
      "metadata": {
        "_uuid": "8f2839f25d086af736a60e9eeb907d3b93b6e0e5",
        "_cell_guid": "b1076dfc-b9ad-4769-8c92-a6c4dae69d19",
        "trusted": true,
        "id": "QMqCy5VOaC70",
        "colab_type": "code",
        "outputId": "bfc70cbe-be92-4937-e6d0-8635ed3a5a77",
        "colab": {}
      },
      "source": [
        "# This Python 3 environment comes with many helpful analytics libraries installed\n",
        "# It is defined by the kaggle/python docker image: https://github.com/kaggle/docker-python\n",
        "# For example, here's several helpful packages to load in \n",
        "\n",
        "import numpy as np # linear algebra\n",
        "import pandas as pd # data processing, CSV file I/O (e.g. pd.read_csv)\n",
        "\n",
        "# Input data files are available in the \"../input/\" directory.\n",
        "# For example, running this (by clicking run or pressing Shift+Enter) will list all files under the input directory\n",
        "\n",
        "import os\n",
        "for dirname, _, filenames in os.walk('/kaggle/input'):\n",
        "    for filename in filenames:\n",
        "        print(os.path.join(dirname, filename))\n",
        "\n",
        "# Any results you write to the current directory are saved as output."
      ],
      "execution_count": 0,
      "outputs": [
        {
          "output_type": "stream",
          "text": [
            "/kaggle/input/nlp-getting-started/train.csv\n",
            "/kaggle/input/nlp-getting-started/test.csv\n",
            "/kaggle/input/nlp-getting-started/sample_submission.csv\n"
          ],
          "name": "stdout"
        }
      ]
    },
    {
      "cell_type": "code",
      "metadata": {
        "id": "9JssgtFpdUAH",
        "colab_type": "code",
        "colab": {}
      },
      "source": [
        "import pandas as pd\n",
        "import numpy as np\n",
        "from torch.utils.data import Dataset, DataLoader\n",
        "from sklearn.model_selection import train_test_split"
      ],
      "execution_count": 0,
      "outputs": []
    },
    {
      "cell_type": "code",
      "metadata": {
        "_uuid": "d629ff2d2480ee46fbb7e2d37f6b5fab8052498a",
        "_cell_guid": "79c7e3d0-c299-4dcb-8224-4455121ee9b0",
        "trusted": true,
        "id": "_wYO0_8saC9F",
        "colab_type": "code",
        "outputId": "75a57d78-8f6a-46a7-a53a-9f5d85191ced",
        "colab": {
          "base_uri": "https://localhost:8080/",
          "height": 197
        }
      },
      "source": [
        "tweet = pd.read_csv('train.csv')\n",
        "tweet.head()"
      ],
      "execution_count": 0,
      "outputs": [
        {
          "output_type": "execute_result",
          "data": {
            "text/html": [
              "<div>\n",
              "<style scoped>\n",
              "    .dataframe tbody tr th:only-of-type {\n",
              "        vertical-align: middle;\n",
              "    }\n",
              "\n",
              "    .dataframe tbody tr th {\n",
              "        vertical-align: top;\n",
              "    }\n",
              "\n",
              "    .dataframe thead th {\n",
              "        text-align: right;\n",
              "    }\n",
              "</style>\n",
              "<table border=\"1\" class=\"dataframe\">\n",
              "  <thead>\n",
              "    <tr style=\"text-align: right;\">\n",
              "      <th></th>\n",
              "      <th>id</th>\n",
              "      <th>keyword</th>\n",
              "      <th>location</th>\n",
              "      <th>text</th>\n",
              "      <th>target</th>\n",
              "    </tr>\n",
              "  </thead>\n",
              "  <tbody>\n",
              "    <tr>\n",
              "      <th>0</th>\n",
              "      <td>1</td>\n",
              "      <td>NaN</td>\n",
              "      <td>NaN</td>\n",
              "      <td>Our Deeds are the Reason of this #earthquake M...</td>\n",
              "      <td>1</td>\n",
              "    </tr>\n",
              "    <tr>\n",
              "      <th>1</th>\n",
              "      <td>4</td>\n",
              "      <td>NaN</td>\n",
              "      <td>NaN</td>\n",
              "      <td>Forest fire near La Ronge Sask. Canada</td>\n",
              "      <td>1</td>\n",
              "    </tr>\n",
              "    <tr>\n",
              "      <th>2</th>\n",
              "      <td>5</td>\n",
              "      <td>NaN</td>\n",
              "      <td>NaN</td>\n",
              "      <td>All residents asked to 'shelter in place' are ...</td>\n",
              "      <td>1</td>\n",
              "    </tr>\n",
              "    <tr>\n",
              "      <th>3</th>\n",
              "      <td>6</td>\n",
              "      <td>NaN</td>\n",
              "      <td>NaN</td>\n",
              "      <td>13,000 people receive #wildfires evacuation or...</td>\n",
              "      <td>1</td>\n",
              "    </tr>\n",
              "    <tr>\n",
              "      <th>4</th>\n",
              "      <td>7</td>\n",
              "      <td>NaN</td>\n",
              "      <td>NaN</td>\n",
              "      <td>Just got sent this photo from Ruby #Alaska as ...</td>\n",
              "      <td>1</td>\n",
              "    </tr>\n",
              "  </tbody>\n",
              "</table>\n",
              "</div>"
            ],
            "text/plain": [
              "   id keyword  ...                                               text target\n",
              "0   1     NaN  ...  Our Deeds are the Reason of this #earthquake M...      1\n",
              "1   4     NaN  ...             Forest fire near La Ronge Sask. Canada      1\n",
              "2   5     NaN  ...  All residents asked to 'shelter in place' are ...      1\n",
              "3   6     NaN  ...  13,000 people receive #wildfires evacuation or...      1\n",
              "4   7     NaN  ...  Just got sent this photo from Ruby #Alaska as ...      1\n",
              "\n",
              "[5 rows x 5 columns]"
            ]
          },
          "metadata": {
            "tags": []
          },
          "execution_count": 2
        }
      ]
    },
    {
      "cell_type": "markdown",
      "metadata": {
        "id": "5ICn4jpAFmei",
        "colab_type": "text"
      },
      "source": [
        "# New Section"
      ]
    },
    {
      "cell_type": "markdown",
      "metadata": {
        "id": "EVNWilcqaC9o",
        "colab_type": "text"
      },
      "source": [
        "### Data Exploration\n",
        "We see 3 columns let us find the information on the data"
      ]
    },
    {
      "cell_type": "code",
      "metadata": {
        "trusted": true,
        "id": "RYL6Gnx7aC9y",
        "colab_type": "code",
        "colab": {}
      },
      "source": [
        "import matplotlib.pyplot as plt\n",
        "import seaborn as sns\n",
        "from sklearn.model_selection import train_test_split"
      ],
      "execution_count": 0,
      "outputs": []
    },
    {
      "cell_type": "code",
      "metadata": {
        "trusted": true,
        "id": "GV4pgDGsaC-O",
        "colab_type": "code",
        "outputId": "5aa5f6ec-729d-4f52-e8e5-bbdae6896e60",
        "colab": {
          "base_uri": "https://localhost:8080/",
          "height": 535
        }
      },
      "source": [
        "plt.figure(figsize = (12,8))\n",
        "sns.countplot(tweet['target'])\n",
        "plt.title(\"Real or not count\", size = 16)\n",
        "plt.xlabel(xlabel='Two target categories', size = 12)\n",
        "plt.ylabel(ylabel='Number of reviews', size = 12)"
      ],
      "execution_count": 0,
      "outputs": [
        {
          "output_type": "execute_result",
          "data": {
            "text/plain": [
              "Text(0, 0.5, 'Number of reviews')"
            ]
          },
          "metadata": {
            "tags": []
          },
          "execution_count": 4
        },
        {
          "output_type": "display_data",
          "data": {
            "image/png": "[encoded data removed]",
            "text/plain": [
              "<Figure size 864x576 with 1 Axes>"
            ]
          },
          "metadata": {
            "tags": []
          }
        }
      ]
    },
    {
      "cell_type": "markdown",
      "metadata": {
        "id": "GdBDj7iuaC-y",
        "colab_type": "text"
      },
      "source": [
        "Let us find out if the text length is of any significance in identifying the fake or real"
      ]
    },
    {
      "cell_type": "code",
      "metadata": {
        "trusted": true,
        "id": "iDWBlrS9aC_D",
        "colab_type": "code",
        "outputId": "890618fd-080d-4fd1-ae2b-41e7d2144307",
        "colab": {
          "base_uri": "https://localhost:8080/",
          "height": 70
        }
      },
      "source": [
        "tweet['target'].value_counts()"
      ],
      "execution_count": 0,
      "outputs": [
        {
          "output_type": "execute_result",
          "data": {
            "text/plain": [
              "0    4342\n",
              "1    3271\n",
              "Name: target, dtype: int64"
            ]
          },
          "metadata": {
            "tags": []
          },
          "execution_count": 5
        }
      ]
    },
    {
      "cell_type": "code",
      "metadata": {
        "trusted": true,
        "id": "x8B6itCQaC_m",
        "colab_type": "code",
        "outputId": "11e10371-59af-48b2-8e82-4ffb5f9bf6a4",
        "colab": {
          "base_uri": "https://localhost:8080/",
          "height": 538
        }
      },
      "source": [
        "plt.figure(figsize = (12,8))\n",
        "sns.distplot(tweet[tweet['target']==0]['text'].apply(lambda x: len(x)), bins = 100, label = \"Target 0\")\n",
        "sns.distplot(tweet[tweet['target']==1]['text'].apply(lambda x: len(x)), bins = 100, label = \"Target 1\")\n",
        "plt.title(\"Distribution of length of two label from length between {} to {} words\".format(min(tweet['text'].apply(lambda x: len(x))),\n",
        "                                                                            max(tweet['text'].apply(lambda x: len(x)))), size = 20)\n",
        "plt.legend()\n",
        "plt.axvline(x = np.mean(tweet[tweet['target']==0]['text'].apply(lambda x: len(x))), color = 'blue')\n",
        "plt.axvline(x = np.mean(tweet[tweet['target']==1]['text'].apply(lambda x: len(x))), color = 'red')\n",
        "\n",
        "plt.xlabel(xlabel='Word count in each tweet', size = 12)"
      ],
      "execution_count": 0,
      "outputs": [
        {
          "output_type": "execute_result",
          "data": {
            "text/plain": [
              "Text(0.5, 0, 'Word count in each tweet')"
            ]
          },
          "metadata": {
            "tags": []
          },
          "execution_count": 6
        },
        {
          "output_type": "display_data",
          "data": {
            "image/png": "[encoded data removed]",
            "text/plain": [
              "<Figure size 864x576 with 1 Axes>"
            ]
          },
          "metadata": {
            "tags": []
          }
        }
      ]
    },
    {
      "cell_type": "code",
      "metadata": {
        "trusted": true,
        "id": "L7ZVKcb3aDAU",
        "colab_type": "code",
        "outputId": "04571ad6-1dfd-4f11-8985-f337464c3396",
        "colab": {
          "base_uri": "https://localhost:8080/",
          "height": 426
        }
      },
      "source": [
        "\n",
        "import numpy as np \n",
        "\n",
        "plt.figure(figsize = (10,6))\n",
        "sns.distplot(tweet[tweet['target']==0]['text'].apply(lambda x: np.log(len(x))), bins = 50, label = \"target 0\")\n",
        "sns.distplot(tweet[tweet['target']==1]['text'].apply(lambda x: np.log(len(x))), bins = 50, label = \"target 1\")\n",
        "plt.title(\"Log distribution of length of two label\", size = 20)\n",
        "plt.legend()\n",
        "plt.axvline(x = np.mean(tweet[tweet['target']==0]['text'].apply(lambda x: np.log(len(x)))), color = 'blue')\n",
        "plt.axvline(x = np.mean(tweet[tweet['target']==1]['text'].apply(lambda x: np.log(len(x)))), color = 'red')"
      ],
      "execution_count": 0,
      "outputs": [
        {
          "output_type": "execute_result",
          "data": {
            "text/plain": [
              "<matplotlib.lines.Line2D at 0x7f3cb8dea0f0>"
            ]
          },
          "metadata": {
            "tags": []
          },
          "execution_count": 7
        },
        {
          "output_type": "display_data",
          "data": {
            "image/png": "[encoded data removed]",
            "text/plain": [
              "<Figure size 720x432 with 1 Axes>"
            ]
          },
          "metadata": {
            "tags": []
          }
        }
      ]
    },
    {
      "cell_type": "markdown",
      "metadata": {
        "id": "Zrr9B2p7aDA0",
        "colab_type": "text"
      },
      "source": [
        "Let us apply t-test to see whether the difference is of any statistical significance"
      ]
    },
    {
      "cell_type": "code",
      "metadata": {
        "trusted": true,
        "id": "2vaO7ya4aDA7",
        "colab_type": "code",
        "outputId": "2670834d-eade-4f24-fa24-3377ba720c0f",
        "colab": {
          "base_uri": "https://localhost:8080/",
          "height": 34
        }
      },
      "source": [
        "import numpy as np\n",
        "from scipy.stats import ttest_ind, ttest_ind_from_stats\n",
        "from scipy.special import stdtr\n",
        "a = tweet[tweet['target']==0]['text'].apply(lambda x: np.log(len(x))).values\n",
        "b = tweet[tweet['target']==1]['text'].apply(lambda x: np.log(len(x))).values\n",
        "ttest_ind(a, b, axis=0, equal_var=False, nan_policy='omit')"
      ],
      "execution_count": 0,
      "outputs": [
        {
          "output_type": "execute_result",
          "data": {
            "text/plain": [
              "Ttest_indResult(statistic=-17.83654210505307, pvalue=9.758383661861326e-70)"
            ]
          },
          "metadata": {
            "tags": []
          },
          "execution_count": 8
        }
      ]
    },
    {
      "cell_type": "markdown",
      "metadata": {
        "id": "COZ1PldbaDBT",
        "colab_type": "text"
      },
      "source": [
        "The t-test proves that it could be good idea to put the length of the tweet as a feature for prediction let us try to plot the confidence interval"
      ]
    },
    {
      "cell_type": "code",
      "metadata": {
        "trusted": true,
        "id": "EkBYPAPvaDBb",
        "colab_type": "code",
        "outputId": "d468e5b3-e58f-4620-fc13-4fbb82179f59",
        "colab": {
          "base_uri": "https://localhost:8080/",
          "height": 538
        }
      },
      "source": [
        "# t-test for independent variables with unequal variance\n",
        "import statsmodels.stats.weightstats as ws\n",
        "means = ws.CompareMeans(ws.DescrStatsW(a), ws.DescrStatsW(b))\n",
        "confint = means.tconfint_diff(alpha=0.01, alternative='two-sided', usevar='unequal') # confidence with 95%\n",
        "degfree = means.dof_satt()\n",
        "\n",
        "plt.figure(figsize = (12,8))\n",
        "plt.hist(tweet[tweet['target']==0]['text'].apply(lambda x: len(x)), bins = 100, label = \"Target 0\", alpha = 0.5)\n",
        "plt.hist(tweet[tweet['target']==1]['text'].apply(lambda x: len(x)), bins = 100, label = \"Target 1\", alpha = 0.5)\n",
        "plt.title(\"Tweet length between {} to {} words\".format(min(tweet['text'].apply(lambda x: len(x))),\n",
        "                                                                            max(tweet['text'].apply(lambda x: len(x)))), size = 20)\n",
        "plt.legend()\n",
        "plt.axvline(x = np.mean(tweet[tweet['target']==0]['text'].apply(lambda x: len(x))), color = 'blue', alpha = 0.5)\n",
        "plt.axvline(x = np.mean(tweet[tweet['target']==1]['text'].apply(lambda x: len(x))), color = 'red', alpha = 0.5)\n",
        "# adding confidence interval\n",
        "plt.axvline(x = (np.mean(tweet[tweet['target']==1]['text'].apply(lambda x: len(x)))-confint[1]), color = 'red',\n",
        "            linestyle='--',alpha = 0.5)\n",
        "plt.axvline(x = (np.mean(tweet[tweet['target']==1]['text'].apply(lambda x: len(x)))+confint[0]), color = 'red',\n",
        "            linestyle='--',alpha = 0.5)\n",
        "plt.xlabel(xlabel='Word count in each tweet', size = 12)"
      ],
      "execution_count": 0,
      "outputs": [
        {
          "output_type": "execute_result",
          "data": {
            "text/plain": [
              "Text(0.5, 0, 'Word count in each tweet')"
            ]
          },
          "metadata": {
            "tags": []
          },
          "execution_count": 9
        },
        {
          "output_type": "display_data",
          "data": {
            "image/png": "[encoded data removed]",
            "text/plain": [
              "<Figure size 864x576 with 1 Axes>"
            ]
          },
          "metadata": {
            "tags": []
          }
        }
      ]
    },
    {
      "cell_type": "markdown",
      "metadata": {
        "id": "H0Y5Q5ivaDB5",
        "colab_type": "text"
      },
      "source": [
        "Stats tell us that it would be a good idea to keep length as feature. Let us also try to visualize this with boxplot"
      ]
    },
    {
      "cell_type": "code",
      "metadata": {
        "trusted": true,
        "id": "1zhOrvBsaDB_",
        "colab_type": "code",
        "outputId": "9c650a8c-20c8-43b6-95aa-455463d262c8",
        "colab": {
          "base_uri": "https://localhost:8080/",
          "height": 423
        }
      },
      "source": [
        "plt.figure(figsize = (10,6))\n",
        "sns.boxplot(x = 'target', y = tweet['text'].apply(lambda x: len(x)), data = tweet)\n",
        "plt.title(\"Boxplot visualization for 2 target classes\", size = 16)"
      ],
      "execution_count": 0,
      "outputs": [
        {
          "output_type": "execute_result",
          "data": {
            "text/plain": [
              "Text(0.5, 1.0, 'Boxplot visualization for 2 target classes')"
            ]
          },
          "metadata": {
            "tags": []
          },
          "execution_count": 10
        },
        {
          "output_type": "display_data",
          "data": {
            "image/png": "[encoded data removed]",
            "text/plain": [
              "<Figure size 720x432 with 1 Axes>"
            ]
          },
          "metadata": {
            "tags": []
          }
        }
      ]
    },
    {
      "cell_type": "markdown",
      "metadata": {
        "id": "7gKrOHxpaDCX",
        "colab_type": "text"
      },
      "source": [
        "Seeing the distribution and the statistics let us add the tweet length as one of the features"
      ]
    },
    {
      "cell_type": "markdown",
      "metadata": {
        "id": "NGEWl8WuaDDJ",
        "colab_type": "text"
      },
      "source": [
        "#### Data Preprocessing"
      ]
    },
    {
      "cell_type": "code",
      "metadata": {
        "trusted": true,
        "id": "UZgl8yroaDDO",
        "colab_type": "code",
        "colab": {}
      },
      "source": [
        "def twt_length(text_col):\n",
        "    return text_col.apply(lambda x: len(x))    "
      ],
      "execution_count": 0,
      "outputs": []
    },
    {
      "cell_type": "code",
      "metadata": {
        "trusted": true,
        "id": "gIgLZn8caDDq",
        "colab_type": "code",
        "colab": {}
      },
      "source": [
        "tweet['length'] = twt_length(tweet['text'])"
      ],
      "execution_count": 0,
      "outputs": []
    },
    {
      "cell_type": "code",
      "metadata": {
        "trusted": true,
        "id": "JofLhaH7aDD8",
        "colab_type": "code",
        "outputId": "62a28888-5f93-415d-d625-4462731f6047",
        "colab": {
          "base_uri": "https://localhost:8080/",
          "height": 197
        }
      },
      "source": [
        "tweet.head()"
      ],
      "execution_count": 0,
      "outputs": [
        {
          "output_type": "execute_result",
          "data": {
            "text/html": [
              "<div>\n",
              "<style scoped>\n",
              "    .dataframe tbody tr th:only-of-type {\n",
              "        vertical-align: middle;\n",
              "    }\n",
              "\n",
              "    .dataframe tbody tr th {\n",
              "        vertical-align: top;\n",
              "    }\n",
              "\n",
              "    .dataframe thead th {\n",
              "        text-align: right;\n",
              "    }\n",
              "</style>\n",
              "<table border=\"1\" class=\"dataframe\">\n",
              "  <thead>\n",
              "    <tr style=\"text-align: right;\">\n",
              "      <th></th>\n",
              "      <th>id</th>\n",
              "      <th>keyword</th>\n",
              "      <th>location</th>\n",
              "      <th>text</th>\n",
              "      <th>target</th>\n",
              "      <th>length</th>\n",
              "    </tr>\n",
              "  </thead>\n",
              "  <tbody>\n",
              "    <tr>\n",
              "      <th>0</th>\n",
              "      <td>1</td>\n",
              "      <td>NaN</td>\n",
              "      <td>NaN</td>\n",
              "      <td>Our Deeds are the Reason of this #earthquake M...</td>\n",
              "      <td>1</td>\n",
              "      <td>69</td>\n",
              "    </tr>\n",
              "    <tr>\n",
              "      <th>1</th>\n",
              "      <td>4</td>\n",
              "      <td>NaN</td>\n",
              "      <td>NaN</td>\n",
              "      <td>Forest fire near La Ronge Sask. Canada</td>\n",
              "      <td>1</td>\n",
              "      <td>38</td>\n",
              "    </tr>\n",
              "    <tr>\n",
              "      <th>2</th>\n",
              "      <td>5</td>\n",
              "      <td>NaN</td>\n",
              "      <td>NaN</td>\n",
              "      <td>All residents asked to 'shelter in place' are ...</td>\n",
              "      <td>1</td>\n",
              "      <td>133</td>\n",
              "    </tr>\n",
              "    <tr>\n",
              "      <th>3</th>\n",
              "      <td>6</td>\n",
              "      <td>NaN</td>\n",
              "      <td>NaN</td>\n",
              "      <td>13,000 people receive #wildfires evacuation or...</td>\n",
              "      <td>1</td>\n",
              "      <td>65</td>\n",
              "    </tr>\n",
              "    <tr>\n",
              "      <th>4</th>\n",
              "      <td>7</td>\n",
              "      <td>NaN</td>\n",
              "      <td>NaN</td>\n",
              "      <td>Just got sent this photo from Ruby #Alaska as ...</td>\n",
              "      <td>1</td>\n",
              "      <td>88</td>\n",
              "    </tr>\n",
              "  </tbody>\n",
              "</table>\n",
              "</div>"
            ],
            "text/plain": [
              "   id keyword  ... target length\n",
              "0   1     NaN  ...      1     69\n",
              "1   4     NaN  ...      1     38\n",
              "2   5     NaN  ...      1    133\n",
              "3   6     NaN  ...      1     65\n",
              "4   7     NaN  ...      1     88\n",
              "\n",
              "[5 rows x 6 columns]"
            ]
          },
          "metadata": {
            "tags": []
          },
          "execution_count": 13
        }
      ]
    },
    {
      "cell_type": "code",
      "metadata": {
        "trusted": true,
        "id": "jvoSyn79aDEO",
        "colab_type": "code",
        "outputId": "8b58485f-f16d-404d-8069-c0807b9e0bb1",
        "colab": {
          "base_uri": "https://localhost:8080/",
          "height": 34
        }
      },
      "source": [
        "tweet['id'].nunique()"
      ],
      "execution_count": 0,
      "outputs": [
        {
          "output_type": "execute_result",
          "data": {
            "text/plain": [
              "7613"
            ]
          },
          "metadata": {
            "tags": []
          },
          "execution_count": 14
        }
      ]
    },
    {
      "cell_type": "code",
      "metadata": {
        "trusted": true,
        "id": "ZIcmuqUvaDEg",
        "colab_type": "code",
        "outputId": "846a191a-dfba-4b8b-87c1-f5666bc99bfb",
        "colab": {
          "base_uri": "https://localhost:8080/",
          "height": 34
        }
      },
      "source": [
        "tweet.shape"
      ],
      "execution_count": 0,
      "outputs": [
        {
          "output_type": "execute_result",
          "data": {
            "text/plain": [
              "(7613, 6)"
            ]
          },
          "metadata": {
            "tags": []
          },
          "execution_count": 15
        }
      ]
    },
    {
      "cell_type": "code",
      "metadata": {
        "trusted": true,
        "id": "Rjtdm9GpaDFy",
        "colab_type": "code",
        "outputId": "4556ec0c-df5f-4b8d-830d-7567fceebe89",
        "colab": {
          "base_uri": "https://localhost:8080/",
          "height": 230
        }
      },
      "source": [
        "tweet['keyword'].value_counts()"
      ],
      "execution_count": 0,
      "outputs": [
        {
          "output_type": "execute_result",
          "data": {
            "text/plain": [
              "fatalities               45\n",
              "deluge                   42\n",
              "armageddon               42\n",
              "body%20bags              41\n",
              "damage                   41\n",
              "                         ..\n",
              "forest%20fire            19\n",
              "epicentre                12\n",
              "threat                   11\n",
              "inundation               10\n",
              "radiation%20emergency     9\n",
              "Name: keyword, Length: 221, dtype: int64"
            ]
          },
          "metadata": {
            "tags": []
          },
          "execution_count": 16
        }
      ]
    },
    {
      "cell_type": "code",
      "metadata": {
        "trusted": true,
        "id": "9sjqcCWiaDGJ",
        "colab_type": "code",
        "outputId": "d8a04070-76ce-4e18-9cdf-e217314656eb",
        "colab": {
          "base_uri": "https://localhost:8080/",
          "height": 141
        }
      },
      "source": [
        "tweet.isnull().sum()"
      ],
      "execution_count": 0,
      "outputs": [
        {
          "output_type": "execute_result",
          "data": {
            "text/plain": [
              "id             0\n",
              "keyword       61\n",
              "location    2533\n",
              "text           0\n",
              "target         0\n",
              "length         0\n",
              "dtype: int64"
            ]
          },
          "metadata": {
            "tags": []
          },
          "execution_count": 17
        }
      ]
    },
    {
      "cell_type": "markdown",
      "metadata": {
        "id": "t_c41YOKaDGq",
        "colab_type": "text"
      },
      "source": [
        "As there are no missing values we'll make process the text"
      ]
    },
    {
      "cell_type": "code",
      "metadata": {
        "trusted": true,
        "id": "MksP_WQ1aDGz",
        "colab_type": "code",
        "colab": {}
      },
      "source": [
        "from nltk.tokenize import word_tokenize"
      ],
      "execution_count": 0,
      "outputs": []
    },
    {
      "cell_type": "code",
      "metadata": {
        "id": "w1NIzgphd_1V",
        "colab_type": "code",
        "outputId": "c2b0e0f3-502f-43f2-c462-ee32e91fa24e",
        "colab": {
          "base_uri": "https://localhost:8080/",
          "height": 194
        }
      },
      "source": [
        "import nltk \n",
        "nltk.download('punkt')\n",
        "nltk.download('wordnet')\n",
        "nltk.download('stopwords')\n",
        "nltk.download('averaged_perceptron_tagger')"
      ],
      "execution_count": 65,
      "outputs": [
        {
          "output_type": "stream",
          "text": [
            "[nltk_data] Downloading package punkt to /root/nltk_data...\n",
            "[nltk_data]   Unzipping tokenizers/punkt.zip.\n",
            "[nltk_data] Downloading package wordnet to /root/nltk_data...\n",
            "[nltk_data]   Unzipping corpora/wordnet.zip.\n",
            "[nltk_data] Downloading package stopwords to /root/nltk_data...\n",
            "[nltk_data]   Unzipping corpora/stopwords.zip.\n",
            "[nltk_data] Downloading package averaged_perceptron_tagger to\n",
            "[nltk_data]     /root/nltk_data...\n",
            "[nltk_data]   Unzipping taggers/averaged_perceptron_tagger.zip.\n"
          ],
          "name": "stdout"
        },
        {
          "output_type": "execute_result",
          "data": {
            "text/plain": [
              "True"
            ]
          },
          "metadata": {
            "tags": []
          },
          "execution_count": 65
        }
      ]
    },
    {
      "cell_type": "code",
      "metadata": {
        "trusted": true,
        "id": "yJEcBC6taDHG",
        "colab_type": "code",
        "outputId": "d9359ffc-07bb-483e-ded9-b3f71a90bae6",
        "colab": {
          "base_uri": "https://localhost:8080/",
          "height": 137
        }
      },
      "source": [
        "# Step - a : Change all the text to lower case. This is required as python interprets 'dog' and 'DOG' differently\n",
        "tweet['text'] = [str.lower(txt) for txt in tweet['text']]\n",
        "\n",
        "# Step - b : Tokenization : In this each entry in the corpus will be broken into set of words\n",
        "tweet['text'] = [word_tokenize(txt) for txt in tweet['text']]\n",
        "\n",
        "tweet.head(3)"
      ],
      "execution_count": 0,
      "outputs": [
        {
          "output_type": "execute_result",
          "data": {
            "text/html": [
              "<div>\n",
              "<style scoped>\n",
              "    .dataframe tbody tr th:only-of-type {\n",
              "        vertical-align: middle;\n",
              "    }\n",
              "\n",
              "    .dataframe tbody tr th {\n",
              "        vertical-align: top;\n",
              "    }\n",
              "\n",
              "    .dataframe thead th {\n",
              "        text-align: right;\n",
              "    }\n",
              "</style>\n",
              "<table border=\"1\" class=\"dataframe\">\n",
              "  <thead>\n",
              "    <tr style=\"text-align: right;\">\n",
              "      <th></th>\n",
              "      <th>id</th>\n",
              "      <th>keyword</th>\n",
              "      <th>location</th>\n",
              "      <th>text</th>\n",
              "      <th>target</th>\n",
              "      <th>length</th>\n",
              "    </tr>\n",
              "  </thead>\n",
              "  <tbody>\n",
              "    <tr>\n",
              "      <th>0</th>\n",
              "      <td>1</td>\n",
              "      <td>NaN</td>\n",
              "      <td>NaN</td>\n",
              "      <td>[our, deeds, are, the, reason, of, this, #, ea...</td>\n",
              "      <td>1</td>\n",
              "      <td>69</td>\n",
              "    </tr>\n",
              "    <tr>\n",
              "      <th>1</th>\n",
              "      <td>4</td>\n",
              "      <td>NaN</td>\n",
              "      <td>NaN</td>\n",
              "      <td>[forest, fire, near, la, ronge, sask, ., canada]</td>\n",
              "      <td>1</td>\n",
              "      <td>38</td>\n",
              "    </tr>\n",
              "    <tr>\n",
              "      <th>2</th>\n",
              "      <td>5</td>\n",
              "      <td>NaN</td>\n",
              "      <td>NaN</td>\n",
              "      <td>[all, residents, asked, to, 'shelter, in, plac...</td>\n",
              "      <td>1</td>\n",
              "      <td>133</td>\n",
              "    </tr>\n",
              "  </tbody>\n",
              "</table>\n",
              "</div>"
            ],
            "text/plain": [
              "   id keyword  ... target length\n",
              "0   1     NaN  ...      1     69\n",
              "1   4     NaN  ...      1     38\n",
              "2   5     NaN  ...      1    133\n",
              "\n",
              "[3 rows x 6 columns]"
            ]
          },
          "metadata": {
            "tags": []
          },
          "execution_count": 20
        }
      ]
    },
    {
      "cell_type": "code",
      "metadata": {
        "trusted": true,
        "id": "ENV_aAYlaDHV",
        "colab_type": "code",
        "colab": {}
      },
      "source": [
        "from nltk.corpus import stopwords"
      ],
      "execution_count": 0,
      "outputs": []
    },
    {
      "cell_type": "code",
      "metadata": {
        "trusted": true,
        "id": "SwgDGLQlaDHm",
        "colab_type": "code",
        "colab": {}
      },
      "source": [
        "# Step - c : Remove Stop words, Non-Numeric and perfom Word Stemming/Lemmenting.\n",
        "tweet['stp_text'] = tweet['text'].apply(lambda x: [word for word in x if (word not in stopwords.words('english'))& (word.isalpha())])"
      ],
      "execution_count": 0,
      "outputs": []
    },
    {
      "cell_type": "code",
      "metadata": {
        "trusted": true,
        "id": "ORT5-rApaDH1",
        "colab_type": "code",
        "colab": {}
      },
      "source": [
        "import nltk\n",
        "from nltk import pos_tag\n",
        "from nltk.stem import WordNetLemmatizer\n",
        "from nltk.corpus import wordnet as wn"
      ],
      "execution_count": 0,
      "outputs": []
    },
    {
      "cell_type": "code",
      "metadata": {
        "trusted": true,
        "id": "6iOj1UFVaDIG",
        "colab_type": "code",
        "outputId": "964017bf-cbac-449c-8107-61892f95ea08",
        "colab": {
          "base_uri": "https://localhost:8080/",
          "height": 281
        }
      },
      "source": [
        "#Step - e\n",
        "# WordNetLemmatizer requires Pos tags to understand if the word is noun or verb or adjective etc. By default it is set to Noun\n",
        "\"\"\"\n",
        "1. pos tag function\n",
        "2. Define a function for lemmatizing\n",
        "\"\"\"\n",
        "def get_wordnet_pos(word):\n",
        "    \"\"\"Map POS tag to first character lemmatize() accepts\"\"\"\n",
        "    tag = nltk.pos_tag([word])[0][1][0].upper()\n",
        "    tag_dict = {\"J\": wn.ADJ,\n",
        "                \"N\": wn.NOUN,\n",
        "                \"V\": wn.VERB,\n",
        "                \"R\": wn.ADV}\n",
        "\n",
        "    return tag_dict.get(tag, wn.NOUN)\n",
        "\n",
        "def word_lemmatizer(series):\n",
        "  \"\"\"lemmatizes words in series to their root using POS tag\"\"\"\n",
        "  \n",
        "  count = series.shape[0] # number of inputs\n",
        "  txt_series = series.copy()\n",
        "  lemmatizer = WordNetLemmatizer() # initializing lemmatizer\n",
        "  \n",
        "  for i in range(count):\n",
        "    tst = [lemmatizer.lemmatize(w, get_wordnet_pos(w)) for w in txt_series.iloc[i]]\n",
        "    txt_series.iloc[i] = tst\n",
        "  \n",
        "  return(txt_series)\n",
        "\n",
        "# a new column with lemmatized words\n",
        "tweet['lem_txt'] = word_lemmatizer(tweet['stp_text'])\n",
        "tweet.head()"
      ],
      "execution_count": 0,
      "outputs": [
        {
          "output_type": "execute_result",
          "data": {
            "text/html": [
              "<div>\n",
              "<style scoped>\n",
              "    .dataframe tbody tr th:only-of-type {\n",
              "        vertical-align: middle;\n",
              "    }\n",
              "\n",
              "    .dataframe tbody tr th {\n",
              "        vertical-align: top;\n",
              "    }\n",
              "\n",
              "    .dataframe thead th {\n",
              "        text-align: right;\n",
              "    }\n",
              "</style>\n",
              "<table border=\"1\" class=\"dataframe\">\n",
              "  <thead>\n",
              "    <tr style=\"text-align: right;\">\n",
              "      <th></th>\n",
              "      <th>id</th>\n",
              "      <th>keyword</th>\n",
              "      <th>location</th>\n",
              "      <th>text</th>\n",
              "      <th>target</th>\n",
              "      <th>length</th>\n",
              "      <th>stp_text</th>\n",
              "      <th>lem_txt</th>\n",
              "    </tr>\n",
              "  </thead>\n",
              "  <tbody>\n",
              "    <tr>\n",
              "      <th>0</th>\n",
              "      <td>1</td>\n",
              "      <td>NaN</td>\n",
              "      <td>NaN</td>\n",
              "      <td>[our, deeds, are, the, reason, of, this, #, ea...</td>\n",
              "      <td>1</td>\n",
              "      <td>69</td>\n",
              "      <td>[deeds, reason, earthquake, may, allah, forgiv...</td>\n",
              "      <td>[deed, reason, earthquake, may, allah, forgive...</td>\n",
              "    </tr>\n",
              "    <tr>\n",
              "      <th>1</th>\n",
              "      <td>4</td>\n",
              "      <td>NaN</td>\n",
              "      <td>NaN</td>\n",
              "      <td>[forest, fire, near, la, ronge, sask, ., canada]</td>\n",
              "      <td>1</td>\n",
              "      <td>38</td>\n",
              "      <td>[forest, fire, near, la, ronge, sask, canada]</td>\n",
              "      <td>[forest, fire, near, la, ronge, sask, canada]</td>\n",
              "    </tr>\n",
              "    <tr>\n",
              "      <th>2</th>\n",
              "      <td>5</td>\n",
              "      <td>NaN</td>\n",
              "      <td>NaN</td>\n",
              "      <td>[all, residents, asked, to, 'shelter, in, plac...</td>\n",
              "      <td>1</td>\n",
              "      <td>133</td>\n",
              "      <td>[residents, asked, place, notified, officers, ...</td>\n",
              "      <td>[resident, ask, place, notify, officer, evacua...</td>\n",
              "    </tr>\n",
              "    <tr>\n",
              "      <th>3</th>\n",
              "      <td>6</td>\n",
              "      <td>NaN</td>\n",
              "      <td>NaN</td>\n",
              "      <td>[13,000, people, receive, #, wildfires, evacua...</td>\n",
              "      <td>1</td>\n",
              "      <td>65</td>\n",
              "      <td>[people, receive, wildfires, evacuation, order...</td>\n",
              "      <td>[people, receive, wildfire, evacuation, order,...</td>\n",
              "    </tr>\n",
              "    <tr>\n",
              "      <th>4</th>\n",
              "      <td>7</td>\n",
              "      <td>NaN</td>\n",
              "      <td>NaN</td>\n",
              "      <td>[just, got, sent, this, photo, from, ruby, #, ...</td>\n",
              "      <td>1</td>\n",
              "      <td>88</td>\n",
              "      <td>[got, sent, photo, ruby, alaska, smoke, wildfi...</td>\n",
              "      <td>[get, sent, photo, ruby, alaska, smoke, wildfi...</td>\n",
              "    </tr>\n",
              "  </tbody>\n",
              "</table>\n",
              "</div>"
            ],
            "text/plain": [
              "   id  ...                                            lem_txt\n",
              "0   1  ...  [deed, reason, earthquake, may, allah, forgive...\n",
              "1   4  ...      [forest, fire, near, la, ronge, sask, canada]\n",
              "2   5  ...  [resident, ask, place, notify, officer, evacua...\n",
              "3   6  ...  [people, receive, wildfire, evacuation, order,...\n",
              "4   7  ...  [get, sent, photo, ruby, alaska, smoke, wildfi...\n",
              "\n",
              "[5 rows x 8 columns]"
            ]
          },
          "metadata": {
            "tags": []
          },
          "execution_count": 24
        }
      ]
    },
    {
      "cell_type": "code",
      "metadata": {
        "trusted": true,
        "id": "1FDxaMhzaDIV",
        "colab_type": "code",
        "outputId": "addf5683-5f0f-4f5b-f4b1-a247b358cf68",
        "colab": {
          "base_uri": "https://localhost:8080/",
          "height": 230
        }
      },
      "source": [
        "#step f\n",
        "#The above dataframe gives us the list of final text but for TF-IDF we need the input as string. So we can create a final column with lambda function\n",
        "tweet['text_final'] = tweet['lem_txt'].apply(lambda x: ' '.join(x))\n",
        "tweet['text_final']"
      ],
      "execution_count": 0,
      "outputs": [
        {
          "output_type": "execute_result",
          "data": {
            "text/plain": [
              "0              deed reason earthquake may allah forgive u\n",
              "1                   forest fire near la ronge sask canada\n",
              "2       resident ask place notify officer evacuation s...\n",
              "3       people receive wildfire evacuation order calif...\n",
              "4       get sent photo ruby alaska smoke wildfire pour...\n",
              "                              ...                        \n",
              "7608    two giant crane hold bridge collapse nearby ho...\n",
              "7609    thetawniest control wild fire california even ...\n",
              "7610                              utc volcano hawaii http\n",
              "7611    police investigate collide car little portugal...\n",
              "7612    late home raze northern california wildfire ab...\n",
              "Name: text_final, Length: 7613, dtype: object"
            ]
          },
          "metadata": {
            "tags": []
          },
          "execution_count": 25
        }
      ]
    },
    {
      "cell_type": "code",
      "metadata": {
        "trusted": true,
        "id": "v699gV09aDIx",
        "colab_type": "code",
        "colab": {}
      },
      "source": [
        "from sklearn import model_selection, svm\n",
        "from sklearn.feature_extraction.text import TfidfVectorizer\n",
        "from sklearn.metrics import accuracy_score, confusion_matrix, classification_report"
      ],
      "execution_count": 0,
      "outputs": []
    },
    {
      "cell_type": "markdown",
      "metadata": {
        "id": "jhZulpjCaDJf",
        "colab_type": "text"
      },
      "source": [
        "Prepare Evaluate/ Train Datasets"
      ]
    },
    {
      "cell_type": "code",
      "metadata": {
        "trusted": true,
        "id": "GLJdMKpvaDJn",
        "colab_type": "code",
        "colab": {}
      },
      "source": [
        "train_X, val_X, train_y, val_y = model_selection.train_test_split(tweet['text_final'],tweet['target'],test_size=1/3, random_state = 10)"
      ],
      "execution_count": 0,
      "outputs": []
    },
    {
      "cell_type": "code",
      "metadata": {
        "trusted": true,
        "id": "w9IV_KJKaDJ_",
        "colab_type": "code",
        "outputId": "6af01824-de31-4b00-ef1a-4c6209ab96f4",
        "colab": {
          "base_uri": "https://localhost:8080/",
          "height": 123
        }
      },
      "source": [
        "Tfidf_vect = TfidfVectorizer(max_features=10000)\n",
        "Tfidf_vect.fit(train_X)\n",
        "Train_X_Tfidf = Tfidf_vect.transform(train_X)\n",
        "Val_X_Tfidf = Tfidf_vect.transform(val_X)\n",
        "train_X.head()"
      ],
      "execution_count": 0,
      "outputs": [
        {
          "output_type": "execute_result",
          "data": {
            "text/plain": [
              "1827                 pak army helicopter crashed mansehra\n",
              "3104    constantly electrocute know chance stand next ...\n",
              "4840    aurora theater shoot trial gunman expect notor...\n",
              "379     one direction pick http fan army directioners ...\n",
              "7403    officer wound suspect kill exchange gunfire ri...\n",
              "Name: text_final, dtype: object"
            ]
          },
          "metadata": {
            "tags": []
          },
          "execution_count": 28
        }
      ]
    },
    {
      "cell_type": "code",
      "metadata": {
        "trusted": true,
        "id": "i3xkLag0aDKk",
        "colab_type": "code",
        "outputId": "f7f5fd80-2611-4e1c-e298-577736c9edbc",
        "colab": {
          "base_uri": "https://localhost:8080/",
          "height": 194
        }
      },
      "source": [
        "Tfidf_vect.get_feature_names()[5000:5010]"
      ],
      "execution_count": 0,
      "outputs": [
        {
          "output_type": "execute_result",
          "data": {
            "text/plain": [
              "['lawsonofficial',\n",
              " 'lawsuit',\n",
              " 'lawton',\n",
              " 'lay',\n",
              " 'laylovetournay',\n",
              " 'layout',\n",
              " 'lbr',\n",
              " 'lcb',\n",
              " 'lcc',\n",
              " 'le']"
            ]
          },
          "metadata": {
            "tags": []
          },
          "execution_count": 29
        }
      ]
    },
    {
      "cell_type": "code",
      "metadata": {
        "trusted": true,
        "id": "t63pjo14aDCe",
        "colab_type": "code",
        "outputId": "f00f262f-0626-43f9-d31c-a499dc0069e4",
        "colab": {
          "base_uri": "https://localhost:8080/",
          "height": 620
        }
      },
      "source": [
        "# Way to create image from simple word count\n",
        "from wordcloud import WordCloud, STOPWORDS\n",
        "words = ' '.join(tweet[tweet['target'] ==0]['text_final'])\n",
        "wordcloud = WordCloud(stopwords=STOPWORDS,\n",
        "                      background_color='black',\n",
        "                      width=3000,\n",
        "                      height=2500\n",
        "                     ).generate(words)\n",
        "                     \n",
        "plt.figure(figsize=(12, 12))\n",
        "plt.imshow(wordcloud)\n",
        "plt.title(\"Word cloud image for fake tweets\", size = 32)\n",
        "plt.axis('off')\n",
        "plt.show()"
      ],
      "execution_count": 0,
      "outputs": [
        {
          "output_type": "display_data",
          "data": {
            "image/png": "[encoded data removed]",
            "text/plain": [
              "<Figure size 864x864 with 1 Axes>"
            ]
          },
          "metadata": {
            "tags": []
          }
        }
      ]
    },
    {
      "cell_type": "code",
      "metadata": {
        "trusted": true,
        "id": "OPN0P_OhaDCz",
        "colab_type": "code",
        "outputId": "06506a74-97fd-45b5-b14a-11c42fba689d",
        "colab": {
          "base_uri": "https://localhost:8080/",
          "height": 620
        }
      },
      "source": [
        "words = ' '.join(tweet[tweet['target'] ==1]['text_final'])\n",
        "wordcloud = WordCloud(stopwords=STOPWORDS,\n",
        "                      background_color='white',\n",
        "                      width=3000,\n",
        "                      height=2500\n",
        "                     ).generate(words)\n",
        "                     \n",
        "plt.figure(figsize=(12, 12))\n",
        "plt.imshow(wordcloud)\n",
        "plt.title(\"Word cloud image for real tweets\", size = 32)\n",
        "plt.axis('off')\n",
        "plt.show()"
      ],
      "execution_count": 0,
      "outputs": [
        {
          "output_type": "display_data",
          "data": {
            "image/png": "[encoded data removed]",
            "text/plain": [
              "<Figure size 864x864 with 1 Axes>"
            ]
          },
          "metadata": {
            "tags": []
          }
        }
      ]
    },
    {
      "cell_type": "markdown",
      "metadata": {
        "id": "7br_nBteaDLB",
        "colab_type": "text"
      },
      "source": [
        "#### ML Models"
      ]
    },
    {
      "cell_type": "code",
      "metadata": {
        "trusted": true,
        "id": "HBnP-3l1aDLE",
        "colab_type": "code",
        "outputId": "3c8848c7-8551-4793-a277-5066510cab0c",
        "colab": {
          "base_uri": "https://localhost:8080/",
          "height": 105
        }
      },
      "source": [
        "from sklearn.linear_model import LogisticRegression\n",
        "LR = LogisticRegression()\n",
        "LR.fit(Train_X_Tfidf,train_y)"
      ],
      "execution_count": 0,
      "outputs": [
        {
          "output_type": "execute_result",
          "data": {
            "text/plain": [
              "LogisticRegression(C=1.0, class_weight=None, dual=False, fit_intercept=True,\n",
              "                   intercept_scaling=1, l1_ratio=None, max_iter=100,\n",
              "                   multi_class='auto', n_jobs=None, penalty='l2',\n",
              "                   random_state=None, solver='lbfgs', tol=0.0001, verbose=0,\n",
              "                   warm_start=False)"
            ]
          },
          "metadata": {
            "tags": []
          },
          "execution_count": 32
        }
      ]
    },
    {
      "cell_type": "code",
      "metadata": {
        "trusted": true,
        "id": "6qZGU4TmaDLX",
        "colab_type": "code",
        "outputId": "cfb3cbbd-8a6f-44cf-d765-000839a90d81",
        "colab": {
          "base_uri": "https://localhost:8080/",
          "height": 34
        }
      },
      "source": [
        "predictions_LR = LR.predict(Val_X_Tfidf)\n",
        "print(\"LR Accuracy Score -> \",accuracy_score(predictions_LR, val_y)*100)"
      ],
      "execution_count": 0,
      "outputs": [
        {
          "output_type": "stream",
          "text": [
            "LR Accuracy Score ->  80.49645390070921\n"
          ],
          "name": "stdout"
        }
      ]
    },
    {
      "cell_type": "code",
      "metadata": {
        "trusted": true,
        "id": "JqxWHThdaDMU",
        "colab_type": "code",
        "outputId": "2e83e52c-4cc2-4a38-eb55-4426d6b611e5",
        "colab": {
          "base_uri": "https://localhost:8080/",
          "height": 514
        }
      },
      "source": [
        "import sklearn.metrics as metrics\n",
        "# calculate the fpr and tpr for all thresholds of the classification\n",
        "probs = LR.predict_proba(Val_X_Tfidf)\n",
        "preds = probs[:,1]\n",
        "fpr, tpr, threshold = metrics.roc_curve(val_y, preds)\n",
        "roc_auc = metrics.auc(fpr, tpr)\n",
        "\n",
        "# method I: plt\n",
        "import matplotlib.pyplot as plt\n",
        "plt.figure(figsize = (10,8))\n",
        "plt.title('Receiver Operating Characteristic for Logistic Regression', size = 16)\n",
        "plt.plot(fpr, tpr, 'b', label = 'AUC = %0.2f' % roc_auc)\n",
        "plt.legend(loc = 'lower right')\n",
        "plt.plot([0, 1], [0, 1],'r--')\n",
        "plt.xlim([0, 1])\n",
        "plt.ylim([0, 1])\n",
        "plt.ylabel('True Positive Rate')\n",
        "plt.xlabel('False Positive Rate')\n",
        "plt.show()"
      ],
      "execution_count": 0,
      "outputs": [
        {
          "output_type": "display_data",
          "data": {
            "image/png": "[encoded data removed]",
            "text/plain": [
              "<Figure size 720x576 with 1 Axes>"
            ]
          },
          "metadata": {
            "tags": []
          }
        }
      ]
    },
    {
      "cell_type": "code",
      "metadata": {
        "trusted": true,
        "id": "TAxPRtdlaDNH",
        "colab_type": "code",
        "outputId": "0c2b6638-511d-402f-9af1-fff569eba550",
        "colab": {
          "base_uri": "https://localhost:8080/",
          "height": 550
        }
      },
      "source": [
        "from sklearn.metrics import precision_recall_curve\n",
        "\n",
        "# predict probabilities\n",
        "lr_probs = LR.predict_proba(Val_X_Tfidf)\n",
        "# keep probabilities for the positive outcome only\n",
        "lr_probs = lr_probs[:, 1]\n",
        "# predict class values\n",
        "yhat = LR.predict(Val_X_Tfidf)\n",
        "lr_precision, lr_recall, _ = precision_recall_curve(val_y, lr_probs)\n",
        "lr_f1, lr_auc = metrics.f1_score(val_y, yhat), metrics.auc(lr_recall, lr_precision)\n",
        "# summarize scores\n",
        "print('Logistic: f1=%.3f auc=%.3f' % (lr_f1, lr_auc))\n",
        "# plot the precision-recall curves\n",
        "no_skill = len(val_y[val_y==1]) / len(val_y)\n",
        "plt.figure(figsize = (10,8))\n",
        "plt.plot([0, 1], [no_skill, no_skill], linestyle='--', label='No Skill')\n",
        "plt.plot(lr_recall, lr_precision, label='Logistic')\n",
        "# axis labels\n",
        "plt.title('Precision Recal Curve', size = 16)\n",
        "plt.xlabel('Recall')\n",
        "plt.ylabel('Precision')\n",
        "# show the legend\n",
        "plt.legend()"
      ],
      "execution_count": 0,
      "outputs": [
        {
          "output_type": "stream",
          "text": [
            "Logistic: f1=0.748 auc=0.845\n"
          ],
          "name": "stdout"
        },
        {
          "output_type": "execute_result",
          "data": {
            "text/plain": [
              "<matplotlib.legend.Legend at 0x7f3caa433668>"
            ]
          },
          "metadata": {
            "tags": []
          },
          "execution_count": 35
        },
        {
          "output_type": "display_data",
          "data": {
            "image/png": "[encoded data removed]",
            "text/plain": [
              "<Figure size 720x576 with 1 Axes>"
            ]
          },
          "metadata": {
            "tags": []
          }
        }
      ]
    },
    {
      "cell_type": "markdown",
      "metadata": {
        "id": "4mYK_Ku5aDNl",
        "colab_type": "text"
      },
      "source": [
        "Lets try with SVM"
      ]
    },
    {
      "cell_type": "code",
      "metadata": {
        "trusted": true,
        "id": "TF_wfDCqaDNp",
        "colab_type": "code",
        "colab": {}
      },
      "source": [
        "# Classifier - Algorithm - SVM\n",
        "# fit the training dataset on the classifier\n",
        "SVM = svm.SVC(C=1.0, kernel='linear')\n",
        "SVM.fit(Train_X_Tfidf,train_y)\n",
        "# predict the labels on validation dataset\n",
        "predictions_SVM = SVM.predict(Val_X_Tfidf)"
      ],
      "execution_count": 0,
      "outputs": []
    },
    {
      "cell_type": "code",
      "metadata": {
        "trusted": true,
        "id": "5_aP7NNWaDOH",
        "colab_type": "code",
        "outputId": "0a3d5dec-65b0-406c-f062-23c4c9cd8ef0",
        "colab": {
          "base_uri": "https://localhost:8080/",
          "height": 34
        }
      },
      "source": [
        "# Use accuracy_score function to get the accuracy\n",
        "print(\"SVM Accuracy Score -> \",accuracy_score(predictions_SVM, val_y)*100)"
      ],
      "execution_count": 0,
      "outputs": [
        {
          "output_type": "stream",
          "text": [
            "SVM Accuracy Score ->  79.86603624901497\n"
          ],
          "name": "stdout"
        }
      ]
    },
    {
      "cell_type": "code",
      "metadata": {
        "trusted": true,
        "id": "rZqRZ7qlaDOb",
        "colab_type": "code",
        "outputId": "e4f987b7-6257-4d58-e640-939fb01b5392",
        "colab": {
          "base_uri": "https://localhost:8080/",
          "height": 52
        }
      },
      "source": [
        "confusion_matrix(val_y,predictions_SVM)"
      ],
      "execution_count": 0,
      "outputs": [
        {
          "output_type": "execute_result",
          "data": {
            "text/plain": [
              "array([[1267,  194],\n",
              "       [ 317,  760]])"
            ]
          },
          "metadata": {
            "tags": []
          },
          "execution_count": 38
        }
      ]
    },
    {
      "cell_type": "markdown",
      "metadata": {
        "id": "XRkZkPfSaDPQ",
        "colab_type": "text"
      },
      "source": [
        "Let's try to optimize the loss function using hyperopt"
      ]
    },
    {
      "cell_type": "code",
      "metadata": {
        "trusted": true,
        "id": "wsASE8uAaDPp",
        "colab_type": "code",
        "colab": {}
      },
      "source": [
        "from hyperopt import hp, fmin, tpe, Trials, STATUS_OK"
      ],
      "execution_count": 0,
      "outputs": []
    },
    {
      "cell_type": "code",
      "metadata": {
        "trusted": true,
        "id": "h6RjK8QcaDQQ",
        "colab_type": "code",
        "colab": {}
      },
      "source": [
        "# defining the space for hyperparameter tuning\n",
        "space={'C': hp.uniform('C', 0.1, 100),\n",
        "        'gamma': hp.uniform('gamma', 0.1, 15),\n",
        "        'degree' : hp.quniform('degree', 1,10,1),\n",
        "        'kernel': 'linear'\n",
        "    }"
      ],
      "execution_count": 0,
      "outputs": []
    },
    {
      "cell_type": "code",
      "metadata": {
        "trusted": true,
        "id": "RBNv6sB7aDQq",
        "colab_type": "code",
        "colab": {}
      },
      "source": [
        "def hyperparameter_tuning(space):\n",
        "    SVM=svm.SVC(C =space['C'], \n",
        "                gamma = space['gamma'],\n",
        "                degree = space['degree'],\n",
        "                kernel = space['kernel'])\n",
        "        \n",
        "    SVM.fit(Train_X_Tfidf, train_y)\n",
        "\n",
        "    pred = SVM.predict(Val_X_Tfidf)\n",
        "    accuracy = accuracy_score(val_y, pred>0.5)\n",
        "    print (\"SCORE:\", accuracy)\n",
        "    #change the metric if you like\n",
        "    return {'loss': -accuracy, 'status': STATUS_OK }"
      ],
      "execution_count": 0,
      "outputs": []
    },
    {
      "cell_type": "code",
      "metadata": {
        "trusted": true,
        "id": "0BwZsA5DaDRj",
        "colab_type": "code",
        "outputId": "1ecce35b-91e5-4f5b-a55e-89c719675e19",
        "colab": {
          "base_uri": "https://localhost:8080/",
          "height": 1000
        }
      },
      "source": [
        "# run the hyper paramter tuning\n",
        "trials = Trials()\n",
        "best = fmin(fn=hyperparameter_tuning,\n",
        "            space=space,\n",
        "            algo=tpe.suggest,\n",
        "            max_evals=50,\n",
        "            trials=trials)\n",
        "\n",
        "print (best)"
      ],
      "execution_count": 0,
      "outputs": [
        {
          "output_type": "stream",
          "text": [
            "SCORE:\n",
            "0.7568951930654059\n",
            "SCORE:\n",
            "0.7509850275807722\n",
            "SCORE:\n",
            "0.7462568951930654\n",
            "SCORE:\n",
            "0.7505910165484634\n",
            "SCORE:\n",
            "0.7722616233254531\n",
            "SCORE:\n",
            "0.7494089834515366\n",
            "SCORE:\n",
            "0.7454688731284476\n",
            "SCORE:\n",
            "0.7454688731284476\n",
            "SCORE:\n",
            "0.7903861308116628\n",
            "SCORE:\n",
            "0.7568951930654059\n",
            "SCORE:\n",
            "0.7486209613869188\n",
            "SCORE:\n",
            "0.7541371158392435\n",
            "SCORE:\n",
            "0.7561071710007881\n",
            "SCORE:\n",
            "0.7462568951930654\n",
            "SCORE:\n",
            "0.7454688731284476\n",
            "SCORE:\n",
            "0.7454688731284476\n",
            "SCORE:\n",
            "0.747832939322301\n",
            "SCORE:\n",
            "0.7462568951930654\n",
            "SCORE:\n",
            "0.7454688731284476\n",
            "SCORE:\n",
            "0.7525610717100079\n",
            "SCORE:\n",
            "0.7702915681639085\n",
            "SCORE:\n",
            "0.7821118991331757\n",
            "SCORE:\n",
            "0.7702915681639085\n",
            "SCORE:\n",
            "0.7671394799054374\n",
            "SCORE:\n",
            "0.7655634357762018\n",
            "SCORE:\n",
            "0.793538219070134\n",
            "SCORE:\n",
            "0.7667454688731284\n",
            "SCORE:\n",
            "0.7513790386130812\n",
            "SCORE:\n",
            "0.7588652482269503\n",
            "SCORE:\n",
            "0.7505910165484634\n",
            "SCORE:\n",
            "0.768715524034673\n",
            "SCORE:\n",
            "0.7494089834515366\n",
            "SCORE:\n",
            "0.7458628841607565\n",
            "SCORE:\n",
            "0.7939322301024428\n",
            "SCORE:\n",
            "0.7608353033884949\n",
            "SCORE:\n",
            "0.7509850275807722\n",
            "SCORE:\n",
            "0.80575256107171\n",
            "SCORE:\n",
            "0.7501970055161544\n",
            "SCORE:\n",
            "0.7553191489361702\n",
            "SCORE:\n",
            "0.7490149724192278\n",
            "SCORE:\n",
            "0.7698975571315997\n",
            "SCORE:\n",
            "0.7501970055161544\n",
            "SCORE:\n",
            "0.7513790386130812\n",
            "SCORE:\n",
            "0.7616233254531127\n",
            "SCORE:\n",
            "0.7565011820330969\n",
            "SCORE:\n",
            "0.7470449172576832\n",
            "SCORE:\n",
            "0.7655634357762018\n",
            "SCORE:\n",
            "0.7758077226162332\n",
            "SCORE:\n",
            "0.7505910165484634\n",
            "SCORE:\n",
            "0.7454688731284476\n",
            "100%|██████████| 50/50 [03:04<00:00,  3.76s/it, best loss: -0.80575256107171]\n",
            "{'C': 0.698740702566051, 'degree': 4.0, 'gamma': 0.937126163456043}\n"
          ],
          "name": "stdout"
        }
      ]
    },
    {
      "cell_type": "code",
      "metadata": {
        "id": "R2CvD3zZnr8c",
        "colab_type": "code",
        "outputId": "aa454730-13c6-46a2-9147-56df7a7cc320",
        "colab": {
          "base_uri": "https://localhost:8080/",
          "height": 87
        }
      },
      "source": [
        "SVM=svm.SVC(C =best['C'], \n",
        "            gamma = best['gamma'],\n",
        "            degree = best['degree'],\n",
        "            kernel = 'linear')\n",
        "SVM.fit(Train_X_Tfidf,train_y)"
      ],
      "execution_count": 0,
      "outputs": [
        {
          "output_type": "execute_result",
          "data": {
            "text/plain": [
              "SVC(C=0.698740702566051, break_ties=False, cache_size=200, class_weight=None,\n",
              "    coef0=0.0, decision_function_shape='ovr', degree=4.0,\n",
              "    gamma=0.937126163456043, kernel='linear', max_iter=-1, probability=False,\n",
              "    random_state=None, shrinking=True, tol=0.001, verbose=False)"
            ]
          },
          "metadata": {
            "tags": []
          },
          "execution_count": 47
        }
      ]
    },
    {
      "cell_type": "code",
      "metadata": {
        "id": "qjrN6gGHqbIh",
        "colab_type": "code",
        "outputId": "9823b0e6-0dff-4d83-a885-be029e52c33a",
        "colab": {
          "base_uri": "https://localhost:8080/",
          "height": 34
        }
      },
      "source": [
        "# predict the labels on validation dataset\n",
        "predictions_SVM = SVM.predict(Val_X_Tfidf)\n",
        "\n",
        "# Use accuracy_score function to get the accuracy\n",
        "print(\"SVM Accuracy Score -> \",accuracy_score(predictions_SVM, val_y)*100)"
      ],
      "execution_count": 0,
      "outputs": [
        {
          "output_type": "stream",
          "text": [
            "SVM Accuracy Score ->  80.575256107171\n"
          ],
          "name": "stdout"
        }
      ]
    },
    {
      "cell_type": "code",
      "metadata": {
        "id": "sm6g2lbUqkwm",
        "colab_type": "code",
        "outputId": "80722b4f-631b-4b6a-df48-4144e6c075d2",
        "colab": {
          "base_uri": "https://localhost:8080/",
          "height": 364
        }
      },
      "source": [
        "import numpy\n",
        "def plot_coefficients(classifier, feature_names, top_features=20):\n",
        " coef = classifier.coef_.toarray().reshape(-1)\n",
        " top_positive_coefficients = np.argsort(coef)[-top_features:]\n",
        " top_negative_coefficients = np.argsort(coef)[:top_features]\n",
        " top_coefficients = np.hstack([top_negative_coefficients, top_positive_coefficients])\n",
        " # create plot\n",
        " plt.figure(figsize=(15, 5))\n",
        " colors = ['red' if c < 0 else 'blue' for c in coef[top_coefficients]]\n",
        " plt.bar(np.arange(2 * top_features), coef[top_coefficients], color=colors)\n",
        " feature_names = np.array(feature_names)\n",
        " plt.xticks(np.arange(1, 1 + 2 * top_features), feature_names[top_coefficients], rotation=60, ha='right')\n",
        " plt.show()\n",
        "\n",
        "plot_coefficients(SVM, Tfidf_vect.get_feature_names())"
      ],
      "execution_count": 0,
      "outputs": [
        {
          "output_type": "display_data",
          "data": {
            "image/png": "[encoded data removed]",
            "text/plain": [
              "<Figure size 1080x360 with 1 Axes>"
            ]
          },
          "metadata": {
            "tags": []
          }
        }
      ]
    },
    {
      "cell_type": "markdown",
      "metadata": {
        "id": "tAYLpNNmrVwK",
        "colab_type": "text"
      },
      "source": [
        "#### NLP with Catboost"
      ]
    },
    {
      "cell_type": "markdown",
      "metadata": {
        "id": "DuRhAczNtunM",
        "colab_type": "text"
      },
      "source": [
        "The catboost model has novel approach to also take othe columns into consideration"
      ]
    },
    {
      "cell_type": "code",
      "metadata": {
        "id": "WnfalPXU27Ww",
        "colab_type": "code",
        "outputId": "ce3d6964-55d8-44c5-a5a6-129e07f1bc89",
        "colab": {
          "base_uri": "https://localhost:8080/",
          "height": 374
        }
      },
      "source": [
        "!pip install catboost"
      ],
      "execution_count": 0,
      "outputs": [
        {
          "output_type": "stream",
          "text": [
            "Collecting catboost\n",
            "\u001b[?25l  Downloading https://files.pythonhosted.org/packages/94/ec/12b9a42b2ea7dfe5b602f235692ab2b61ee1334ff34334a15902272869e8/catboost-0.22-cp36-none-manylinux1_x86_64.whl (64.4MB)\n",
            "\u001b[K     |████████████████████████████████| 64.4MB 50kB/s \n",
            "\u001b[?25hRequirement already satisfied: matplotlib in /usr/local/lib/python3.6/dist-packages (from catboost) (3.1.3)\n",
            "Requirement already satisfied: scipy in /usr/local/lib/python3.6/dist-packages (from catboost) (1.4.1)\n",
            "Requirement already satisfied: numpy>=1.16.0 in /usr/local/lib/python3.6/dist-packages (from catboost) (1.17.5)\n",
            "Requirement already satisfied: six in /usr/local/lib/python3.6/dist-packages (from catboost) (1.12.0)\n",
            "Requirement already satisfied: pandas>=0.24.0 in /usr/local/lib/python3.6/dist-packages (from catboost) (0.25.3)\n",
            "Requirement already satisfied: graphviz in /usr/local/lib/python3.6/dist-packages (from catboost) (0.10.1)\n",
            "Requirement already satisfied: plotly in /usr/local/lib/python3.6/dist-packages (from catboost) (4.4.1)\n",
            "Requirement already satisfied: kiwisolver>=1.0.1 in /usr/local/lib/python3.6/dist-packages (from matplotlib->catboost) (1.1.0)\n",
            "Requirement already satisfied: python-dateutil>=2.1 in /usr/local/lib/python3.6/dist-packages (from matplotlib->catboost) (2.6.1)\n",
            "Requirement already satisfied: pyparsing!=2.0.4,!=2.1.2,!=2.1.6,>=2.0.1 in /usr/local/lib/python3.6/dist-packages (from matplotlib->catboost) (2.4.6)\n",
            "Requirement already satisfied: cycler>=0.10 in /usr/local/lib/python3.6/dist-packages (from matplotlib->catboost) (0.10.0)\n",
            "Requirement already satisfied: pytz>=2017.2 in /usr/local/lib/python3.6/dist-packages (from pandas>=0.24.0->catboost) (2018.9)\n",
            "Requirement already satisfied: retrying>=1.3.3 in /usr/local/lib/python3.6/dist-packages (from plotly->catboost) (1.3.3)\n",
            "Requirement already satisfied: setuptools in /usr/local/lib/python3.6/dist-packages (from kiwisolver>=1.0.1->matplotlib->catboost) (45.2.0)\n",
            "Installing collected packages: catboost\n",
            "Successfully installed catboost-0.22\n"
          ],
          "name": "stdout"
        }
      ]
    },
    {
      "cell_type": "code",
      "metadata": {
        "id": "sh8w9DId5gOt",
        "colab_type": "code",
        "colab": {}
      },
      "source": [
        "from catboost import Pool, CatBoostClassifier"
      ],
      "execution_count": 0,
      "outputs": []
    },
    {
      "cell_type": "code",
      "metadata": {
        "id": "xaXy1tD8q2lw",
        "colab_type": "code",
        "outputId": "bb72c455-15f6-4704-dbc8-687079b39961",
        "colab": {
          "base_uri": "https://localhost:8080/",
          "height": 281
        }
      },
      "source": [
        "tweet.head()"
      ],
      "execution_count": 0,
      "outputs": [
        {
          "output_type": "execute_result",
          "data": {
            "text/html": [
              "<div>\n",
              "<style scoped>\n",
              "    .dataframe tbody tr th:only-of-type {\n",
              "        vertical-align: middle;\n",
              "    }\n",
              "\n",
              "    .dataframe tbody tr th {\n",
              "        vertical-align: top;\n",
              "    }\n",
              "\n",
              "    .dataframe thead th {\n",
              "        text-align: right;\n",
              "    }\n",
              "</style>\n",
              "<table border=\"1\" class=\"dataframe\">\n",
              "  <thead>\n",
              "    <tr style=\"text-align: right;\">\n",
              "      <th></th>\n",
              "      <th>id</th>\n",
              "      <th>keyword</th>\n",
              "      <th>location</th>\n",
              "      <th>text</th>\n",
              "      <th>target</th>\n",
              "      <th>length</th>\n",
              "      <th>stp_text</th>\n",
              "      <th>lem_txt</th>\n",
              "      <th>text_final</th>\n",
              "    </tr>\n",
              "  </thead>\n",
              "  <tbody>\n",
              "    <tr>\n",
              "      <th>0</th>\n",
              "      <td>1</td>\n",
              "      <td>NaN</td>\n",
              "      <td>NaN</td>\n",
              "      <td>[our, deeds, are, the, reason, of, this, #, ea...</td>\n",
              "      <td>1</td>\n",
              "      <td>69</td>\n",
              "      <td>[deeds, reason, earthquake, may, allah, forgiv...</td>\n",
              "      <td>[deed, reason, earthquake, may, allah, forgive...</td>\n",
              "      <td>deed reason earthquake may allah forgive u</td>\n",
              "    </tr>\n",
              "    <tr>\n",
              "      <th>1</th>\n",
              "      <td>4</td>\n",
              "      <td>NaN</td>\n",
              "      <td>NaN</td>\n",
              "      <td>[forest, fire, near, la, ronge, sask, ., canada]</td>\n",
              "      <td>1</td>\n",
              "      <td>38</td>\n",
              "      <td>[forest, fire, near, la, ronge, sask, canada]</td>\n",
              "      <td>[forest, fire, near, la, ronge, sask, canada]</td>\n",
              "      <td>forest fire near la ronge sask canada</td>\n",
              "    </tr>\n",
              "    <tr>\n",
              "      <th>2</th>\n",
              "      <td>5</td>\n",
              "      <td>NaN</td>\n",
              "      <td>NaN</td>\n",
              "      <td>[all, residents, asked, to, 'shelter, in, plac...</td>\n",
              "      <td>1</td>\n",
              "      <td>133</td>\n",
              "      <td>[residents, asked, place, notified, officers, ...</td>\n",
              "      <td>[resident, ask, place, notify, officer, evacua...</td>\n",
              "      <td>resident ask place notify officer evacuation s...</td>\n",
              "    </tr>\n",
              "    <tr>\n",
              "      <th>3</th>\n",
              "      <td>6</td>\n",
              "      <td>NaN</td>\n",
              "      <td>NaN</td>\n",
              "      <td>[13,000, people, receive, #, wildfires, evacua...</td>\n",
              "      <td>1</td>\n",
              "      <td>65</td>\n",
              "      <td>[people, receive, wildfires, evacuation, order...</td>\n",
              "      <td>[people, receive, wildfire, evacuation, order,...</td>\n",
              "      <td>people receive wildfire evacuation order calif...</td>\n",
              "    </tr>\n",
              "    <tr>\n",
              "      <th>4</th>\n",
              "      <td>7</td>\n",
              "      <td>NaN</td>\n",
              "      <td>NaN</td>\n",
              "      <td>[just, got, sent, this, photo, from, ruby, #, ...</td>\n",
              "      <td>1</td>\n",
              "      <td>88</td>\n",
              "      <td>[got, sent, photo, ruby, alaska, smoke, wildfi...</td>\n",
              "      <td>[get, sent, photo, ruby, alaska, smoke, wildfi...</td>\n",
              "      <td>get sent photo ruby alaska smoke wildfire pour...</td>\n",
              "    </tr>\n",
              "  </tbody>\n",
              "</table>\n",
              "</div>"
            ],
            "text/plain": [
              "   id  ...                                         text_final\n",
              "0   1  ...         deed reason earthquake may allah forgive u\n",
              "1   4  ...              forest fire near la ronge sask canada\n",
              "2   5  ...  resident ask place notify officer evacuation s...\n",
              "3   6  ...  people receive wildfire evacuation order calif...\n",
              "4   7  ...  get sent photo ruby alaska smoke wildfire pour...\n",
              "\n",
              "[5 rows x 9 columns]"
            ]
          },
          "metadata": {
            "tags": []
          },
          "execution_count": 51
        }
      ]
    },
    {
      "cell_type": "code",
      "metadata": {
        "id": "spd8fzN7t8FX",
        "colab_type": "code",
        "colab": {}
      },
      "source": [
        "cat_features = ['keyword']\n",
        "text_features = ['text_final']"
      ],
      "execution_count": 0,
      "outputs": []
    },
    {
      "cell_type": "code",
      "metadata": {
        "id": "XY_rBRwMzFHT",
        "colab_type": "code",
        "colab": {}
      },
      "source": [
        "# we can create a new test model\n",
        "train_X, val_X, train_y, val_y = model_selection.train_test_split(tweet[['text_final','keyword','length']],tweet['target'],test_size=1/3, random_state = 10)"
      ],
      "execution_count": 0,
      "outputs": []
    },
    {
      "cell_type": "code",
      "metadata": {
        "id": "N9wonWsmzyg0",
        "colab_type": "code",
        "colab": {}
      },
      "source": [
        "#fill NaN in keyword with blank space\n",
        "def fill_na(df, features):\n",
        "  for feature in features:\n",
        "    df[feature].fillna('', inplace=True)\n",
        "\n",
        "fill_na(train_X,cat_features)\n",
        "fill_na(val_X,cat_features)"
      ],
      "execution_count": 0,
      "outputs": []
    },
    {
      "cell_type": "code",
      "metadata": {
        "id": "C8PMJufm0ueg",
        "colab_type": "code",
        "outputId": "089eeee7-deff-4483-f570-1f1a70163d44",
        "colab": {
          "base_uri": "https://localhost:8080/",
          "height": 87
        }
      },
      "source": [
        "train_X.isnull().sum()"
      ],
      "execution_count": 0,
      "outputs": [
        {
          "output_type": "execute_result",
          "data": {
            "text/plain": [
              "text_final    0\n",
              "keyword       0\n",
              "length        0\n",
              "dtype: int64"
            ]
          },
          "metadata": {
            "tags": []
          },
          "execution_count": 59
        }
      ]
    },
    {
      "cell_type": "code",
      "metadata": {
        "id": "EPiQIqTZ04_G",
        "colab_type": "code",
        "colab": {}
      },
      "source": [
        "\n",
        "def real_or_not_tweet(X_train, X_test, y_train, y_test, catboost_params={}, verbose=200):\n",
        "    learn_pool = Pool(\n",
        "        X_train, \n",
        "        y_train, \n",
        "        cat_features=cat_features,\n",
        "        text_features=text_features,\n",
        "        feature_names=list(X_train)\n",
        "    )\n",
        "    test_pool = Pool(\n",
        "        X_test, \n",
        "        y_test, \n",
        "        cat_features=cat_features,\n",
        "        text_features=text_features,\n",
        "        feature_names=list(X_train)\n",
        "    )\n",
        "    \n",
        "    catboost_default_params = {\n",
        "        'iterations': 2000,\n",
        "        'learning_rate': 0.03,\n",
        "        'eval_metric': 'Accuracy',\n",
        "        'task_type': 'GPU'\n",
        "        \n",
        "    }\n",
        "    \n",
        "    catboost_default_params.update(catboost_params)\n",
        "    \n",
        "    model = CatBoostClassifier(**catboost_default_params)\n",
        "    model.fit(learn_pool, eval_set=test_pool, verbose=verbose, \n",
        "              early_stopping_rounds = 100)\n",
        "\n",
        "    return model"
      ],
      "execution_count": 0,
      "outputs": []
    },
    {
      "cell_type": "code",
      "metadata": {
        "id": "VKP5RbDG1bo2",
        "colab_type": "code",
        "outputId": "f04a79ac-3b92-490f-c3c1-50e80084bd5c",
        "colab": {
          "base_uri": "https://localhost:8080/",
          "height": 87
        }
      },
      "source": [
        "cbc = real_or_not_tweet(train_X, val_X, train_y, val_y)"
      ],
      "execution_count": 0,
      "outputs": [
        {
          "output_type": "stream",
          "text": [
            "0:\tlearn: 0.7718227\ttest: 0.7947203\tbest: 0.7947203 (0)\ttotal: 43.6ms\tremaining: 1m 27s\n",
            "bestTest = 0.8073286052\n",
            "bestIteration = 88\n",
            "Shrink model to first 89 iterations.\n"
          ],
          "name": "stdout"
        }
      ]
    },
    {
      "cell_type": "markdown",
      "metadata": {
        "id": "migO7iqeFWhZ",
        "colab_type": "text"
      },
      "source": [
        "We see Catboost is performing slightly better than the svm. Let us try to tune the model"
      ]
    },
    {
      "cell_type": "code",
      "metadata": {
        "id": "kg8f4F2m8haM",
        "colab_type": "code",
        "outputId": "fc6164b9-4190-4085-8754-6efe26362244",
        "colab": {
          "base_uri": "https://localhost:8080/",
          "height": 72
        }
      },
      "source": [
        "from sklearn.metrics import accuracy_score, f1_score\n",
        "learn_pool = Pool(train_X, train_y, cat_features=cat_features, \n",
        "                  text_features=text_features, feature_names=list(train_X))\n",
        "val_pool = Pool( val_X, val_y, cat_features=cat_features,\n",
        "                 text_features=text_features, feature_names=list(train_X))\n",
        "\n",
        "def objective(space):\n",
        "    # Instantiate the classifier\n",
        "    clf = CatBoostClassifier(learning_rate = space['learning_rate'], \n",
        "                                 n_estimators =int(space['n_estimators']), \n",
        "                                 max_depth = int(space['max_depth']),\n",
        "                                 reg_lambda = int(space['reg_lambda']),\n",
        "                                 \n",
        "                                 bagging_temperature = space['bagging_temperature'],\n",
        "                             task_type = 'GPU')\n",
        "    \n",
        "    \n",
        "    # Fit the classsifier\n",
        "    clf.fit(learn_pool,\n",
        "            eval_set=val_pool, \n",
        "            early_stopping_rounds=10,verbose=False)\n",
        "    \n",
        "    # Predict on Cross Validation data\n",
        "    pred = clf.predict(val_X)\n",
        "    \n",
        "    # Calculate our Metric - accuracy\n",
        "    fscore = f1_score(val_y, pred>0.5)\n",
        "# return needs to be in this below format. We use negative of accuracy since we want to maximize it.\n",
        "    return {'loss': -fscore, 'status': STATUS_OK }\n",
        "\n",
        "space =    {\n",
        "     'learning_rate':     hp.choice('learning_rate',     np.arange(0.01, 0.8, 0.05)),\n",
        "     'max_depth':         hp.choice('max_depth',         np.arange(2, 16, 1, dtype=int)),\n",
        "     'colsample_bylevel': hp.uniform('colsample_bylevel', 0.5, 1.0),\n",
        "     'n_estimators':      hp.quniform('n_estimators', 500, 5000,100),\n",
        "     'reg_lambda' :       hp.uniform('reg_lambda', 0,5),\n",
        "     'bagging_temperature': hp.uniform('bagging_temperature', 0.0, 100)\n",
        "\n",
        "    }\n",
        "\n",
        "\n",
        "trials = Trials()\n",
        "best = fmin(fn=objective,\n",
        "            space=space,\n",
        "            algo=tpe.suggest,\n",
        "            max_evals=40,\n",
        "            trials=trials)\n",
        "print(best)\n"
      ],
      "execution_count": 0,
      "outputs": [
        {
          "output_type": "stream",
          "text": [
            "100%|██████████| 40/40 [11:34<00:00, 14.18s/it, best loss: -0.7616279069767441]\n",
            "{'bagging_temperature': 13.528001661404787, 'colsample_bylevel': 0.5619511092230439, 'learning_rate': 6, 'max_depth': 6, 'n_estimators': 2100.0, 'reg_lambda': 0.5587961367147581}\n"
          ],
          "name": "stdout"
        }
      ]
    },
    {
      "cell_type": "markdown",
      "metadata": {
        "id": "illF7rJZNbFb",
        "colab_type": "text"
      },
      "source": [
        "In the above optimization we tried to find hyper parameters for best f1 score for which we have got the value of 0.76"
      ]
    },
    {
      "cell_type": "markdown",
      "metadata": {
        "id": "us8gwkYUN_XM",
        "colab_type": "text"
      },
      "source": [
        "We see that the base model with less data are performing best with upto 80% of accuracy. \n",
        "\n",
        "To get better results we'll try the pretrained model like BERT"
      ]
    },
    {
      "cell_type": "code",
      "metadata": {
        "id": "89D6oFFu-alV",
        "colab_type": "code",
        "outputId": "d045f48d-680c-4845-c19f-a62616048ed2",
        "colab": {
          "base_uri": "https://localhost:8080/",
          "height": 694
        }
      },
      "source": [
        "!pip install transformers"
      ],
      "execution_count": 2,
      "outputs": [
        {
          "output_type": "stream",
          "text": [
            "Collecting transformers\n",
            "\u001b[?25l  Downloading https://files.pythonhosted.org/packages/13/33/ffb67897a6985a7b7d8e5e7878c3628678f553634bd3836404fef06ef19b/transformers-2.5.1-py3-none-any.whl (499kB)\n",
            "\u001b[K     |████████████████████████████████| 501kB 2.8MB/s \n",
            "\u001b[?25hCollecting sacremoses\n",
            "\u001b[?25l  Downloading https://files.pythonhosted.org/packages/a6/b4/7a41d630547a4afd58143597d5a49e07bfd4c42914d8335b2a5657efc14b/sacremoses-0.0.38.tar.gz (860kB)\n",
            "\u001b[K     |████████████████████████████████| 870kB 51.1MB/s \n",
            "\u001b[?25hRequirement already satisfied: requests in /usr/local/lib/python3.6/dist-packages (from transformers) (2.21.0)\n",
            "Collecting sentencepiece\n",
            "\u001b[?25l  Downloading https://files.pythonhosted.org/packages/74/f4/2d5214cbf13d06e7cb2c20d84115ca25b53ea76fa1f0ade0e3c9749de214/sentencepiece-0.1.85-cp36-cp36m-manylinux1_x86_64.whl (1.0MB)\n",
            "\u001b[K     |████████████████████████████████| 1.0MB 37.3MB/s \n",
            "\u001b[?25hRequirement already satisfied: numpy in /usr/local/lib/python3.6/dist-packages (from transformers) (1.17.5)\n",
            "Requirement already satisfied: regex!=2019.12.17 in /usr/local/lib/python3.6/dist-packages (from transformers) (2019.12.20)\n",
            "Requirement already satisfied: boto3 in /usr/local/lib/python3.6/dist-packages (from transformers) (1.11.15)\n",
            "Requirement already satisfied: filelock in /usr/local/lib/python3.6/dist-packages (from transformers) (3.0.12)\n",
            "Collecting tokenizers==0.5.2\n",
            "\u001b[?25l  Downloading https://files.pythonhosted.org/packages/d1/3f/73c881ea4723e43c1e9acf317cf407fab3a278daab3a69c98dcac511c04f/tokenizers-0.5.2-cp36-cp36m-manylinux1_x86_64.whl (3.7MB)\n",
            "\u001b[K     |████████████████████████████████| 3.7MB 30.1MB/s \n",
            "\u001b[?25hRequirement already satisfied: tqdm>=4.27 in /usr/local/lib/python3.6/dist-packages (from transformers) (4.28.1)\n",
            "Requirement already satisfied: six in /usr/local/lib/python3.6/dist-packages (from sacremoses->transformers) (1.12.0)\n",
            "Requirement already satisfied: click in /usr/local/lib/python3.6/dist-packages (from sacremoses->transformers) (7.0)\n",
            "Requirement already satisfied: joblib in /usr/local/lib/python3.6/dist-packages (from sacremoses->transformers) (0.14.1)\n",
            "Requirement already satisfied: idna<2.9,>=2.5 in /usr/local/lib/python3.6/dist-packages (from requests->transformers) (2.8)\n",
            "Requirement already satisfied: chardet<3.1.0,>=3.0.2 in /usr/local/lib/python3.6/dist-packages (from requests->transformers) (3.0.4)\n",
            "Requirement already satisfied: certifi>=2017.4.17 in /usr/local/lib/python3.6/dist-packages (from requests->transformers) (2019.11.28)\n",
            "Requirement already satisfied: urllib3<1.25,>=1.21.1 in /usr/local/lib/python3.6/dist-packages (from requests->transformers) (1.24.3)\n",
            "Requirement already satisfied: s3transfer<0.4.0,>=0.3.0 in /usr/local/lib/python3.6/dist-packages (from boto3->transformers) (0.3.3)\n",
            "Requirement already satisfied: botocore<1.15.0,>=1.14.15 in /usr/local/lib/python3.6/dist-packages (from boto3->transformers) (1.14.15)\n",
            "Requirement already satisfied: jmespath<1.0.0,>=0.7.1 in /usr/local/lib/python3.6/dist-packages (from boto3->transformers) (0.9.4)\n",
            "Requirement already satisfied: python-dateutil<3.0.0,>=2.1 in /usr/local/lib/python3.6/dist-packages (from botocore<1.15.0,>=1.14.15->boto3->transformers) (2.6.1)\n",
            "Requirement already satisfied: docutils<0.16,>=0.10 in /usr/local/lib/python3.6/dist-packages (from botocore<1.15.0,>=1.14.15->boto3->transformers) (0.15.2)\n",
            "Building wheels for collected packages: sacremoses\n",
            "  Building wheel for sacremoses (setup.py) ... \u001b[?25l\u001b[?25hdone\n",
            "  Created wheel for sacremoses: filename=sacremoses-0.0.38-cp36-none-any.whl size=884628 sha256=140ea972a201919c73bd545fe106a32f811c8504511ce8d8fcbc85152c4471fb\n",
            "  Stored in directory: /root/.cache/pip/wheels/6d/ec/1a/21b8912e35e02741306f35f66c785f3afe94de754a0eaf1422\n",
            "Successfully built sacremoses\n",
            "Installing collected packages: sacremoses, sentencepiece, tokenizers, transformers\n",
            "Successfully installed sacremoses-0.0.38 sentencepiece-0.1.85 tokenizers-0.5.2 transformers-2.5.1\n"
          ],
          "name": "stdout"
        }
      ]
    },
    {
      "cell_type": "code",
      "metadata": {
        "id": "joyE8H3lNaZf",
        "colab_type": "code",
        "outputId": "51c1b421-63fb-4f22-823b-3fab504001a1",
        "colab": {
          "base_uri": "https://localhost:8080/",
          "height": 63
        }
      },
      "source": [
        "from transformers import BertModel, BertTokenizer, BertForSequenceClassification"
      ],
      "execution_count": 3,
      "outputs": [
        {
          "output_type": "display_data",
          "data": {
            "text/html": [
              "<p style=\"color: red;\">\n",
              "The default version of TensorFlow in Colab will soon switch to TensorFlow 2.x.<br>\n",
              "We recommend you <a href=\"https://www.tensorflow.org/guide/migrate\" target=\"_blank\">upgrade</a> now \n",
              "or ensure your notebook will continue to use TensorFlow 1.x via the <code>%tensorflow_version 1.x</code> magic:\n",
              "<a href=\"https://colab.research.google.com/notebooks/tensorflow_version.ipynb\" target=\"_blank\">more info</a>.</p>\n"
            ],
            "text/plain": [
              "<IPython.core.display.HTML object>"
            ]
          },
          "metadata": {
            "tags": []
          }
        }
      ]
    },
    {
      "cell_type": "code",
      "metadata": {
        "id": "98eOGYwIOjJd",
        "colab_type": "code",
        "colab": {
          "base_uri": "https://localhost:8080/",
          "height": 166,
          "referenced_widgets": [
            "ebdbb0e7c67a436eb95a2a295246b91e",
            "858b595ca7d34ed69d44e27f781e3574",
            "532b5aae7d59435bb353ec764e3315b6",
            "2c7c27e2bce94ec8950d37953df9bcc1",
            "fcc6e9ab8b7941d3b429b41a6b41c73a",
            "8be722df7fef4222984b8472fb3e086f",
            "fc2dced139f948bda4faefc00981b3c0",
            "74108abf6d3047f58d25ad803b6984ef",
            "311a959213d94d579b89580d8803505d",
            "d8367488a9da4a2dbb3fb5f262a31049",
            "bbd6dd9a1d0a465690b87d8be9a969e3",
            "d637a1ea8153455d9f15e0c94dc8d523",
            "b94299904ef64a6099527b767b6c953e",
            "126f4307318c4a319346fee9a69a6450",
            "783b98b6bcf14da6b61b98eec429aee3",
            "34ce35144e5649f5a39f8e196826730d",
            "9e431bf9fd864a7788a969fbb9310584",
            "44f2a50157ad4ff8b26ae7d2abedb3ca",
            "7a514bf923cb4e90b4474b0e7d451b6b",
            "8dbace098b884352861e2bb7271fa438",
            "aa53e27a812b4cc48a4220a728cc74b1",
            "aa52d4e1f8f646e58fb4286c42fa1499",
            "9284e0fe286c4d7a869ca9ed54b2484a",
            "f668b23552fd40449e819da948017631"
          ]
        },
        "outputId": "e50e7487-6b5b-40b0-d110-c7e0d60b25cb"
      },
      "source": [
        "bert_model = BertModel.from_pretrained('bert-base-uncased')\n",
        "tokenizer = BertTokenizer.from_pretrained('bert-base-uncased')"
      ],
      "execution_count": 4,
      "outputs": [
        {
          "output_type": "display_data",
          "data": {
            "application/vnd.jupyter.widget-view+json": {
              "model_id": "ebdbb0e7c67a436eb95a2a295246b91e",
              "version_minor": 0,
              "version_major": 2
            },
            "text/plain": [
              "HBox(children=(IntProgress(value=0, description='Downloading', max=361, style=ProgressStyle(description_width=…"
            ]
          },
          "metadata": {
            "tags": []
          }
        },
        {
          "output_type": "stream",
          "text": [
            "\n"
          ],
          "name": "stdout"
        },
        {
          "output_type": "display_data",
          "data": {
            "application/vnd.jupyter.widget-view+json": {
              "model_id": "311a959213d94d579b89580d8803505d",
              "version_minor": 0,
              "version_major": 2
            },
            "text/plain": [
              "HBox(children=(IntProgress(value=0, description='Downloading', max=440473133, style=ProgressStyle(description_…"
            ]
          },
          "metadata": {
            "tags": []
          }
        },
        {
          "output_type": "stream",
          "text": [
            "\n"
          ],
          "name": "stdout"
        },
        {
          "output_type": "display_data",
          "data": {
            "application/vnd.jupyter.widget-view+json": {
              "model_id": "9e431bf9fd864a7788a969fbb9310584",
              "version_minor": 0,
              "version_major": 2
            },
            "text/plain": [
              "HBox(children=(IntProgress(value=0, description='Downloading', max=231508, style=ProgressStyle(description_wid…"
            ]
          },
          "metadata": {
            "tags": []
          }
        },
        {
          "output_type": "stream",
          "text": [
            "\n"
          ],
          "name": "stdout"
        }
      ]
    },
    {
      "cell_type": "code",
      "metadata": {
        "id": "DDdFb61HOoBT",
        "colab_type": "code",
        "colab": {}
      },
      "source": [
        "from torch.utils.data import Dataset, DataLoader\n",
        "\n",
        "class LoadDataset(Dataset):\n",
        "\n",
        "    def __init__(self, filename, maxlen):\n",
        "\n",
        "        # Store the contents of the file in a pandas dataframe\n",
        "        self.df = pd.read_csv(filename, delimiter=',')\n",
        "\n",
        "        # Initialize the BERT tokenizer\n",
        "        self.tokenizer = BertTokenizer.from_pretrained('bert-base-uncased')\n",
        "\n",
        "        # Define the Maxlength for padding/truncating\n",
        "        self.maxlen = maxlen\n",
        "\n",
        "    def __len__(self):\n",
        "        return len(self.df)\n",
        "\n",
        "    def __getitem__(self, index):\n",
        "\n",
        "        # Selecting the sentence and label at the specified index in the data frame\n",
        "        sentence = self.df.loc[index, 'text']\n",
        "        label = self.df.loc[index, 'target']\n",
        "\n",
        "        # Tokenize the sentence\n",
        "        tokens = self.tokenizer.tokenize(sentence)\n",
        "\n",
        "        # Inserting the CLS and SEP token at the beginning and end of the sentence\n",
        "        tokens = ['[CLS]'] + tokens + ['[SEP]']\n",
        "        \n",
        "        # Padding/truncating the sentences to the maximum length\n",
        "        if len(tokens) < self.maxlen:\n",
        "            tokens = tokens + ['[PAD]' for _ in range(self.maxlen - len(tokens))]\n",
        "        else:\n",
        "            tokens = tokens[:self.maxlen-1] + ['[SEP]']\n",
        "        \n",
        "        # Convert the sequence to ids with BERT Vocabulary\n",
        "        tokens_ids = self.tokenizer.convert_tokens_to_ids(tokens)\n",
        "        \n",
        "        # Converting the list to a pytorch tensor\n",
        "        tokens_ids_tensor = torch.tensor(tokens_ids)\n",
        "\n",
        "        # Obtaining the attention mask\n",
        "        attn_mask = (tokens_ids_tensor != 0).long()\n",
        "\n",
        "        return tokens_ids_tensor, attn_mask, label"
      ],
      "execution_count": 0,
      "outputs": []
    },
    {
      "cell_type": "code",
      "metadata": {
        "id": "txm9ccppQcme",
        "colab_type": "code",
        "outputId": "53cd8c37-1aac-4b6d-a732-9779c8368f87",
        "colab": {
          "base_uri": "https://localhost:8080/",
          "height": 197
        }
      },
      "source": [
        "import pandas as pd\n",
        "\n",
        "bert_df = pd.read_csv('train.csv')\n",
        "bert_df.head()"
      ],
      "execution_count": 6,
      "outputs": [
        {
          "output_type": "execute_result",
          "data": {
            "text/html": [
              "<div>\n",
              "<style scoped>\n",
              "    .dataframe tbody tr th:only-of-type {\n",
              "        vertical-align: middle;\n",
              "    }\n",
              "\n",
              "    .dataframe tbody tr th {\n",
              "        vertical-align: top;\n",
              "    }\n",
              "\n",
              "    .dataframe thead th {\n",
              "        text-align: right;\n",
              "    }\n",
              "</style>\n",
              "<table border=\"1\" class=\"dataframe\">\n",
              "  <thead>\n",
              "    <tr style=\"text-align: right;\">\n",
              "      <th></th>\n",
              "      <th>id</th>\n",
              "      <th>keyword</th>\n",
              "      <th>location</th>\n",
              "      <th>text</th>\n",
              "      <th>target</th>\n",
              "    </tr>\n",
              "  </thead>\n",
              "  <tbody>\n",
              "    <tr>\n",
              "      <th>0</th>\n",
              "      <td>1</td>\n",
              "      <td>NaN</td>\n",
              "      <td>NaN</td>\n",
              "      <td>Our Deeds are the Reason of this #earthquake M...</td>\n",
              "      <td>1</td>\n",
              "    </tr>\n",
              "    <tr>\n",
              "      <th>1</th>\n",
              "      <td>4</td>\n",
              "      <td>NaN</td>\n",
              "      <td>NaN</td>\n",
              "      <td>Forest fire near La Ronge Sask. Canada</td>\n",
              "      <td>1</td>\n",
              "    </tr>\n",
              "    <tr>\n",
              "      <th>2</th>\n",
              "      <td>5</td>\n",
              "      <td>NaN</td>\n",
              "      <td>NaN</td>\n",
              "      <td>All residents asked to 'shelter in place' are ...</td>\n",
              "      <td>1</td>\n",
              "    </tr>\n",
              "    <tr>\n",
              "      <th>3</th>\n",
              "      <td>6</td>\n",
              "      <td>NaN</td>\n",
              "      <td>NaN</td>\n",
              "      <td>13,000 people receive #wildfires evacuation or...</td>\n",
              "      <td>1</td>\n",
              "    </tr>\n",
              "    <tr>\n",
              "      <th>4</th>\n",
              "      <td>7</td>\n",
              "      <td>NaN</td>\n",
              "      <td>NaN</td>\n",
              "      <td>Just got sent this photo from Ruby #Alaska as ...</td>\n",
              "      <td>1</td>\n",
              "    </tr>\n",
              "  </tbody>\n",
              "</table>\n",
              "</div>"
            ],
            "text/plain": [
              "   id keyword  ...                                               text target\n",
              "0   1     NaN  ...  Our Deeds are the Reason of this #earthquake M...      1\n",
              "1   4     NaN  ...             Forest fire near La Ronge Sask. Canada      1\n",
              "2   5     NaN  ...  All residents asked to 'shelter in place' are ...      1\n",
              "3   6     NaN  ...  13,000 people receive #wildfires evacuation or...      1\n",
              "4   7     NaN  ...  Just got sent this photo from Ruby #Alaska as ...      1\n",
              "\n",
              "[5 rows x 5 columns]"
            ]
          },
          "metadata": {
            "tags": []
          },
          "execution_count": 6
        }
      ]
    },
    {
      "cell_type": "code",
      "metadata": {
        "id": "6sbNRoRdO9h5",
        "colab_type": "code",
        "colab": {
          "base_uri": "https://localhost:8080/",
          "height": 238
        },
        "outputId": "5d7a8319-b1e3-4388-a8fd-1042fe3c03f6"
      },
      "source": [
        "#train, val = train_test_split(bert_df[['text','target']],test_size=1/3, random_state = 10)\n",
        "\n",
        "\n",
        "train.to_csv('learn.csv')\n",
        "\n",
        "val.to_csv('val.csv')"
      ],
      "execution_count": 7,
      "outputs": [
        {
          "output_type": "error",
          "ename": "NameError",
          "evalue": "ignored",
          "traceback": [
            "\u001b[0;31m---------------------------------------------------------------------------\u001b[0m",
            "\u001b[0;31mNameError\u001b[0m                                 Traceback (most recent call last)",
            "\u001b[0;32m<ipython-input-7-989844ed2be1>\u001b[0m in \u001b[0;36m<module>\u001b[0;34m()\u001b[0m\n\u001b[1;32m      1\u001b[0m \u001b[0;34m\u001b[0m\u001b[0m\n\u001b[1;32m      2\u001b[0m \u001b[0;34m\u001b[0m\u001b[0m\n\u001b[0;32m----> 3\u001b[0;31m \u001b[0mtrain\u001b[0m\u001b[0;34m.\u001b[0m\u001b[0mto_csv\u001b[0m\u001b[0;34m(\u001b[0m\u001b[0;34m'learn.csv'\u001b[0m\u001b[0;34m)\u001b[0m\u001b[0;34m\u001b[0m\u001b[0;34m\u001b[0m\u001b[0m\n\u001b[0m\u001b[1;32m      4\u001b[0m \u001b[0;34m\u001b[0m\u001b[0m\n\u001b[1;32m      5\u001b[0m \u001b[0mval\u001b[0m\u001b[0;34m.\u001b[0m\u001b[0mto_csv\u001b[0m\u001b[0;34m(\u001b[0m\u001b[0;34m'val.csv'\u001b[0m\u001b[0;34m)\u001b[0m\u001b[0;34m\u001b[0m\u001b[0;34m\u001b[0m\u001b[0m\n",
            "\u001b[0;31mNameError\u001b[0m: name 'train' is not defined"
          ]
        }
      ]
    },
    {
      "cell_type": "code",
      "metadata": {
        "id": "Jsde7f2LPfWt",
        "colab_type": "code",
        "colab": {}
      },
      "source": [
        "# Creating instances of training and validation set\n",
        "train_set = LoadDataset( 'learn.csv', maxlen = 64)\n",
        "val_set = LoadDataset('val.csv', maxlen = 64)"
      ],
      "execution_count": 0,
      "outputs": []
    },
    {
      "cell_type": "code",
      "metadata": {
        "id": "OdlHJkAcQDRH",
        "colab_type": "code",
        "colab": {}
      },
      "source": [
        "# Creating intsances of training and validation dataloaders\n",
        "train_loader = DataLoader(train_set, batch_size = 16, num_workers = 5)\n",
        "val_loader = DataLoader(val_set, batch_size = 16, num_workers = 5)"
      ],
      "execution_count": 0,
      "outputs": []
    },
    {
      "cell_type": "markdown",
      "metadata": {
        "id": "9_GGeOUIQy48",
        "colab_type": "text"
      },
      "source": [
        "#### Building the model"
      ]
    },
    {
      "cell_type": "code",
      "metadata": {
        "id": "DbP0Lul9QI9q",
        "colab_type": "code",
        "colab": {}
      },
      "source": [
        "from torch import nn\n",
        "class RealOrNotClassifier(nn.Module):\n",
        "\n",
        "    def __init__(self, freeze_bert = True):\n",
        "        super(RealOrNotClassifier, self).__init__()\n",
        "\n",
        "        # Instantiating the BERT model object \n",
        "        self.bert_layer = BertModel.from_pretrained('bert-base-uncased')\n",
        "        \n",
        "        # Defining layers like dropout and linear\n",
        "        self.dropout = nn.Dropout(0.1)\n",
        "        self.classifier = nn.Linear(768, 1)\n",
        "\n",
        "    def forward(self, seq, attn_masks):\n",
        "        '''\n",
        "        Inputs:\n",
        "            -seq : Tensor of shape [B, T] containing token ids of sequences\n",
        "            -attn_masks : Tensor of shape [B, T] containing attention masks to be used to avoid contibution of PAD tokens\n",
        "        '''\n",
        "\n",
        "        # Getting contextualized representations from BERT Layer\n",
        "        cont_reps, _ = self.bert_layer(seq, attention_mask = attn_masks)\n",
        "\n",
        "        # Obtaining the representation of [CLS] head\n",
        "        cls_rep = cont_reps[:, 0]\n",
        "        # print('CLS shape: ',cls_rep.shape)\n",
        "\n",
        "        # Feeding cls_rep to the classifier layer\n",
        "        logits = self.classifier(cls_rep)\n",
        "        # print('Logits shape: ',logits.shape)\n",
        "\n",
        "        return logits"
      ],
      "execution_count": 0,
      "outputs": []
    },
    {
      "cell_type": "code",
      "metadata": {
        "id": "zvWo02RkRDmy",
        "colab_type": "code",
        "colab": {}
      },
      "source": [
        "model = RealOrNotClassifier()"
      ],
      "execution_count": 0,
      "outputs": []
    },
    {
      "cell_type": "code",
      "metadata": {
        "id": "-hdhXplyRHOz",
        "colab_type": "code",
        "colab": {}
      },
      "source": [
        "import torch\n",
        "from torch.optim import Adam\n",
        "from torch.nn import BCEWithLogitsLoss\n",
        "\n",
        "criterion = BCEWithLogitsLoss()\n",
        "optimizer = Adam(model.parameters(), lr = 2e-5)"
      ],
      "execution_count": 0,
      "outputs": []
    },
    {
      "cell_type": "code",
      "metadata": {
        "id": "oouDVOWNRQxV",
        "colab_type": "code",
        "outputId": "6e3be90f-cbf4-40dc-da82-dcab75793f85",
        "colab": {
          "base_uri": "https://localhost:8080/",
          "height": 34
        }
      },
      "source": [
        "if torch.cuda.is_available():\n",
        "  device = 'cuda'\n",
        "else:\n",
        "  device = 'cpu'\n",
        "\n",
        "print(device)"
      ],
      "execution_count": 13,
      "outputs": [
        {
          "output_type": "stream",
          "text": [
            "cuda\n"
          ],
          "name": "stdout"
        }
      ]
    },
    {
      "cell_type": "code",
      "metadata": {
        "id": "VMoD_9pSRSa-",
        "colab_type": "code",
        "colab": {}
      },
      "source": [
        "\n",
        "# Defining a function for calculating accuracy\n",
        "def logits_accuracy(logits, labels):\n",
        "    probs = torch.sigmoid(logits.unsqueeze(-1))\n",
        "    preds = (probs > 0.5).long()\n",
        "    acc = (preds.squeeze() == labels).float().mean()\n",
        "    return acc"
      ],
      "execution_count": 0,
      "outputs": []
    },
    {
      "cell_type": "code",
      "metadata": {
        "id": "UNuwEHqCRV9q",
        "colab_type": "code",
        "colab": {}
      },
      "source": [
        "# Defining an evaluation function for training \n",
        "def evaluate(net, criterion, val_loader, device):\n",
        "  \n",
        "    losses, accuracies = 0, 0\n",
        "    \n",
        "    # Setting model to evaluation mode\n",
        "    net.eval()\n",
        "\n",
        "    count = 0\n",
        "    for (seq, attn_masks, labels) in val_loader:\n",
        "        count += 1\n",
        "\n",
        "        # Move inputs and targets to device\n",
        "        seq, attn_masks, labels = seq.to(device), attn_masks.to(device), labels.to(device)\n",
        "\n",
        "        # Get logit predictions\n",
        "        val_logits = net(seq, attn_masks)\n",
        "\n",
        "        # Calculate loss\n",
        "        val_loss = criterion(val_logits.squeeze(-1), labels.float())\n",
        "        losses += val_loss.item()\n",
        "\n",
        "        # Calculate validation accuracy\n",
        "        accuracies += logits_accuracy(val_logits, labels)\n",
        "\n",
        "    return losses / count, accuracies / count"
      ],
      "execution_count": 0,
      "outputs": []
    },
    {
      "cell_type": "code",
      "metadata": {
        "id": "Hxm1j9uMRYUK",
        "colab_type": "code",
        "colab": {}
      },
      "source": [
        "from time import time\n",
        "def train(net, criterion, optimizer, train_loader, val_loader, device, epochs=4, print_every=100):\n",
        "    \n",
        "    # Move model to device\n",
        "    net.to(device)\n",
        "    # Setting model to training mode\n",
        "    net.train()\n",
        "\n",
        "    print('========== ========== STARTING TRAINING ========== ==========')\n",
        "\n",
        "    for epoch in range(epochs):\n",
        "\n",
        "        print('\\n\\n========== EPOCH {} =========='.format(epoch))        \n",
        "        t1 = time()\n",
        "\n",
        "        for i, (seq, attn_masks, labels) in enumerate(train_loader):\n",
        "\n",
        "            # Clear gradients\n",
        "            optimizer.zero_grad()  \n",
        "\n",
        "            # Moving tensors to device\n",
        "            seq, attn_masks, labels = seq.to(device), attn_masks.to(device), labels.to(device)\n",
        "\n",
        "            # Obtaining the logits from the model\n",
        "            logits = net(seq,attn_masks)\n",
        "\n",
        "            # Calculating the loss\n",
        "            loss = criterion(logits.squeeze(-1), labels.float())\n",
        "\n",
        "            # Backpropagating the gradients\n",
        "            loss.backward()\n",
        "\n",
        "            # Clipping gradients to tackle exploding gradients\n",
        "            nn.utils.clip_grad_norm_(net.parameters(), 1)\n",
        "\n",
        "            # Optimization step\n",
        "            optimizer.step()\n",
        "\n",
        "            if (i + 1) % print_every == 0:\n",
        "                print(\"Iteration {} ==== Loss: {}\".format(i+1, loss.item()))\n",
        "\n",
        "        t2 = time()\n",
        "        print('Time Taken for Epoch: {}'.format(t2-t1))\n",
        "        print('\\n========== Validating ==========')\n",
        "        mean_val_loss, mean_val_acc = evaluate(net, criterion, val_loader, device)\n",
        "        print(\"Validation Loss: {}\\nValidation Accuracy: {}\".format(mean_val_loss, mean_val_acc))"
      ],
      "execution_count": 0,
      "outputs": []
    },
    {
      "cell_type": "code",
      "metadata": {
        "id": "YjvrsBBfRdeO",
        "colab_type": "code",
        "outputId": "34324945-9bb4-4328-f13c-cb0bab7004cc",
        "colab": {
          "base_uri": "https://localhost:8080/",
          "height": 852
        }
      },
      "source": [
        "%%time\n",
        "# starting training\n",
        "train(model, criterion, optimizer, train_loader, val_loader, device, epochs=4, print_every=100)"
      ],
      "execution_count": 17,
      "outputs": [
        {
          "output_type": "stream",
          "text": [
            "========== ========== STARTING TRAINING ========== ==========\n",
            "\n",
            "\n",
            "========== EPOCH 0 ==========\n",
            "Iteration 100 ==== Loss: 0.6662006974220276\n",
            "Iteration 200 ==== Loss: 0.26924851536750793\n",
            "Iteration 300 ==== Loss: 0.2650773525238037\n",
            "Time Taken for Epoch: 49.05784487724304\n",
            "\n",
            "========== Validating ==========\n",
            "Validation Loss: 0.4478788243452455\n",
            "Validation Accuracy: 0.8223726153373718\n",
            "\n",
            "\n",
            "========== EPOCH 1 ==========\n",
            "Iteration 100 ==== Loss: 0.4526395797729492\n",
            "Iteration 200 ==== Loss: 0.13818755745887756\n",
            "Iteration 300 ==== Loss: 0.1567506045103073\n",
            "Time Taken for Epoch: 48.37510323524475\n",
            "\n",
            "========== Validating ==========\n",
            "Validation Loss: 0.46310113543632686\n",
            "Validation Accuracy: 0.8350319266319275\n",
            "\n",
            "\n",
            "========== EPOCH 2 ==========\n",
            "Iteration 100 ==== Loss: 0.12622947990894318\n",
            "Iteration 200 ==== Loss: 0.014433369040489197\n",
            "Iteration 300 ==== Loss: 0.019341178238391876\n",
            "Time Taken for Epoch: 48.322985887527466\n",
            "\n",
            "========== Validating ==========\n",
            "Validation Loss: 0.6723737174668795\n",
            "Validation Accuracy: 0.8266720175743103\n",
            "\n",
            "\n",
            "========== EPOCH 3 ==========\n",
            "Iteration 100 ==== Loss: 0.005400594789534807\n",
            "Iteration 200 ==== Loss: 0.0029672086238861084\n",
            "Iteration 300 ==== Loss: 0.0016031400300562382\n",
            "Time Taken for Epoch: 47.661381244659424\n",
            "\n",
            "========== Validating ==========\n",
            "Validation Loss: 0.992081096515973\n",
            "Validation Accuracy: 0.8254777789115906\n",
            "CPU times: user 3min 1s, sys: 35.7 s, total: 3min 37s\n",
            "Wall time: 3min 45s\n"
          ],
          "name": "stdout"
        }
      ]
    },
    {
      "cell_type": "code",
      "metadata": {
        "id": "VDqRPkVYRiH6",
        "colab_type": "code",
        "colab": {}
      },
      "source": [
        "# Saving our model\n",
        "import os\n",
        "save_path = '/content/drive/My Drive/Colab Notebooks/bert'\n",
        "if not os.path.isdir(save_path):\n",
        "    os.mkdir(save_path)\n",
        "\n",
        "torch.save({\n",
        "    'model_state_dict': model.state_dict(),\n",
        "    'optimizer_state_dict': optimizer.state_dict()\n",
        "}, '/content/drive/My Drive/Colab Notebooks/bert/rnmodel1.pth')"
      ],
      "execution_count": 0,
      "outputs": []
    },
    {
      "cell_type": "code",
      "metadata": {
        "id": "VHszaC0fS43O",
        "colab_type": "code",
        "outputId": "28d497d0-144e-4ca2-bedf-eff2269d5bb0",
        "colab": {
          "base_uri": "https://localhost:8080/",
          "height": 34
        }
      },
      "source": [
        "# Loading the checkpoints for resuming training\n",
        "checkpoint = torch.load('/content/drive/My Drive/Colab Notebooks/bert/rnmodel1.pth')\n",
        "model.load_state_dict(checkpoint['model_state_dict'])"
      ],
      "execution_count": 21,
      "outputs": [
        {
          "output_type": "execute_result",
          "data": {
            "text/plain": [
              "<All keys matched successfully>"
            ]
          },
          "metadata": {
            "tags": []
          },
          "execution_count": 21
        }
      ]
    },
    {
      "cell_type": "code",
      "metadata": {
        "id": "ROfBxMiGSmQO",
        "colab_type": "code",
        "outputId": "b89bad3c-a071-480b-b9f0-9db71f00da26",
        "colab": {
          "base_uri": "https://localhost:8080/",
          "height": 34
        }
      },
      "source": [
        "\n",
        "import torch\n",
        "#predictions\n",
        "# predictor\n",
        "inference_file = torch.load('/content/drive/My Drive/Colab Notebooks/bert/rnmodel.pth')\n",
        "predictor = RealOrNotClassifier()\n",
        "predictor.load_state_dict(inference_file['model_state_dict'])"
      ],
      "execution_count": 22,
      "outputs": [
        {
          "output_type": "execute_result",
          "data": {
            "text/plain": [
              "<All keys matched successfully>"
            ]
          },
          "metadata": {
            "tags": []
          },
          "execution_count": 22
        }
      ]
    },
    {
      "cell_type": "code",
      "metadata": {
        "id": "budjgDsPTO3I",
        "colab_type": "code",
        "colab": {}
      },
      "source": [
        "def preprocess(sentence, maxlen=64):\n",
        "\n",
        "    tokenizer = BertTokenizer.from_pretrained('bert-base-uncased')\n",
        "\n",
        "    # Tokenize the sentence\n",
        "    tokens = tokenizer.tokenize(sentence)\n",
        "\n",
        "    # Inserting the CLS and SEP token at the beginning and end of the sentence\n",
        "    tokens = ['[CLS]'] + tokens + ['[SEP]']\n",
        "    \n",
        "    # Padding/truncating the sentences to the maximum length\n",
        "    if len(tokens) < maxlen:\n",
        "        tokens = tokens + ['[PAD]' for _ in range(maxlen - len(tokens))]\n",
        "    else:\n",
        "        tokens = tokens[:maxlen-1] + ['[SEP]']\n",
        "    \n",
        "    # Convert the sequence to ids with BERT Vocabulary\n",
        "    tokens_ids = tokenizer.convert_tokens_to_ids(tokens)\n",
        "    \n",
        "    # Converting the list to a pytorch tensor\n",
        "    tokens_ids_tensor = torch.tensor(tokens_ids).unsqueeze(0)\n",
        "\n",
        "    # Obtaining the attention mask\n",
        "    attn_mask = (tokens_ids_tensor != 0).long()\n",
        "\n",
        "    return tokens_ids_tensor, attn_mask"
      ],
      "execution_count": 0,
      "outputs": []
    },
    {
      "cell_type": "code",
      "metadata": {
        "id": "knm8Yw3xTj9g",
        "colab_type": "code",
        "colab": {}
      },
      "source": [
        "# Defining an evaluation function for training \n",
        "def predict(net, iseq, masks):\n",
        "    device = 'cpu'\n",
        "    # Setting model to evaluation mode\n",
        "    net.eval()\n",
        "\n",
        "    # Move inputs and targets to device\n",
        "    iseq, masks = iseq.to(device), masks.to(device)\n",
        "\n",
        "    # Get logit predictions\n",
        "    p_logit = net(iseq, masks)\n",
        "\n",
        "    probs = torch.sigmoid(p_logit.unsqueeze(-1))\n",
        "    preds = (probs > 0.5).long().squeeze(0)\n",
        "\n",
        "   \n",
        "    return preds, probs"
      ],
      "execution_count": 0,
      "outputs": []
    },
    {
      "cell_type": "code",
      "metadata": {
        "id": "RroXBdsXTohj",
        "colab_type": "code",
        "colab": {}
      },
      "source": [
        "test_tokens, test_attn = comb(\" Metro College of technology has helped me increase my knowledge for design and manufacture and be competitive in the market.\")"
      ],
      "execution_count": 0,
      "outputs": []
    },
    {
      "cell_type": "code",
      "metadata": {
        "id": "ByuenHoATOvC",
        "colab_type": "code",
        "colab": {
          "base_uri": "https://localhost:8080/",
          "height": 34
        },
        "outputId": "4ebe410a-d7bd-4450-aa89-1a925106405d"
      },
      "source": [
        "float(test_attn.detach().numpy())"
      ],
      "execution_count": 46,
      "outputs": [
        {
          "output_type": "execute_result",
          "data": {
            "text/plain": [
              "0.0041769095696508884"
            ]
          },
          "metadata": {
            "tags": []
          },
          "execution_count": 46
        }
      ]
    },
    {
      "cell_type": "code",
      "metadata": {
        "id": "njuWsLhqjMUB",
        "colab_type": "code",
        "colab": {}
      },
      "source": [
        "def comb(text):\n",
        "  test_tokens, test_attn = preprocess(text)\n",
        "  preds, probs = predict(predictor,test_tokens, test_attn)\n",
        "  return (int(preds.numpy()), probs.detach().numpy())\n"
      ],
      "execution_count": 0,
      "outputs": []
    },
    {
      "cell_type": "code",
      "metadata": {
        "id": "sDOrvwacUG8t",
        "colab_type": "code",
        "colab": {}
      },
      "source": [
        "trgt = []\n",
        "prb = []\n",
        "for twt in val.text.values:\n",
        "  pred, proba = comb(twt)\n",
        "  trgt.append(pred)\n",
        "  prb.append(proba)"
      ],
      "execution_count": 0,
      "outputs": []
    },
    {
      "cell_type": "code",
      "metadata": {
        "id": "6tL1kuJ7_MFQ",
        "colab_type": "code",
        "colab": {}
      },
      "source": [
        "val = pd.read_csv('val.csv')\n",
        "l = val.shape[0]\n",
        "#l = 163\n",
        "n = 0\n",
        "p_list = pd.Series([])"
      ],
      "execution_count": 0,
      "outputs": []
    },
    {
      "cell_type": "code",
      "metadata": {
        "id": "zxLeiLRB3k9O",
        "colab_type": "code",
        "colab": {}
      },
      "source": [
        "while l/50 > 1:\n",
        "  \n",
        "  p_list = p_list.append(val['text'][n:n+50].apply(lambda x: comb(x)))\n",
        "  n = n+50\n",
        "  l = l-50\n",
        "else:\n",
        "  p_list = p_list.append(val['text'][0:l].apply(lambda x: comb(x)))\n"
      ],
      "execution_count": 0,
      "outputs": []
    },
    {
      "cell_type": "code",
      "metadata": {
        "id": "t5IImlMcI_c7",
        "colab_type": "code",
        "colab": {
          "base_uri": "https://localhost:8080/",
          "height": 230
        },
        "outputId": "2836cfca-6239-4f30-a0ce-feca0eb29b01"
      },
      "source": [
        "p_list"
      ],
      "execution_count": 29,
      "outputs": [
        {
          "output_type": "execute_result",
          "data": {
            "text/plain": [
              "0       [[tensor(0)]]\n",
              "1       [[tensor(1)]]\n",
              "2       [[tensor(1)]]\n",
              "3       [[tensor(0)]]\n",
              "4       [[tensor(1)]]\n",
              "            ...      \n",
              "2496    [[tensor(1)]]\n",
              "2497    [[tensor(0)]]\n",
              "2498    [[tensor(0)]]\n",
              "2499    [[tensor(0)]]\n",
              "0       [[tensor(0)]]\n",
              "Length: 2501, dtype: object"
            ]
          },
          "metadata": {
            "tags": []
          },
          "execution_count": 29
        }
      ]
    },
    {
      "cell_type": "markdown",
      "metadata": {
        "id": "Mg7EMIGvI--0",
        "colab_type": "text"
      },
      "source": [
        ""
      ]
    },
    {
      "cell_type": "code",
      "metadata": {
        "id": "IYf19VxcKQ37",
        "colab_type": "code",
        "outputId": "ef6678b2-2f8b-4c55-9cb1-7d439d3ab1e2",
        "colab": {
          "base_uri": "https://localhost:8080/",
          "height": 614
        }
      },
      "source": [
        "bert_df.head()"
      ],
      "execution_count": 0,
      "outputs": [
        {
          "output_type": "execute_result",
          "data": {
            "text/html": [
              "<div>\n",
              "<style scoped>\n",
              "    .dataframe tbody tr th:only-of-type {\n",
              "        vertical-align: middle;\n",
              "    }\n",
              "\n",
              "    .dataframe tbody tr th {\n",
              "        vertical-align: top;\n",
              "    }\n",
              "\n",
              "    .dataframe thead th {\n",
              "        text-align: right;\n",
              "    }\n",
              "</style>\n",
              "<table border=\"1\" class=\"dataframe\">\n",
              "  <thead>\n",
              "    <tr style=\"text-align: right;\">\n",
              "      <th></th>\n",
              "      <th>id</th>\n",
              "      <th>keyword</th>\n",
              "      <th>location</th>\n",
              "      <th>text</th>\n",
              "      <th>target</th>\n",
              "      <th>cln_twt</th>\n",
              "      <th>cln_twt1</th>\n",
              "      <th>stp_text</th>\n",
              "      <th>lem_txt</th>\n",
              "      <th>text_final</th>\n",
              "    </tr>\n",
              "  </thead>\n",
              "  <tbody>\n",
              "    <tr>\n",
              "      <th>0</th>\n",
              "      <td>1</td>\n",
              "      <td>NaN</td>\n",
              "      <td>NaN</td>\n",
              "      <td>Our Deeds are the Reason of this #earthquake May ALLAH Forgive us all</td>\n",
              "      <td>1</td>\n",
              "      <td>Our Deeds are the Reason of this #earthquake May ALLAH Forgive us all</td>\n",
              "      <td>[our, deeds, are, the, reason, of, this, #, earthquake, may, allah, forgive, us, all]</td>\n",
              "      <td>[deeds, reason, earthquake, may, allah, forgive, us]</td>\n",
              "      <td>[deed, reason, earthquake, may, allah, forgive, u]</td>\n",
              "      <td>our deeds are the reason of this # earthquake may allah forgive us all</td>\n",
              "    </tr>\n",
              "    <tr>\n",
              "      <th>1</th>\n",
              "      <td>4</td>\n",
              "      <td>NaN</td>\n",
              "      <td>NaN</td>\n",
              "      <td>Forest fire near La Ronge Sask. Canada</td>\n",
              "      <td>1</td>\n",
              "      <td>Forest fire near La Ronge Sask. Canada</td>\n",
              "      <td>[forest, fire, near, la, ronge, sask, ., canada]</td>\n",
              "      <td>[forest, fire, near, la, ronge, sask, canada]</td>\n",
              "      <td>[forest, fire, near, la, ronge, sask, canada]</td>\n",
              "      <td>forest fire near la ronge sask . canada</td>\n",
              "    </tr>\n",
              "    <tr>\n",
              "      <th>2</th>\n",
              "      <td>5</td>\n",
              "      <td>NaN</td>\n",
              "      <td>NaN</td>\n",
              "      <td>All residents asked to 'shelter in place' are being notified by officers. No other evacuation or shelter in place orders are expected</td>\n",
              "      <td>1</td>\n",
              "      <td>All residents asked to 'shelter in place' are being notified by officers. No other evacuation or shelter in place orders are expected</td>\n",
              "      <td>[all, residents, asked, to, 'shelter, in, place, ', are, being, notified, by, officers, ., no, other, evacuation, or, shelter, in, place, orders, are, expected]</td>\n",
              "      <td>[residents, asked, place, notified, officers, evacuation, shelter, place, orders, expected]</td>\n",
              "      <td>[resident, ask, place, notify, officer, evacuation, shelter, place, order, expect]</td>\n",
              "      <td>all residents asked to 'shelter in place ' are being notified by officers . no other evacuation or shelter in place orders are expected</td>\n",
              "    </tr>\n",
              "    <tr>\n",
              "      <th>3</th>\n",
              "      <td>6</td>\n",
              "      <td>NaN</td>\n",
              "      <td>NaN</td>\n",
              "      <td>13,000 people receive #wildfires evacuation orders in California</td>\n",
              "      <td>1</td>\n",
              "      <td>13,000 people receive #wildfires evacuation orders in California</td>\n",
              "      <td>[13,000, people, receive, #, wildfires, evacuation, orders, in, california]</td>\n",
              "      <td>[people, receive, wildfires, evacuation, orders, california]</td>\n",
              "      <td>[people, receive, wildfire, evacuation, order, california]</td>\n",
              "      <td>13,000 people receive # wildfires evacuation orders in california</td>\n",
              "    </tr>\n",
              "    <tr>\n",
              "      <th>4</th>\n",
              "      <td>7</td>\n",
              "      <td>NaN</td>\n",
              "      <td>NaN</td>\n",
              "      <td>Just got sent this photo from Ruby #Alaska as smoke from #wildfires pours into a school</td>\n",
              "      <td>1</td>\n",
              "      <td>Just got sent this photo from Ruby #Alaska as smoke from #wildfires pours into a school</td>\n",
              "      <td>[just, got, sent, this, photo, from, ruby, #, alaska, as, smoke, from, #, wildfires, pours, into, a, school]</td>\n",
              "      <td>[got, sent, photo, ruby, alaska, smoke, wildfires, pours, school]</td>\n",
              "      <td>[get, sent, photo, ruby, alaska, smoke, wildfire, pours, school]</td>\n",
              "      <td>just got sent this photo from ruby # alaska as smoke from # wildfires pours into a school</td>\n",
              "    </tr>\n",
              "  </tbody>\n",
              "</table>\n",
              "</div>"
            ],
            "text/plain": [
              "   id  ...                                                                                                                               text_final\n",
              "0  1   ...  our deeds are the reason of this # earthquake may allah forgive us all                                                                 \n",
              "1  4   ...  forest fire near la ronge sask . canada                                                                                                \n",
              "2  5   ...  all residents asked to 'shelter in place ' are being notified by officers . no other evacuation or shelter in place orders are expected\n",
              "3  6   ...  13,000 people receive # wildfires evacuation orders in california                                                                      \n",
              "4  7   ...  just got sent this photo from ruby # alaska as smoke from # wildfires pours into a school                                              \n",
              "\n",
              "[5 rows x 10 columns]"
            ]
          },
          "metadata": {
            "tags": []
          },
          "execution_count": 237
        }
      ]
    },
    {
      "cell_type": "code",
      "metadata": {
        "id": "99EoosgkS1gp",
        "colab_type": "code",
        "outputId": "40c668a0-a0ef-40fe-cb53-b91b58fe42c8",
        "colab": {
          "base_uri": "https://localhost:8080/",
          "height": 34
        }
      },
      "source": [
        "import re\n",
        "text1 = 'RT @UniversalIND: #F8 is now playing in the theaters near you! So hurry and book your tickets https://www.abcabcabc.com'\n",
        "text1 = re.sub(r'@\\S+|http?s?://\\S+', '', text1)\n",
        "\n",
        "print(text1)"
      ],
      "execution_count": 59,
      "outputs": [
        {
          "output_type": "stream",
          "text": [
            "RT  #F8 is now playing in the theaters near you! So hurry and book your tickets \n"
          ],
          "name": "stdout"
        }
      ]
    },
    {
      "cell_type": "code",
      "metadata": {
        "id": "gxDVdttuT1EK",
        "colab_type": "code",
        "colab": {}
      },
      "source": [
        "def clean_tweet(text):\n",
        "  text = re.sub(r'@\\S+|http?s?://\\S+', '', text)\n",
        "  return(text)\n"
      ],
      "execution_count": 0,
      "outputs": []
    },
    {
      "cell_type": "code",
      "metadata": {
        "id": "KpMqPuPLUzE2",
        "colab_type": "code",
        "colab": {}
      },
      "source": [
        "bert_df['cln_twt'] = bert_df['text'].apply(lambda x: clean_tweet(x))"
      ],
      "execution_count": 0,
      "outputs": []
    },
    {
      "cell_type": "code",
      "metadata": {
        "id": "JCojNZfHU_qS",
        "colab_type": "code",
        "outputId": "db65de06-8a98-4e7e-8b6a-974a6e53004a",
        "colab": {
          "base_uri": "https://localhost:8080/",
          "height": 297
        }
      },
      "source": [
        "pd.set_option('display.max_colwidth', -1)\n",
        "bert_df.tail(5)"
      ],
      "execution_count": 0,
      "outputs": [
        {
          "output_type": "execute_result",
          "data": {
            "text/html": [
              "<div>\n",
              "<style scoped>\n",
              "    .dataframe tbody tr th:only-of-type {\n",
              "        vertical-align: middle;\n",
              "    }\n",
              "\n",
              "    .dataframe tbody tr th {\n",
              "        vertical-align: top;\n",
              "    }\n",
              "\n",
              "    .dataframe thead th {\n",
              "        text-align: right;\n",
              "    }\n",
              "</style>\n",
              "<table border=\"1\" class=\"dataframe\">\n",
              "  <thead>\n",
              "    <tr style=\"text-align: right;\">\n",
              "      <th></th>\n",
              "      <th>id</th>\n",
              "      <th>keyword</th>\n",
              "      <th>location</th>\n",
              "      <th>text</th>\n",
              "      <th>target</th>\n",
              "      <th>cln_twt</th>\n",
              "    </tr>\n",
              "  </thead>\n",
              "  <tbody>\n",
              "    <tr>\n",
              "      <th>7608</th>\n",
              "      <td>10869</td>\n",
              "      <td>NaN</td>\n",
              "      <td>NaN</td>\n",
              "      <td>Two giant cranes holding a bridge collapse into nearby homes http://t.co/STfMbbZFB5</td>\n",
              "      <td>1</td>\n",
              "      <td>Two giant cranes holding a bridge collapse into nearby homes</td>\n",
              "    </tr>\n",
              "    <tr>\n",
              "      <th>7609</th>\n",
              "      <td>10870</td>\n",
              "      <td>NaN</td>\n",
              "      <td>NaN</td>\n",
              "      <td>@aria_ahrary @TheTawniest The out of control wild fires in California even in the Northern part of the state. Very troubling.</td>\n",
              "      <td>1</td>\n",
              "      <td>The out of control wild fires in California even in the Northern part of the state. Very troubling.</td>\n",
              "    </tr>\n",
              "    <tr>\n",
              "      <th>7610</th>\n",
              "      <td>10871</td>\n",
              "      <td>NaN</td>\n",
              "      <td>NaN</td>\n",
              "      <td>M1.94 [01:04 UTC]?5km S of Volcano Hawaii. http://t.co/zDtoyd8EbJ</td>\n",
              "      <td>1</td>\n",
              "      <td>M1.94 [01:04 UTC]?5km S of Volcano Hawaii.</td>\n",
              "    </tr>\n",
              "    <tr>\n",
              "      <th>7611</th>\n",
              "      <td>10872</td>\n",
              "      <td>NaN</td>\n",
              "      <td>NaN</td>\n",
              "      <td>Police investigating after an e-bike collided with a car in Little Portugal. E-bike rider suffered serious non-life threatening injuries.</td>\n",
              "      <td>1</td>\n",
              "      <td>Police investigating after an e-bike collided with a car in Little Portugal. E-bike rider suffered serious non-life threatening injuries.</td>\n",
              "    </tr>\n",
              "    <tr>\n",
              "      <th>7612</th>\n",
              "      <td>10873</td>\n",
              "      <td>NaN</td>\n",
              "      <td>NaN</td>\n",
              "      <td>The Latest: More Homes Razed by Northern California Wildfire - ABC News http://t.co/YmY4rSkQ3d</td>\n",
              "      <td>1</td>\n",
              "      <td>The Latest: More Homes Razed by Northern California Wildfire - ABC News</td>\n",
              "    </tr>\n",
              "  </tbody>\n",
              "</table>\n",
              "</div>"
            ],
            "text/plain": [
              "         id  ...                                                                                                                                    cln_twt\n",
              "7608  10869  ...  Two giant cranes holding a bridge collapse into nearby homes                                                                             \n",
              "7609  10870  ...    The out of control wild fires in California even in the Northern part of the state. Very troubling.                                    \n",
              "7610  10871  ...  M1.94 [01:04 UTC]?5km S of Volcano Hawaii.                                                                                               \n",
              "7611  10872  ...  Police investigating after an e-bike collided with a car in Little Portugal. E-bike rider suffered serious non-life threatening injuries.\n",
              "7612  10873  ...  The Latest: More Homes Razed by Northern California Wildfire - ABC News                                                                  \n",
              "\n",
              "[5 rows x 6 columns]"
            ]
          },
          "metadata": {
            "tags": []
          },
          "execution_count": 192
        }
      ]
    },
    {
      "cell_type": "code",
      "metadata": {
        "id": "9cWBT7ifVHJV",
        "colab_type": "code",
        "outputId": "ae4907e4-5a4c-47bf-c61e-64f3e2a4499c",
        "colab": {
          "base_uri": "https://localhost:8080/",
          "height": 221
        }
      },
      "source": [
        "# Step - a : Change all the text to lower case. This is required as python interprets 'dog' and 'DOG' differently\n",
        "bert_df['cln_twt1'] = [str.lower(txt) for txt in bert_df['cln_twt']]\n",
        "\n",
        "# Step - b : Tokenization : In this each entry in the corpus will be broken into set of words\n",
        "bert_df['cln_twt1'] = [word_tokenize(txt) for txt in bert_df['cln_twt1']]\n",
        "\n",
        "bert_df.head(3)"
      ],
      "execution_count": 0,
      "outputs": [
        {
          "output_type": "execute_result",
          "data": {
            "text/html": [
              "<div>\n",
              "<style scoped>\n",
              "    .dataframe tbody tr th:only-of-type {\n",
              "        vertical-align: middle;\n",
              "    }\n",
              "\n",
              "    .dataframe tbody tr th {\n",
              "        vertical-align: top;\n",
              "    }\n",
              "\n",
              "    .dataframe thead th {\n",
              "        text-align: right;\n",
              "    }\n",
              "</style>\n",
              "<table border=\"1\" class=\"dataframe\">\n",
              "  <thead>\n",
              "    <tr style=\"text-align: right;\">\n",
              "      <th></th>\n",
              "      <th>id</th>\n",
              "      <th>keyword</th>\n",
              "      <th>location</th>\n",
              "      <th>text</th>\n",
              "      <th>target</th>\n",
              "      <th>cln_twt</th>\n",
              "      <th>cln_twt1</th>\n",
              "    </tr>\n",
              "  </thead>\n",
              "  <tbody>\n",
              "    <tr>\n",
              "      <th>0</th>\n",
              "      <td>1</td>\n",
              "      <td>NaN</td>\n",
              "      <td>NaN</td>\n",
              "      <td>Our Deeds are the Reason of this #earthquake May ALLAH Forgive us all</td>\n",
              "      <td>1</td>\n",
              "      <td>Our Deeds are the Reason of this #earthquake May ALLAH Forgive us all</td>\n",
              "      <td>[our, deeds, are, the, reason, of, this, #, earthquake, may, allah, forgive, us, all]</td>\n",
              "    </tr>\n",
              "    <tr>\n",
              "      <th>1</th>\n",
              "      <td>4</td>\n",
              "      <td>NaN</td>\n",
              "      <td>NaN</td>\n",
              "      <td>Forest fire near La Ronge Sask. Canada</td>\n",
              "      <td>1</td>\n",
              "      <td>Forest fire near La Ronge Sask. Canada</td>\n",
              "      <td>[forest, fire, near, la, ronge, sask, ., canada]</td>\n",
              "    </tr>\n",
              "    <tr>\n",
              "      <th>2</th>\n",
              "      <td>5</td>\n",
              "      <td>NaN</td>\n",
              "      <td>NaN</td>\n",
              "      <td>All residents asked to 'shelter in place' are being notified by officers. No other evacuation or shelter in place orders are expected</td>\n",
              "      <td>1</td>\n",
              "      <td>All residents asked to 'shelter in place' are being notified by officers. No other evacuation or shelter in place orders are expected</td>\n",
              "      <td>[all, residents, asked, to, 'shelter, in, place, ', are, being, notified, by, officers, ., no, other, evacuation, or, shelter, in, place, orders, are, expected]</td>\n",
              "    </tr>\n",
              "  </tbody>\n",
              "</table>\n",
              "</div>"
            ],
            "text/plain": [
              "   id  ...                                                                                                                                                          cln_twt1\n",
              "0  1   ...  [our, deeds, are, the, reason, of, this, #, earthquake, may, allah, forgive, us, all]                                                                           \n",
              "1  4   ...  [forest, fire, near, la, ronge, sask, ., canada]                                                                                                                \n",
              "2  5   ...  [all, residents, asked, to, 'shelter, in, place, ', are, being, notified, by, officers, ., no, other, evacuation, or, shelter, in, place, orders, are, expected]\n",
              "\n",
              "[3 rows x 7 columns]"
            ]
          },
          "metadata": {
            "tags": []
          },
          "execution_count": 196
        }
      ]
    },
    {
      "cell_type": "code",
      "metadata": {
        "id": "17vNNlhka7E8",
        "colab_type": "code",
        "colab": {}
      },
      "source": [
        "bert_df.to_csv('clean_txt.csv')"
      ],
      "execution_count": 0,
      "outputs": []
    },
    {
      "cell_type": "code",
      "metadata": {
        "id": "USIS-FhqbX1h",
        "colab_type": "code",
        "outputId": "5e4d50a0-3091-4170-cef4-4ee9a6932fce",
        "colab": {
          "base_uri": "https://localhost:8080/",
          "height": 70
        }
      },
      "source": [
        "bert_df[bert_df.duplicated('text')]['target'].value_counts()"
      ],
      "execution_count": 0,
      "outputs": [
        {
          "output_type": "execute_result",
          "data": {
            "text/plain": [
              "1    73\n",
              "0    37\n",
              "Name: target, dtype: int64"
            ]
          },
          "metadata": {
            "tags": []
          },
          "execution_count": 204
        }
      ]
    },
    {
      "cell_type": "code",
      "metadata": {
        "id": "l-tZglyEcCP0",
        "colab_type": "code",
        "colab": {}
      },
      "source": [
        "# Step - c : Remove Stop words, Non-Numeric and perfom Word Stemming/Lemmenting.\n",
        "bert_df['stp_text'] = bert_df['cln_twt1'].apply(lambda x: [word for word in x if (word not in stopwords.words('english'))& (word.isalpha())])"
      ],
      "execution_count": 0,
      "outputs": []
    },
    {
      "cell_type": "code",
      "metadata": {
        "id": "fhyE-9DvfEt8",
        "colab_type": "code",
        "outputId": "85cfe85d-fef4-4761-cdcc-861104f4ded9",
        "colab": {
          "base_uri": "https://localhost:8080/",
          "height": 397
        }
      },
      "source": [
        "bert_df.head()"
      ],
      "execution_count": 0,
      "outputs": [
        {
          "output_type": "execute_result",
          "data": {
            "text/html": [
              "<div>\n",
              "<style scoped>\n",
              "    .dataframe tbody tr th:only-of-type {\n",
              "        vertical-align: middle;\n",
              "    }\n",
              "\n",
              "    .dataframe tbody tr th {\n",
              "        vertical-align: top;\n",
              "    }\n",
              "\n",
              "    .dataframe thead th {\n",
              "        text-align: right;\n",
              "    }\n",
              "</style>\n",
              "<table border=\"1\" class=\"dataframe\">\n",
              "  <thead>\n",
              "    <tr style=\"text-align: right;\">\n",
              "      <th></th>\n",
              "      <th>id</th>\n",
              "      <th>keyword</th>\n",
              "      <th>location</th>\n",
              "      <th>text</th>\n",
              "      <th>target</th>\n",
              "      <th>cln_twt</th>\n",
              "      <th>cln_twt1</th>\n",
              "      <th>stp_text</th>\n",
              "    </tr>\n",
              "  </thead>\n",
              "  <tbody>\n",
              "    <tr>\n",
              "      <th>0</th>\n",
              "      <td>1</td>\n",
              "      <td>NaN</td>\n",
              "      <td>NaN</td>\n",
              "      <td>Our Deeds are the Reason of this #earthquake May ALLAH Forgive us all</td>\n",
              "      <td>1</td>\n",
              "      <td>Our Deeds are the Reason of this #earthquake May ALLAH Forgive us all</td>\n",
              "      <td>[our, deeds, are, the, reason, of, this, #, earthquake, may, allah, forgive, us, all]</td>\n",
              "      <td>[deeds, reason, earthquake, may, allah, forgive, us]</td>\n",
              "    </tr>\n",
              "    <tr>\n",
              "      <th>1</th>\n",
              "      <td>4</td>\n",
              "      <td>NaN</td>\n",
              "      <td>NaN</td>\n",
              "      <td>Forest fire near La Ronge Sask. Canada</td>\n",
              "      <td>1</td>\n",
              "      <td>Forest fire near La Ronge Sask. Canada</td>\n",
              "      <td>[forest, fire, near, la, ronge, sask, ., canada]</td>\n",
              "      <td>[forest, fire, near, la, ronge, sask, canada]</td>\n",
              "    </tr>\n",
              "    <tr>\n",
              "      <th>2</th>\n",
              "      <td>5</td>\n",
              "      <td>NaN</td>\n",
              "      <td>NaN</td>\n",
              "      <td>All residents asked to 'shelter in place' are being notified by officers. No other evacuation or shelter in place orders are expected</td>\n",
              "      <td>1</td>\n",
              "      <td>All residents asked to 'shelter in place' are being notified by officers. No other evacuation or shelter in place orders are expected</td>\n",
              "      <td>[all, residents, asked, to, 'shelter, in, place, ', are, being, notified, by, officers, ., no, other, evacuation, or, shelter, in, place, orders, are, expected]</td>\n",
              "      <td>[residents, asked, place, notified, officers, evacuation, shelter, place, orders, expected]</td>\n",
              "    </tr>\n",
              "    <tr>\n",
              "      <th>3</th>\n",
              "      <td>6</td>\n",
              "      <td>NaN</td>\n",
              "      <td>NaN</td>\n",
              "      <td>13,000 people receive #wildfires evacuation orders in California</td>\n",
              "      <td>1</td>\n",
              "      <td>13,000 people receive #wildfires evacuation orders in California</td>\n",
              "      <td>[13,000, people, receive, #, wildfires, evacuation, orders, in, california]</td>\n",
              "      <td>[people, receive, wildfires, evacuation, orders, california]</td>\n",
              "    </tr>\n",
              "    <tr>\n",
              "      <th>4</th>\n",
              "      <td>7</td>\n",
              "      <td>NaN</td>\n",
              "      <td>NaN</td>\n",
              "      <td>Just got sent this photo from Ruby #Alaska as smoke from #wildfires pours into a school</td>\n",
              "      <td>1</td>\n",
              "      <td>Just got sent this photo from Ruby #Alaska as smoke from #wildfires pours into a school</td>\n",
              "      <td>[just, got, sent, this, photo, from, ruby, #, alaska, as, smoke, from, #, wildfires, pours, into, a, school]</td>\n",
              "      <td>[got, sent, photo, ruby, alaska, smoke, wildfires, pours, school]</td>\n",
              "    </tr>\n",
              "  </tbody>\n",
              "</table>\n",
              "</div>"
            ],
            "text/plain": [
              "   id  ...                                                                                     stp_text\n",
              "0  1   ...  [deeds, reason, earthquake, may, allah, forgive, us]                                       \n",
              "1  4   ...  [forest, fire, near, la, ronge, sask, canada]                                              \n",
              "2  5   ...  [residents, asked, place, notified, officers, evacuation, shelter, place, orders, expected]\n",
              "3  6   ...  [people, receive, wildfires, evacuation, orders, california]                               \n",
              "4  7   ...  [got, sent, photo, ruby, alaska, smoke, wildfires, pours, school]                          \n",
              "\n",
              "[5 rows x 8 columns]"
            ]
          },
          "metadata": {
            "tags": []
          },
          "execution_count": 209
        }
      ]
    },
    {
      "cell_type": "code",
      "metadata": {
        "id": "F-O_UiJDgblU",
        "colab_type": "code",
        "outputId": "180b0fe6-317e-42db-9e92-b41dddcb0113",
        "colab": {
          "base_uri": "https://localhost:8080/",
          "height": 514
        }
      },
      "source": [
        "#Step - e\n",
        "# WordNetLemmatizer requires Pos tags to understand if the word is noun or verb or adjective etc. By default it is set to Noun\n",
        "\"\"\"\n",
        "1. pos tag function\n",
        "2. Define a function for lemmatizing\n",
        "\"\"\"\n",
        "def get_wordnet_pos(word):\n",
        "    \"\"\"Map POS tag to first character lemmatize() accepts\"\"\"\n",
        "    tag = nltk.pos_tag([word])[0][1][0].upper()\n",
        "    tag_dict = {\"J\": wn.ADJ,\n",
        "                \"N\": wn.NOUN,\n",
        "                \"V\": wn.VERB,\n",
        "                \"R\": wn.ADV}\n",
        "\n",
        "    return tag_dict.get(tag, wn.NOUN)\n",
        "\n",
        "def word_lemmatizer(series):\n",
        "  \"\"\"lemmatizes words in series to their root using POS tag\"\"\"\n",
        "  \n",
        "  count = series.shape[0] # number of inputs\n",
        "  txt_series = series.copy()\n",
        "  lemmatizer = WordNetLemmatizer() # initializing lemmatizer\n",
        "  \n",
        "  for i in range(count):\n",
        "    tst = [lemmatizer.lemmatize(w, get_wordnet_pos(w)) for w in txt_series.iloc[i]]\n",
        "    txt_series.iloc[i] = tst\n",
        "  \n",
        "  return(txt_series)\n",
        "\n",
        "# a new column with lemmatized words\n",
        "bert_df['lem_txt'] = word_lemmatizer(bert_df['stp_text'])\n",
        "bert_df.head()"
      ],
      "execution_count": 0,
      "outputs": [
        {
          "output_type": "execute_result",
          "data": {
            "text/html": [
              "<div>\n",
              "<style scoped>\n",
              "    .dataframe tbody tr th:only-of-type {\n",
              "        vertical-align: middle;\n",
              "    }\n",
              "\n",
              "    .dataframe tbody tr th {\n",
              "        vertical-align: top;\n",
              "    }\n",
              "\n",
              "    .dataframe thead th {\n",
              "        text-align: right;\n",
              "    }\n",
              "</style>\n",
              "<table border=\"1\" class=\"dataframe\">\n",
              "  <thead>\n",
              "    <tr style=\"text-align: right;\">\n",
              "      <th></th>\n",
              "      <th>id</th>\n",
              "      <th>keyword</th>\n",
              "      <th>location</th>\n",
              "      <th>text</th>\n",
              "      <th>target</th>\n",
              "      <th>cln_twt</th>\n",
              "      <th>cln_twt1</th>\n",
              "      <th>stp_text</th>\n",
              "      <th>lem_txt</th>\n",
              "    </tr>\n",
              "  </thead>\n",
              "  <tbody>\n",
              "    <tr>\n",
              "      <th>0</th>\n",
              "      <td>1</td>\n",
              "      <td>NaN</td>\n",
              "      <td>NaN</td>\n",
              "      <td>Our Deeds are the Reason of this #earthquake May ALLAH Forgive us all</td>\n",
              "      <td>1</td>\n",
              "      <td>Our Deeds are the Reason of this #earthquake May ALLAH Forgive us all</td>\n",
              "      <td>[our, deeds, are, the, reason, of, this, #, earthquake, may, allah, forgive, us, all]</td>\n",
              "      <td>[deeds, reason, earthquake, may, allah, forgive, us]</td>\n",
              "      <td>[deed, reason, earthquake, may, allah, forgive, u]</td>\n",
              "    </tr>\n",
              "    <tr>\n",
              "      <th>1</th>\n",
              "      <td>4</td>\n",
              "      <td>NaN</td>\n",
              "      <td>NaN</td>\n",
              "      <td>Forest fire near La Ronge Sask. Canada</td>\n",
              "      <td>1</td>\n",
              "      <td>Forest fire near La Ronge Sask. Canada</td>\n",
              "      <td>[forest, fire, near, la, ronge, sask, ., canada]</td>\n",
              "      <td>[forest, fire, near, la, ronge, sask, canada]</td>\n",
              "      <td>[forest, fire, near, la, ronge, sask, canada]</td>\n",
              "    </tr>\n",
              "    <tr>\n",
              "      <th>2</th>\n",
              "      <td>5</td>\n",
              "      <td>NaN</td>\n",
              "      <td>NaN</td>\n",
              "      <td>All residents asked to 'shelter in place' are being notified by officers. No other evacuation or shelter in place orders are expected</td>\n",
              "      <td>1</td>\n",
              "      <td>All residents asked to 'shelter in place' are being notified by officers. No other evacuation or shelter in place orders are expected</td>\n",
              "      <td>[all, residents, asked, to, 'shelter, in, place, ', are, being, notified, by, officers, ., no, other, evacuation, or, shelter, in, place, orders, are, expected]</td>\n",
              "      <td>[residents, asked, place, notified, officers, evacuation, shelter, place, orders, expected]</td>\n",
              "      <td>[resident, ask, place, notify, officer, evacuation, shelter, place, order, expect]</td>\n",
              "    </tr>\n",
              "    <tr>\n",
              "      <th>3</th>\n",
              "      <td>6</td>\n",
              "      <td>NaN</td>\n",
              "      <td>NaN</td>\n",
              "      <td>13,000 people receive #wildfires evacuation orders in California</td>\n",
              "      <td>1</td>\n",
              "      <td>13,000 people receive #wildfires evacuation orders in California</td>\n",
              "      <td>[13,000, people, receive, #, wildfires, evacuation, orders, in, california]</td>\n",
              "      <td>[people, receive, wildfires, evacuation, orders, california]</td>\n",
              "      <td>[people, receive, wildfire, evacuation, order, california]</td>\n",
              "    </tr>\n",
              "    <tr>\n",
              "      <th>4</th>\n",
              "      <td>7</td>\n",
              "      <td>NaN</td>\n",
              "      <td>NaN</td>\n",
              "      <td>Just got sent this photo from Ruby #Alaska as smoke from #wildfires pours into a school</td>\n",
              "      <td>1</td>\n",
              "      <td>Just got sent this photo from Ruby #Alaska as smoke from #wildfires pours into a school</td>\n",
              "      <td>[just, got, sent, this, photo, from, ruby, #, alaska, as, smoke, from, #, wildfires, pours, into, a, school]</td>\n",
              "      <td>[got, sent, photo, ruby, alaska, smoke, wildfires, pours, school]</td>\n",
              "      <td>[get, sent, photo, ruby, alaska, smoke, wildfire, pours, school]</td>\n",
              "    </tr>\n",
              "  </tbody>\n",
              "</table>\n",
              "</div>"
            ],
            "text/plain": [
              "   id  ...                                                                             lem_txt\n",
              "0  1   ...  [deed, reason, earthquake, may, allah, forgive, u]                                \n",
              "1  4   ...  [forest, fire, near, la, ronge, sask, canada]                                     \n",
              "2  5   ...  [resident, ask, place, notify, officer, evacuation, shelter, place, order, expect]\n",
              "3  6   ...  [people, receive, wildfire, evacuation, order, california]                        \n",
              "4  7   ...  [get, sent, photo, ruby, alaska, smoke, wildfire, pours, school]                  \n",
              "\n",
              "[5 rows x 9 columns]"
            ]
          },
          "metadata": {
            "tags": []
          },
          "execution_count": 210
        }
      ]
    },
    {
      "cell_type": "code",
      "metadata": {
        "id": "o6afHhMOhHHp",
        "colab_type": "code",
        "outputId": "1ae4c561-f562-449c-fe0f-30a998153885",
        "colab": {
          "base_uri": "https://localhost:8080/",
          "height": 614
        }
      },
      "source": [
        "#step f\n",
        "#The above dataframe gives us the list of final text but for TF-IDF we need the input as string. So we can create a final column with lambda function\n",
        "bert_df['text_final'] = bert_df['cln_twt1'].apply(lambda x: ' '.join(x))\n",
        "bert_df.head()"
      ],
      "execution_count": 0,
      "outputs": [
        {
          "output_type": "execute_result",
          "data": {
            "text/html": [
              "<div>\n",
              "<style scoped>\n",
              "    .dataframe tbody tr th:only-of-type {\n",
              "        vertical-align: middle;\n",
              "    }\n",
              "\n",
              "    .dataframe tbody tr th {\n",
              "        vertical-align: top;\n",
              "    }\n",
              "\n",
              "    .dataframe thead th {\n",
              "        text-align: right;\n",
              "    }\n",
              "</style>\n",
              "<table border=\"1\" class=\"dataframe\">\n",
              "  <thead>\n",
              "    <tr style=\"text-align: right;\">\n",
              "      <th></th>\n",
              "      <th>id</th>\n",
              "      <th>keyword</th>\n",
              "      <th>location</th>\n",
              "      <th>text</th>\n",
              "      <th>target</th>\n",
              "      <th>cln_twt</th>\n",
              "      <th>cln_twt1</th>\n",
              "      <th>stp_text</th>\n",
              "      <th>lem_txt</th>\n",
              "      <th>text_final</th>\n",
              "    </tr>\n",
              "  </thead>\n",
              "  <tbody>\n",
              "    <tr>\n",
              "      <th>0</th>\n",
              "      <td>1</td>\n",
              "      <td>NaN</td>\n",
              "      <td>NaN</td>\n",
              "      <td>Our Deeds are the Reason of this #earthquake May ALLAH Forgive us all</td>\n",
              "      <td>1</td>\n",
              "      <td>Our Deeds are the Reason of this #earthquake May ALLAH Forgive us all</td>\n",
              "      <td>[our, deeds, are, the, reason, of, this, #, earthquake, may, allah, forgive, us, all]</td>\n",
              "      <td>[deeds, reason, earthquake, may, allah, forgive, us]</td>\n",
              "      <td>[deed, reason, earthquake, may, allah, forgive, u]</td>\n",
              "      <td>our deeds are the reason of this # earthquake may allah forgive us all</td>\n",
              "    </tr>\n",
              "    <tr>\n",
              "      <th>1</th>\n",
              "      <td>4</td>\n",
              "      <td>NaN</td>\n",
              "      <td>NaN</td>\n",
              "      <td>Forest fire near La Ronge Sask. Canada</td>\n",
              "      <td>1</td>\n",
              "      <td>Forest fire near La Ronge Sask. Canada</td>\n",
              "      <td>[forest, fire, near, la, ronge, sask, ., canada]</td>\n",
              "      <td>[forest, fire, near, la, ronge, sask, canada]</td>\n",
              "      <td>[forest, fire, near, la, ronge, sask, canada]</td>\n",
              "      <td>forest fire near la ronge sask . canada</td>\n",
              "    </tr>\n",
              "    <tr>\n",
              "      <th>2</th>\n",
              "      <td>5</td>\n",
              "      <td>NaN</td>\n",
              "      <td>NaN</td>\n",
              "      <td>All residents asked to 'shelter in place' are being notified by officers. No other evacuation or shelter in place orders are expected</td>\n",
              "      <td>1</td>\n",
              "      <td>All residents asked to 'shelter in place' are being notified by officers. No other evacuation or shelter in place orders are expected</td>\n",
              "      <td>[all, residents, asked, to, 'shelter, in, place, ', are, being, notified, by, officers, ., no, other, evacuation, or, shelter, in, place, orders, are, expected]</td>\n",
              "      <td>[residents, asked, place, notified, officers, evacuation, shelter, place, orders, expected]</td>\n",
              "      <td>[resident, ask, place, notify, officer, evacuation, shelter, place, order, expect]</td>\n",
              "      <td>all residents asked to 'shelter in place ' are being notified by officers . no other evacuation or shelter in place orders are expected</td>\n",
              "    </tr>\n",
              "    <tr>\n",
              "      <th>3</th>\n",
              "      <td>6</td>\n",
              "      <td>NaN</td>\n",
              "      <td>NaN</td>\n",
              "      <td>13,000 people receive #wildfires evacuation orders in California</td>\n",
              "      <td>1</td>\n",
              "      <td>13,000 people receive #wildfires evacuation orders in California</td>\n",
              "      <td>[13,000, people, receive, #, wildfires, evacuation, orders, in, california]</td>\n",
              "      <td>[people, receive, wildfires, evacuation, orders, california]</td>\n",
              "      <td>[people, receive, wildfire, evacuation, order, california]</td>\n",
              "      <td>13,000 people receive # wildfires evacuation orders in california</td>\n",
              "    </tr>\n",
              "    <tr>\n",
              "      <th>4</th>\n",
              "      <td>7</td>\n",
              "      <td>NaN</td>\n",
              "      <td>NaN</td>\n",
              "      <td>Just got sent this photo from Ruby #Alaska as smoke from #wildfires pours into a school</td>\n",
              "      <td>1</td>\n",
              "      <td>Just got sent this photo from Ruby #Alaska as smoke from #wildfires pours into a school</td>\n",
              "      <td>[just, got, sent, this, photo, from, ruby, #, alaska, as, smoke, from, #, wildfires, pours, into, a, school]</td>\n",
              "      <td>[got, sent, photo, ruby, alaska, smoke, wildfires, pours, school]</td>\n",
              "      <td>[get, sent, photo, ruby, alaska, smoke, wildfire, pours, school]</td>\n",
              "      <td>just got sent this photo from ruby # alaska as smoke from # wildfires pours into a school</td>\n",
              "    </tr>\n",
              "  </tbody>\n",
              "</table>\n",
              "</div>"
            ],
            "text/plain": [
              "   id  ...                                                                                                                               text_final\n",
              "0  1   ...  our deeds are the reason of this # earthquake may allah forgive us all                                                                 \n",
              "1  4   ...  forest fire near la ronge sask . canada                                                                                                \n",
              "2  5   ...  all residents asked to 'shelter in place ' are being notified by officers . no other evacuation or shelter in place orders are expected\n",
              "3  6   ...  13,000 people receive # wildfires evacuation orders in california                                                                      \n",
              "4  7   ...  just got sent this photo from ruby # alaska as smoke from # wildfires pours into a school                                              \n",
              "\n",
              "[5 rows x 10 columns]"
            ]
          },
          "metadata": {
            "tags": []
          },
          "execution_count": 216
        }
      ]
    },
    {
      "cell_type": "code",
      "metadata": {
        "id": "nItxoaa_hsJE",
        "colab_type": "code",
        "colab": {}
      },
      "source": [
        "bert_df.drop_duplicates('text',inplace = True)"
      ],
      "execution_count": 0,
      "outputs": []
    },
    {
      "cell_type": "code",
      "metadata": {
        "id": "d35uQPYHO0F_",
        "colab_type": "code",
        "colab": {}
      },
      "source": [
        "val['pred'] = trgt\n",
        "val['prob'] = prb"
      ],
      "execution_count": 0,
      "outputs": []
    },
    {
      "cell_type": "code",
      "metadata": {
        "id": "iirurS3dYG69",
        "colab_type": "code",
        "colab": {
          "base_uri": "https://localhost:8080/",
          "height": 176
        },
        "outputId": "427dfb34-4823-4d38-8143-98b27293fa1e"
      },
      "source": [
        "from sklearn.metrics import confusion_matrix, classification_report\n",
        "print(classification_report(val['target'],val['pred']))"
      ],
      "execution_count": 51,
      "outputs": [
        {
          "output_type": "stream",
          "text": [
            "              precision    recall  f1-score   support\n",
            "\n",
            "           0       0.91      0.95      0.93      1428\n",
            "           1       0.93      0.87      0.90      1073\n",
            "\n",
            "    accuracy                           0.92      2501\n",
            "   macro avg       0.92      0.91      0.92      2501\n",
            "weighted avg       0.92      0.92      0.92      2501\n",
            "\n"
          ],
          "name": "stdout"
        }
      ]
    },
    {
      "cell_type": "code",
      "metadata": {
        "id": "WLxc3XnHYZL1",
        "colab_type": "code",
        "colab": {
          "base_uri": "https://localhost:8080/",
          "height": 52
        },
        "outputId": "c24f4eff-d1e5-4717-a585-c99d21113f7f"
      },
      "source": [
        "confusion_matrix(val['target'],val['pred'])"
      ],
      "execution_count": 52,
      "outputs": [
        {
          "output_type": "execute_result",
          "data": {
            "text/plain": [
              "array([[1362,   66],\n",
              "       [ 137,  936]])"
            ]
          },
          "metadata": {
            "tags": []
          },
          "execution_count": 52
        }
      ]
    },
    {
      "cell_type": "markdown",
      "metadata": {
        "id": "kIrgC23tZvv-",
        "colab_type": "text"
      },
      "source": [
        "let us see the kind of tweets model is unable to guess right"
      ]
    },
    {
      "cell_type": "code",
      "metadata": {
        "id": "m2r9iPn_Yyk9",
        "colab_type": "code",
        "colab": {}
      },
      "source": [
        "pd.set_option('display.max_colwidth', -1)\n",
        "val[val['target'] != val['pred']].to_csv('misclassified')"
      ],
      "execution_count": 0,
      "outputs": []
    },
    {
      "cell_type": "code",
      "metadata": {
        "id": "alEkv8zhaMx1",
        "colab_type": "code",
        "colab": {}
      },
      "source": [
        "\n",
        "trgt = []\n",
        "prb = []\n",
        "for twt in val.text.values:\n",
        "  pred, proba = comb(twt)\n",
        "  trgt.append(pred)\n",
        "  prb.append(proba)"
      ],
      "execution_count": 0,
      "outputs": []
    },
    {
      "cell_type": "code",
      "metadata": {
        "id": "kvYncUfUcW_e",
        "colab_type": "code",
        "colab": {}
      },
      "source": [
        "val['pred'] = trgt\n",
        "val['prob'] = prb"
      ],
      "execution_count": 0,
      "outputs": []
    },
    {
      "cell_type": "code",
      "metadata": {
        "id": "k4glb_nbdO-F",
        "colab_type": "code",
        "colab": {}
      },
      "source": [
        "test = pd.read_csv('test.csv')\n",
        "test['cln_twt'] = test['text'].apply(lambda x: clean_tweet(x))\n",
        "# Step - a : Change all the text to lower case. This is required as python interprets 'dog' and 'DOG' differently\n",
        "test['cln_twt1'] = [str.lower(txt) for txt in test['cln_twt']]\n",
        "\n",
        "# Step - b : Tokenization : In this each entry in the corpus will be broken into set of words\n",
        "test['cln_twt1'] = [word_tokenize(txt) for txt in test['cln_twt1']]\n",
        "\n",
        "test['text_final'] = test['cln_twt1'].apply(lambda x: ' '.join(x))\n",
        "\n",
        "trgt = []\n",
        "prb = []\n",
        "for twt in test.text_final.values:\n",
        "  pred, proba = comb(twt)\n",
        "  trgt.append(pred)\n",
        "  prb.append(proba)\n",
        "test['pred'] = trgt\n",
        "test['prob'] = prb"
      ],
      "execution_count": 0,
      "outputs": []
    },
    {
      "cell_type": "code",
      "metadata": {
        "id": "o-ZqgKi4e6e5",
        "colab_type": "code",
        "colab": {
          "base_uri": "https://localhost:8080/",
          "height": 331
        },
        "outputId": "f68c8601-2eb8-4423-baf5-93fc48e74629"
      },
      "source": [
        "test.head()"
      ],
      "execution_count": 68,
      "outputs": [
        {
          "output_type": "execute_result",
          "data": {
            "text/html": [
              "<div>\n",
              "<style scoped>\n",
              "    .dataframe tbody tr th:only-of-type {\n",
              "        vertical-align: middle;\n",
              "    }\n",
              "\n",
              "    .dataframe tbody tr th {\n",
              "        vertical-align: top;\n",
              "    }\n",
              "\n",
              "    .dataframe thead th {\n",
              "        text-align: right;\n",
              "    }\n",
              "</style>\n",
              "<table border=\"1\" class=\"dataframe\">\n",
              "  <thead>\n",
              "    <tr style=\"text-align: right;\">\n",
              "      <th></th>\n",
              "      <th>id</th>\n",
              "      <th>keyword</th>\n",
              "      <th>location</th>\n",
              "      <th>text</th>\n",
              "      <th>cln_twt</th>\n",
              "      <th>cln_twt1</th>\n",
              "      <th>text_final</th>\n",
              "      <th>pred</th>\n",
              "      <th>prob</th>\n",
              "    </tr>\n",
              "  </thead>\n",
              "  <tbody>\n",
              "    <tr>\n",
              "      <th>0</th>\n",
              "      <td>0</td>\n",
              "      <td>NaN</td>\n",
              "      <td>NaN</td>\n",
              "      <td>Just happened a terrible car crash</td>\n",
              "      <td>Just happened a terrible car crash</td>\n",
              "      <td>[just, happened, a, terrible, car, crash]</td>\n",
              "      <td>just happened a terrible car crash</td>\n",
              "      <td>1</td>\n",
              "      <td>[[[0.8244004]]]</td>\n",
              "    </tr>\n",
              "    <tr>\n",
              "      <th>1</th>\n",
              "      <td>2</td>\n",
              "      <td>NaN</td>\n",
              "      <td>NaN</td>\n",
              "      <td>Heard about #earthquake is different cities, stay safe everyone.</td>\n",
              "      <td>Heard about #earthquake is different cities, stay safe everyone.</td>\n",
              "      <td>[heard, about, #, earthquake, is, different, cities, ,, stay, safe, everyone, .]</td>\n",
              "      <td>heard about # earthquake is different cities , stay safe everyone .</td>\n",
              "      <td>1</td>\n",
              "      <td>[[[0.99947315]]]</td>\n",
              "    </tr>\n",
              "    <tr>\n",
              "      <th>2</th>\n",
              "      <td>3</td>\n",
              "      <td>NaN</td>\n",
              "      <td>NaN</td>\n",
              "      <td>there is a forest fire at spot pond, geese are fleeing across the street, I cannot save them all</td>\n",
              "      <td>there is a forest fire at spot pond, geese are fleeing across the street, I cannot save them all</td>\n",
              "      <td>[there, is, a, forest, fire, at, spot, pond, ,, geese, are, fleeing, across, the, street, ,, i, can, not, save, them, all]</td>\n",
              "      <td>there is a forest fire at spot pond , geese are fleeing across the street , i can not save them all</td>\n",
              "      <td>1</td>\n",
              "      <td>[[[0.9993855]]]</td>\n",
              "    </tr>\n",
              "    <tr>\n",
              "      <th>3</th>\n",
              "      <td>9</td>\n",
              "      <td>NaN</td>\n",
              "      <td>NaN</td>\n",
              "      <td>Apocalypse lighting. #Spokane #wildfires</td>\n",
              "      <td>Apocalypse lighting. #Spokane #wildfires</td>\n",
              "      <td>[apocalypse, lighting, ., #, spokane, #, wildfires]</td>\n",
              "      <td>apocalypse lighting . # spokane # wildfires</td>\n",
              "      <td>1</td>\n",
              "      <td>[[[0.999371]]]</td>\n",
              "    </tr>\n",
              "    <tr>\n",
              "      <th>4</th>\n",
              "      <td>11</td>\n",
              "      <td>NaN</td>\n",
              "      <td>NaN</td>\n",
              "      <td>Typhoon Soudelor kills 28 in China and Taiwan</td>\n",
              "      <td>Typhoon Soudelor kills 28 in China and Taiwan</td>\n",
              "      <td>[typhoon, soudelor, kills, 28, in, china, and, taiwan]</td>\n",
              "      <td>typhoon soudelor kills 28 in china and taiwan</td>\n",
              "      <td>1</td>\n",
              "      <td>[[[0.99807465]]]</td>\n",
              "    </tr>\n",
              "  </tbody>\n",
              "</table>\n",
              "</div>"
            ],
            "text/plain": [
              "   id keyword  ... pred              prob\n",
              "0  0   NaN     ...  1    [[[0.8244004]]] \n",
              "1  2   NaN     ...  1    [[[0.99947315]]]\n",
              "2  3   NaN     ...  1    [[[0.9993855]]] \n",
              "3  9   NaN     ...  1    [[[0.999371]]]  \n",
              "4  11  NaN     ...  1    [[[0.99807465]]]\n",
              "\n",
              "[5 rows x 9 columns]"
            ]
          },
          "metadata": {
            "tags": []
          },
          "execution_count": 68
        }
      ]
    },
    {
      "cell_type": "code",
      "metadata": {
        "id": "xX3W5c-Bkmye",
        "colab_type": "code",
        "colab": {}
      },
      "source": [
        "test.to_csv('results')"
      ],
      "execution_count": 0,
      "outputs": []
    },
    {
      "cell_type": "code",
      "metadata": {
        "id": "C7yZ15tYks_K",
        "colab_type": "code",
        "colab": {}
      },
      "source": [
        "submission = test[['id','pred']]"
      ],
      "execution_count": 0,
      "outputs": []
    },
    {
      "cell_type": "code",
      "metadata": {
        "id": "b9FzLw3vlUre",
        "colab_type": "code",
        "colab": {}
      },
      "source": [
        "submission.columns = ['id','target']"
      ],
      "execution_count": 0,
      "outputs": []
    },
    {
      "cell_type": "code",
      "metadata": {
        "id": "mqCYelNrldWn",
        "colab_type": "code",
        "colab": {}
      },
      "source": [
        "submission.to_csv('submission.csv', index = False, header = True)"
      ],
      "execution_count": 0,
      "outputs": []
    },
    {
      "cell_type": "code",
      "metadata": {
        "id": "opeceamVlhgq",
        "colab_type": "code",
        "colab": {}
      },
      "source": [
        ""
      ],
      "execution_count": 0,
      "outputs": []
    }
  ]
}
{
  "nbformat": 4,
  "nbformat_minor": 0,
  "metadata": {
    "kernelspec": {
      "display_name": "Python 3",
      "language": "python",
      "name": "python3"
    },
    "toc": {
      "base_numbering": 1,
      "nav_menu": {},
      "number_sections": true,
      "sideBar": true,
      "skip_h1_title": false,
      "title_cell": "Table of Contents",
      "title_sidebar": "Contents",
      "toc_cell": false,
      "toc_position": {},
      "toc_section_display": true,
      "toc_window_display": false
    },
    "varInspector": {
      "cols": {
        "lenName": 16,
        "lenType": 16,
        "lenVar": 40
      },
      "kernels_config": {
        "python": {
          "delete_cmd_postfix": "",
          "delete_cmd_prefix": "del ",
          "library": "var_list.py",
          "varRefreshCmd": "print(var_dic_list())"
        },
        "r": {
          "delete_cmd_postfix": ") ",
          "delete_cmd_prefix": "rm(",
          "library": "var_list.r",
          "varRefreshCmd": "cat(var_dic_list()) "
        }
      },
      "types_to_exclude": [
        "module",
        "function",
        "builtin_function_or_method",
        "instance",
        "_Feature"
      ],
      "window_display": false
    },
    "colab": {
      "name": "1578772832_Exercise- SVM.ipynb",
      "provenance": [],
      "collapsed_sections": [],
      "include_colab_link": true
    }
  },
  "cells": [
    {
      "cell_type": "markdown",
      "metadata": {
        "id": "view-in-github",
        "colab_type": "text"
      },
      "source": [
        "<a href=\"https://colab.research.google.com/github/kshitijmamgain/NLP/blob/master/1578772832_Exercise_SVM.ipynb\" target=\"_parent\"><img src=\"https://colab.research.google.com/assets/colab-badge.svg\" alt=\"Open In Colab\"/></a>"
      ]
    },
    {
      "cell_type": "code",
      "metadata": {
        "id": "ti8ILE22K8yG",
        "colab_type": "code",
        "colab": {}
      },
      "source": [
        "import pandas as pd\n",
        "import numpy as np\n",
        "from nltk.tokenize import word_tokenize\n",
        "from nltk import pos_tag\n",
        "from nltk.corpus import stopwords\n",
        "from nltk.stem import WordNetLemmatizer\n",
        "from sklearn.preprocessing import LabelEncoder\n",
        "from collections import defaultdict\n",
        "from nltk.corpus import wordnet as wn\n",
        "from sklearn.feature_extraction.text import TfidfVectorizer\n",
        "from sklearn import model_selection, naive_bayes, svm\n",
        "from sklearn.metrics import accuracy_score"
      ],
      "execution_count": 0,
      "outputs": []
    },
    {
      "cell_type": "code",
      "metadata": {
        "id": "wTFD0l4QK8ye",
        "colab_type": "code",
        "colab": {}
      },
      "source": [
        "np.random.seed(500)"
      ],
      "execution_count": 0,
      "outputs": []
    },
    {
      "cell_type": "code",
      "metadata": {
        "id": "zGEaLwQJK8yy",
        "colab_type": "code",
        "outputId": "947ec3ae-8d57-4ce1-e7b4-f3da7dedd423",
        "colab": {
          "base_uri": "https://localhost:8080/",
          "height": 34
        }
      },
      "source": [
        "from google.colab import drive\n",
        "drive.mount('/content/drive')\n",
        "Corpus = pd.read_csv(r\"/content/drive/My Drive/Colab Notebooks/1578771807_corpus.csv\",encoding='latin-1')"
      ],
      "execution_count": 0,
      "outputs": [
        {
          "output_type": "stream",
          "text": [
            "Drive already mounted at /content/drive; to attempt to forcibly remount, call drive.mount(\"/content/drive\", force_remount=True).\n"
          ],
          "name": "stdout"
        }
      ]
    },
    {
      "cell_type": "code",
      "metadata": {
        "id": "LBlZcrX2MpM-",
        "colab_type": "code",
        "outputId": "d7ec843c-04d8-404c-cad7-8b463c30b84d",
        "colab": {
          "base_uri": "https://localhost:8080/",
          "height": 159
        }
      },
      "source": [
        "print(Corpus.shape)\n",
        "Corpus.head(3)"
      ],
      "execution_count": 0,
      "outputs": [
        {
          "output_type": "stream",
          "text": [
            "(10000, 2)\n"
          ],
          "name": "stdout"
        },
        {
          "output_type": "execute_result",
          "data": {
            "text/html": [
              "<div>\n",
              "<style scoped>\n",
              "    .dataframe tbody tr th:only-of-type {\n",
              "        vertical-align: middle;\n",
              "    }\n",
              "\n",
              "    .dataframe tbody tr th {\n",
              "        vertical-align: top;\n",
              "    }\n",
              "\n",
              "    .dataframe thead th {\n",
              "        text-align: right;\n",
              "    }\n",
              "</style>\n",
              "<table border=\"1\" class=\"dataframe\">\n",
              "  <thead>\n",
              "    <tr style=\"text-align: right;\">\n",
              "      <th></th>\n",
              "      <th>text</th>\n",
              "      <th>label</th>\n",
              "    </tr>\n",
              "  </thead>\n",
              "  <tbody>\n",
              "    <tr>\n",
              "      <th>0</th>\n",
              "      <td>Stuning even for the non-gamer: This sound tr...</td>\n",
              "      <td>__label__2</td>\n",
              "    </tr>\n",
              "    <tr>\n",
              "      <th>1</th>\n",
              "      <td>The best soundtrack ever to anything.: I'm re...</td>\n",
              "      <td>__label__2</td>\n",
              "    </tr>\n",
              "    <tr>\n",
              "      <th>2</th>\n",
              "      <td>Amazing!: This soundtrack is my favorite musi...</td>\n",
              "      <td>__label__2</td>\n",
              "    </tr>\n",
              "  </tbody>\n",
              "</table>\n",
              "</div>"
            ],
            "text/plain": [
              "                                                text        label\n",
              "0   Stuning even for the non-gamer: This sound tr...  __label__2 \n",
              "1   The best soundtrack ever to anything.: I'm re...  __label__2 \n",
              "2   Amazing!: This soundtrack is my favorite musi...  __label__2 "
            ]
          },
          "metadata": {
            "tags": []
          },
          "execution_count": 158
        }
      ]
    },
    {
      "cell_type": "markdown",
      "metadata": {
        "id": "O4JSTDcQK8zE",
        "colab_type": "text"
      },
      "source": [
        "##### STEP -4: Data pre-processing\n",
        "This is an important step in any data mining process. \n",
        "This basically involves transforming raw data into an understandable format for NLP models. Real-world data is often incomplete, inconsistent, and/or lacking in certain behaviors or trends, and is likely to contain many errors. Data pre-processing is a proven method of resolving such issues.This will help in getting better results through the classification algorithms.\n",
        "\n",
        "Below, I have explained the two techniques that are also performed besides other easy to understand steps in data pre-processing:\n",
        "\n",
        "######  Tokenization: \n",
        "\n",
        "\n",
        "This is a process of breaking a stream of text up into words, phrases, symbols, or other meaningful elements called tokens. The list of tokens becomes input for further processing. NLTK Library has word_tokenize and sent_tokenize to easily break a stream of text into a list of words or sentences, respectively.\n",
        "\n",
        "\n",
        "###### Word Stemming/Lemmatization: \n",
        "\n",
        "\n",
        "The aim of both processes is the same, reducing the inflectional forms of each word into a common base or root. Lemmatization is closely related to stemming. The difference is that a stemmer operates on a single word without knowledge of the context, and therefore cannot discriminate between words which have different meanings depending on part of speech. However, stemmers are typically easier to implement and run faster, and the reduced accuracy may not matter for some applications.\n",
        "\n",
        "\n",
        "Here’s the complete script which performs the aforementioned data pre-processing steps, you can always add or remove steps which best suits the data set you are dealing with:\n",
        "\n",
        "* Remove Blank rows in Data, if any\n",
        "* Change all the text to lower case\n",
        "* Word Tokenization\n",
        "* Remove Stop words\n",
        "* Remove Non-alpha text\n",
        "* Word Lemmatization\n"
      ]
    },
    {
      "cell_type": "code",
      "metadata": {
        "id": "AoIbWeH7K8zJ",
        "colab_type": "code",
        "colab": {}
      },
      "source": [
        "# Step - a : Remove blank rows if any.\n",
        "Corpus.dropna(axis = 0, how = 'any', inplace = True)\n",
        "\n",
        "# Step - b : Change all the text to lower case. This is required as python interprets 'dog' and 'DOG' differently\n",
        "Corpus['text'] = [str.lower(txt) for txt in Corpus['text']]\n",
        "\n",
        "# Step - c : Tokenization : In this each entry in the corpus will be broken into set of words\n",
        "Corpus['text'] = [word_tokenize(txt) for txt in Corpus['text']]\n"
      ],
      "execution_count": 0,
      "outputs": []
    },
    {
      "cell_type": "code",
      "metadata": {
        "id": "gpW52_XeethK",
        "colab_type": "code",
        "colab": {}
      },
      "source": [
        "#nltk.download('wordnet')\n",
        "#nltk.download('stopwords')\n",
        "#nltk.download('averaged_perceptron_tagger')\n",
        "# Step - d1 : Remove Stop words, Non-Numeric and perfom Word Stemming/Lemmenting.\n",
        "\"\"\"\n",
        "1. to remove stop words the words should not be in stopwords.words('english)\n",
        "2. to allow only non-numeric .isalpha()\"\"\"\n",
        "def remove_stopwrds(series):\n",
        "  txt_series = series.copy()\n",
        "  for i in range(txt_series.shape[0]):\n",
        "    tst1 = []\n",
        "    for word in txt_series.iloc[i]:\n",
        "        if (word not in stopwords.words('english')) & (word.isalpha()):\n",
        "            tst1.append(word)\n",
        "        txt_series.iloc[i] = tst1\n",
        "  return(txt_series)\n",
        "\n",
        "#defining a new column with out stop words\n",
        "Corpus['stp_text'] = remove_stopwrds(Corpus['text'])"
      ],
      "execution_count": 0,
      "outputs": []
    },
    {
      "cell_type": "code",
      "metadata": {
        "id": "2Xoi4FDvg2E_",
        "colab_type": "code",
        "colab": {}
      },
      "source": [
        "#Step - d2\n",
        "# WordNetLemmatizer requires Pos tags to understand if the word is noun or verb or adjective etc. By default it is set to Noun\n",
        "\"\"\"\n",
        "1. pos tag function\n",
        "2. Define a function for lemmatizing\n",
        "\"\"\"\n",
        "def get_wordnet_pos(word):\n",
        "    \"\"\"Map POS tag to first character lemmatize() accepts\"\"\"\n",
        "    tag = nltk.pos_tag([word])[0][1][0].upper()\n",
        "    tag_dict = {\"J\": wn.ADJ,\n",
        "                \"N\": wn.NOUN,\n",
        "                \"V\": wn.VERB,\n",
        "                \"R\": wn.ADV}\n",
        "\n",
        "    return tag_dict.get(tag, wn.NOUN)\n",
        "\n",
        "def word_lemmatizer(series):\n",
        "  \"\"\"lemmatizes words in series to their root using POS tag\"\"\"\n",
        "  \n",
        "  count = series.shape[0] # number of inputs\n",
        "  txt_series = series.copy()\n",
        "  lemmatizer = WordNetLemmatizer() # initializing lemmatizer\n",
        "  \n",
        "  for i in range(count):\n",
        "    tst = [lemmatizer.lemmatize(w, get_wordnet_pos(w)) for w in txt_series.iloc[i]]\n",
        "    txt_series.iloc[i] = tst\n",
        "  \n",
        "  return(txt_series)\n",
        "\n",
        "# a new column with lemmatized words\n",
        "Corpus['lem_txt'] = word_lemmatizer(Corpus['stp_text'])"
      ],
      "execution_count": 0,
      "outputs": []
    },
    {
      "cell_type": "code",
      "metadata": {
        "id": "MeyaSBEbe3og",
        "colab_type": "code",
        "outputId": "01e20cfd-8e66-43fa-d546-b25f61d8c00e",
        "colab": {
          "base_uri": "https://localhost:8080/",
          "height": 359
        }
      },
      "source": [
        "Corpus.tail(10)"
      ],
      "execution_count": 0,
      "outputs": [
        {
          "output_type": "execute_result",
          "data": {
            "text/html": [
              "<div>\n",
              "<style scoped>\n",
              "    .dataframe tbody tr th:only-of-type {\n",
              "        vertical-align: middle;\n",
              "    }\n",
              "\n",
              "    .dataframe tbody tr th {\n",
              "        vertical-align: top;\n",
              "    }\n",
              "\n",
              "    .dataframe thead th {\n",
              "        text-align: right;\n",
              "    }\n",
              "</style>\n",
              "<table border=\"1\" class=\"dataframe\">\n",
              "  <thead>\n",
              "    <tr style=\"text-align: right;\">\n",
              "      <th></th>\n",
              "      <th>text</th>\n",
              "      <th>label</th>\n",
              "      <th>stp_text</th>\n",
              "      <th>lem_txt</th>\n",
              "    </tr>\n",
              "  </thead>\n",
              "  <tbody>\n",
              "    <tr>\n",
              "      <th>9990</th>\n",
              "      <td>[psychological, thriller, !, :, this, movie, r...</td>\n",
              "      <td>__label__2</td>\n",
              "      <td>[psychological, thriller, movie, really, scare...</td>\n",
              "      <td>[psychological, thriller, movie, really, scar,...</td>\n",
              "    </tr>\n",
              "    <tr>\n",
              "      <th>9991</th>\n",
              "      <td>[a, little, more, money, than, what, i, expect...</td>\n",
              "      <td>__label__2</td>\n",
              "      <td>[little, money, expected, spend, good, movie, ...</td>\n",
              "      <td>[little, money, expect, spend, good, movie, hu...</td>\n",
              "    </tr>\n",
              "    <tr>\n",
              "      <th>9992</th>\n",
              "      <td>[``, the, silence, of, the, dummies, '', :, th...</td>\n",
              "      <td>__label__1</td>\n",
              "      <td>[silence, dummies, overall, real, hoot, anthon...</td>\n",
              "      <td>[silence, dummy, overall, real, hoot, anthony,...</td>\n",
              "    </tr>\n",
              "    <tr>\n",
              "      <th>9993</th>\n",
              "      <td>[mauled, again, -, killing, bears, to, enrich,...</td>\n",
              "      <td>__label__1</td>\n",
              "      <td>[mauled, killing, bears, enrich, jim, cole, ti...</td>\n",
              "      <td>[maul, kill, bear, enrich, jim, cole, ticket, ...</td>\n",
              "    </tr>\n",
              "    <tr>\n",
              "      <th>9994</th>\n",
              "      <td>[sorry, jim, :, as, a, former, realtor, ,, mr....</td>\n",
              "      <td>__label__1</td>\n",
              "      <td>[sorry, jim, former, realtor, cole, owes, natu...</td>\n",
              "      <td>[sorry, jim, former, realtor, cole, owes, natu...</td>\n",
              "    </tr>\n",
              "    <tr>\n",
              "      <th>9995</th>\n",
              "      <td>[a, revelation, of, life, in, small, town, ame...</td>\n",
              "      <td>__label__2</td>\n",
              "      <td>[revelation, life, small, town, america, early...</td>\n",
              "      <td>[revelation, life, small, town, america, early...</td>\n",
              "    </tr>\n",
              "    <tr>\n",
              "      <th>9996</th>\n",
              "      <td>[great, biography, of, a, very, interesting, j...</td>\n",
              "      <td>__label__2</td>\n",
              "      <td>[great, biography, interesting, journalist, bi...</td>\n",
              "      <td>[great, biography, interest, journalist, biogr...</td>\n",
              "    </tr>\n",
              "    <tr>\n",
              "      <th>9997</th>\n",
              "      <td>[interesting, subject, ;, poor, presentation, ...</td>\n",
              "      <td>__label__1</td>\n",
              "      <td>[interesting, subject, poor, presentation, tel...</td>\n",
              "      <td>[interest, subject, poor, presentation, tell, ...</td>\n",
              "    </tr>\n",
              "    <tr>\n",
              "      <th>9998</th>\n",
              "      <td>[do, n't, buy, :, the, box, looked, used, and,...</td>\n",
              "      <td>__label__1</td>\n",
              "      <td>[buy, box, looked, used, obviously, new, tried...</td>\n",
              "      <td>[buy, box, look, use, obviously, new, try, con...</td>\n",
              "    </tr>\n",
              "    <tr>\n",
              "      <th>9999</th>\n",
              "      <td>[beautiful, pen, and, fast, delivery, ., :, th...</td>\n",
              "      <td>__label__2</td>\n",
              "      <td>[beautiful, pen, fast, delivery, pen, shipped,...</td>\n",
              "      <td>[beautiful, pen, fast, delivery, pen, ship, pr...</td>\n",
              "    </tr>\n",
              "  </tbody>\n",
              "</table>\n",
              "</div>"
            ],
            "text/plain": [
              "                                                   text  ...                                            lem_txt\n",
              "9990  [psychological, thriller, !, :, this, movie, r...  ...  [psychological, thriller, movie, really, scar,...\n",
              "9991  [a, little, more, money, than, what, i, expect...  ...  [little, money, expect, spend, good, movie, hu...\n",
              "9992  [``, the, silence, of, the, dummies, '', :, th...  ...  [silence, dummy, overall, real, hoot, anthony,...\n",
              "9993  [mauled, again, -, killing, bears, to, enrich,...  ...  [maul, kill, bear, enrich, jim, cole, ticket, ...\n",
              "9994  [sorry, jim, :, as, a, former, realtor, ,, mr....  ...  [sorry, jim, former, realtor, cole, owes, natu...\n",
              "9995  [a, revelation, of, life, in, small, town, ame...  ...  [revelation, life, small, town, america, early...\n",
              "9996  [great, biography, of, a, very, interesting, j...  ...  [great, biography, interest, journalist, biogr...\n",
              "9997  [interesting, subject, ;, poor, presentation, ...  ...  [interest, subject, poor, presentation, tell, ...\n",
              "9998  [do, n't, buy, :, the, box, looked, used, and,...  ...  [buy, box, look, use, obviously, new, try, con...\n",
              "9999  [beautiful, pen, and, fast, delivery, ., :, th...  ...  [beautiful, pen, fast, delivery, pen, ship, pr...\n",
              "\n",
              "[10 rows x 4 columns]"
            ]
          },
          "metadata": {
            "tags": []
          },
          "execution_count": 163
        }
      ]
    },
    {
      "cell_type": "code",
      "metadata": {
        "id": "6tDd9CrkKj5C",
        "colab_type": "code",
        "outputId": "8229f08f-a796-4456-dbd5-6751899025fc",
        "colab": {
          "base_uri": "https://localhost:8080/",
          "height": 221
        }
      },
      "source": [
        "#The above dataframe gives us the list of final text but for TF-IDF we need the input as string. So we can create a final column with lambda function\n",
        "Corpus['text_final'] = Corpus['lem_txt'].apply(lambda x: ' '.join(x))\n",
        "Corpus['text_final']"
      ],
      "execution_count": 0,
      "outputs": [
        {
          "output_type": "execute_result",
          "data": {
            "text/plain": [
              "0       stun even sound track beautiful paint senery m...\n",
              "1       best soundtrack ever anything reading lot revi...\n",
              "2       amaze soundtrack favorite music time hand inte...\n",
              "3       excellent soundtrack truly like soundtrack enj...\n",
              "4       remember pull jaw floor hearing played game kn...\n",
              "                              ...                        \n",
              "9995    revelation life small town america early thoug...\n",
              "9996    great biography interest journalist biography ...\n",
              "9997    interest subject poor presentation tell boring...\n",
              "9998    buy box look use obviously new try contact ema...\n",
              "9999    beautiful pen fast delivery pen ship promptly ...\n",
              "Name: text_final, Length: 10000, dtype: object"
            ]
          },
          "metadata": {
            "tags": []
          },
          "execution_count": 208
        }
      ]
    },
    {
      "cell_type": "markdown",
      "metadata": {
        "id": "ZyNdvxAGK8zW",
        "colab_type": "text"
      },
      "source": [
        "##### Prepare Test/ Train/ Datasets"
      ]
    },
    {
      "cell_type": "code",
      "metadata": {
        "id": "JZAa2-N1K8za",
        "colab_type": "code",
        "colab": {}
      },
      "source": [
        "Train_X, Test_X, Train_Y, Test_Y = model_selection.train_test_split(Corpus['text_final'],Corpus['label'],test_size=1/3)"
      ],
      "execution_count": 0,
      "outputs": []
    },
    {
      "cell_type": "markdown",
      "metadata": {
        "id": "Y0TwTyW2K8zp",
        "colab_type": "text"
      },
      "source": [
        "##### STEP -6: Encoding\n",
        "Label encode the target variable — This is done to transform Categorical data of string type in the data set into numerical values which the model can understand."
      ]
    },
    {
      "cell_type": "code",
      "metadata": {
        "id": "ySx-7EkYK8zt",
        "colab_type": "code",
        "colab": {}
      },
      "source": [
        "Encoder = LabelEncoder()\n",
        "Train_Y = Encoder.fit_transform(Train_Y)\n",
        "Test_Y = Encoder.fit_transform(Train_Y)"
      ],
      "execution_count": 0,
      "outputs": []
    },
    {
      "cell_type": "code",
      "metadata": {
        "id": "52285YXzK8z1",
        "colab_type": "code",
        "colab": {}
      },
      "source": [
        "Tfidf_vect = TfidfVectorizer(max_features=5000)\n",
        "Tfidf_vect.fit(Corpus['text_final'])\n",
        "Train_X_Tfidf = Tfidf_vect.transform(Train_X)\n",
        "Test_X_Tfidf = Tfidf_vect.transform(Test_X)"
      ],
      "execution_count": 0,
      "outputs": []
    },
    {
      "cell_type": "code",
      "metadata": {
        "id": "PaX9RahsK8z9",
        "colab_type": "code",
        "outputId": "a4c2f1a2-4b25-45a2-caa9-e8072cd8b4f4",
        "colab": {
          "base_uri": "https://localhost:8080/",
          "height": 54
        }
      },
      "source": [
        "print(Tfidf_vect.vocabulary_)"
      ],
      "execution_count": 227,
      "outputs": [
        {
          "output_type": "stream",
          "text": [
            "{'stun': 4283, 'even': 1500, 'sound': 4136, 'track': 4558, 'beautiful': 362, 'paint': 3135, 'mind': 2817, 'well': 4862, 'would': 4948, 'recomend': 3596, 'people': 3207, 'hate': 2031, 'video': 4762, 'game': 1838, 'music': 2901, 'played': 3288, 'cross': 989, 'ever': 1503, 'best': 401, 'back': 307, 'away': 298, 'crude': 992, 'take': 4376, 'step': 4221, 'guitar': 1983, 'orchestra': 3072, 'impress': 2215, 'anyone': 186, 'care': 605, 'listen': 2594, 'soundtrack': 4137, 'anything': 187, 'reading': 3565, 'lot': 2637, 'review': 3720, 'say': 3834, 'figure': 1669, 'write': 4956, 'disagree': 1201, 'bit': 420, 'ultimate': 4633, 'masterpiece': 2732, 'timeless': 4506, 'year': 4975, 'beauty': 364, 'simply': 4019, 'refuse': 3620, 'price': 3396, 'tag': 4375, 'pretty': 3391, 'must': 2907, 'go': 1909, 'buy': 567, 'cd': 636, 'much': 2892, 'money': 2852, 'one': 3051, 'feel': 1646, 'worth': 4944, 'every': 1505, 'penny': 3206, 'amaze': 142, 'favorite': 1634, 'time': 4505, 'hand': 2002, 'intense': 2304, 'sadness': 3804, 'fate': 1629, 'mean': 2749, 'hope': 2125, 'distant': 1241, 'promise': 3437, 'girl': 1890, 'stole': 4241, 'star': 4201, 'important': 2212, 'inspiration': 2282, 'personally': 3227, 'throughout': 4487, 'teen': 4406, 'high': 2085, 'energy': 1439, 'like': 2572, 'trigger': 4593, 'absolutely': 7, 'superb': 4323, 'probably': 3414, 'composer': 843, 'work': 4934, 'heard': 2047, 'ca': 570, 'sure': 4335, 'never': 2950, 'twice': 4621, 'wish': 4913, 'could': 939, 'give': 1892, 'excellent': 1529, 'truly': 4605, 'enjoy': 1448, 'relax': 3638, 'disk': 1228, 'scar': 3839, 'life': 2562, 'death': 1056, 'ancient': 159, 'dragon': 1287, 'lose': 2633, 'drown': 1310, 'two': 4624, 'home': 2115, 'girlfriend': 1891, 'three': 4482, 'garden': 1849, 'god': 1911, 'sea': 3880, 'burning': 558, 'prayer': 3363, 'tower': 4553, 'radical': 3523, 'brought': 527, 'remember': 3655, 'pull': 3470, 'jaw': 2375, 'floor': 1725, 'hearing': 2048, 'know': 2461, 'single': 4027, 'song': 4118, 'tell': 4411, 'story': 4250, 'good': 1917, 'great': 1952, 'without': 4917, 'doubt': 1275, 'magical': 2673, 'wind': 4901, 'jewel': 2389, 'translation': 4573, 'varies': 4732, 'perfect': 3213, 'ask': 244, 'pour': 3350, 'heart': 2049, 'paper': 3146, 'absolute': 6, 'quite': 3511, 'actually': 44, 'read': 3561, 'least': 2527, 'whether': 4873, 'aware': 297, 'contribute': 903, 'greatly': 1953, 'mood': 2863, 'minute': 2826, 'whole': 4881, 'exact': 1520, 'count': 941, 'remarkable': 3653, 'assure': 255, 'forget': 1756, 'everything': 1509, 'listener': 2596, 'dance': 1030, 'slow': 4071, 'haunt': 2033, 'purely': 3483, 'beautifully': 363, 'compose': 842, 'fantastic': 1617, 'vocal': 4795, 'surely': 4336, 'buyer': 568, 'beware': 403, 'book': 464, 'want': 4817, 'paragraph': 3153, 'family': 1612, 'friend': 1801, 'perhaps': 3220, 'imagine': 2201, 'thing': 4466, 'spent': 4167, 'piece': 3257, 'another': 176, 'definitely': 1086, 'bad': 312, 'enough': 1453, 'enter': 1455, 'kind': 2444, 'contest': 894, 'believe': 382, 'amazon': 144, 'sell': 3906, 'maybe': 2743, 'offer': 3037, 'grade': 1935, 'term': 4427, 'kill': 2442, 'anyway': 189, 'unless': 4675, 'send': 3908, 'someone': 4111, 'joke': 2403, 'far': 1619, 'glorious': 1901, 'love': 2642, 'wicked': 4884, 'saint': 3808, 'pleasantly': 3292, 'surprised': 4343, 'change': 662, 'romance': 3765, 'novel': 3003, 'world': 4939, 'rave': 3556, 'bought': 480, 'brilliant': 515, 'true': 4603, 'wonderful': 4926, 'told': 4524, 'typical': 4626, 'crime': 979, 'becuase': 368, 'miss': 2833, 'warm': 4820, 'five': 1704, 'finish': 1685, 'fell': 1649, 'expect': 1552, 'average': 291, 'instead': 2292, 'found': 1774, 'thought': 4477, 'predict': 3370, 'outcome': 3092, 'shock': 3977, 'descriptive': 1132, 'broke': 524, 'julia': 2414, 'felt': 1652, 'reader': 3563, 'lover': 2645, 'let': 2549, 'cover': 953, 'fool': 1747, 'spectacular': 4159, 'easy': 1360, 'make': 2684, 'keep': 2431, 'put': 3491, 'left': 2532, 'follow': 1742, 'come': 799, 'soon': 4122, 'use': 4708, 'gotten': 1930, 'enjoyable': 1449, 'complete': 835, 'waste': 4834, 'error': 1481, 'poor': 3317, 'grammar': 1940, 'totally': 4546, 'pathetic': 3180, 'plot': 3297, 'add': 51, 'nothing': 2998, 'embarrass': 1413, 'author': 283, 'disappointed': 1205, 'paid': 3131, 'fast': 1625, 'boy': 488, 'twist': 4623, 'turn': 4614, 'guess': 1977, 'happen': 2008, 'next': 2959, 'fall': 1608, 'heat': 2051, 'also': 131, 'several': 3939, 'emotion': 1418, 'quick': 3503, 'something': 4112, 'end': 1433, 'day': 1046, 'night': 2969, 'yet': 4983, 'realistic': 3570, 'show': 3991, 'human': 2157, 'fact': 1593, 'writer': 4958, 'side': 4000, 'glass': 1895, 'castle': 622, 'oh': 3043, 'please': 3293, 'others': 3087, 'drivel': 1306, 'trouble': 4601, 'typo': 4628, 'feature': 1638, 'first': 1696, 'page': 3130, 'remove': 3664, 'wait': 4808, 'point': 3306, 'begin': 374, 'clear': 750, 'intentional': 2307, 'churn': 722, 'prose': 3452, 'purpose': 3487, 'glad': 1893, 'awful': 300, 'beyond': 404, 'belief': 380, 'seem': 3898, 'grader': 1936, 'skill': 4045, 'age': 91, 'reviewer': 3721, 'per': 3209, 'chapter': 665, 'example': 1525, 'mention': 2783, 'lean': 2523, 'house': 2145, 'distract': 1243, 'weak': 4843, 'decide': 1064, 'pencil': 3204, 'mark': 2711, 'horrible': 2130, 'spell': 4163, 'relative': 3636, 'faith': 1605, 'try': 4608, 'fake': 1607, 'obvious': 3022, 'glow': 1904, 'person': 3224, 'sentence': 3918, 'structure': 4275, 'think': 4467, 'romantic': 3766, 'zen': 4993, 'baseball': 335, 'comedy': 801, 'hear': 2046, 'folk': 1741, 'anymore': 185, 'might': 2805, 'talk': 4380, 'cool': 921, 'young': 4988, 'search': 3884, 'stumble': 4282, 'resort': 3696, 'kitchen': 2452, 'gig': 1887, 'motorcycle': 2880, 'maintenance': 2681, 'man': 2689, 'italian': 2352, 'right': 3741, 'play': 3285, 'team': 4398, 'owner': 3121, 'often': 3042, 'case': 618, 'honest': 2118, 'comical': 808, 'always': 139, 'emotional': 1419, 'interaction': 2309, 'player': 3289, 'mix': 2837, 'special': 4154, 'effect': 1380, 'salsa': 3811, 'get': 1880, 'big': 407, 'compression': 848, 'stocking': 4240, 'doctor': 1253, 'require': 3686, 'wear': 4848, 'wore': 4933, 'ugly': 4631, 'white': 4878, 'hose': 2137, 'thick': 4461, 'brown': 528, 'jobst': 2396, 'need': 2939, 'look': 2627, 'regular': 3626, 'though': 4476, 'blood': 440, 'still': 4232, 'support': 4330, 'leg': 2533, 'nice': 2960, 'problem': 3416, 'top': 4535, 'roll': 3761, 'thigh': 4464, 'hat': 2030, 'skin': 4047, 'inexpensive': 2256, 'belt': 390, 'fine': 1683, 'help': 2065, 'product': 3422, 'however': 2149, 'difficult': 1183, 'old': 3047, 'full': 1814, 'workout': 4938, 'create': 968, 'deep': 1073, 'difficulty': 1184, 'address': 56, 'size': 4040, 'recomended': 3597, 'chart': 674, 'real': 3567, 'small': 4073, 'sheer': 3962, 'item': 2354, 'store': 4248, 'check': 682, 'men': 2779, 'model': 2843, 'may': 2742, 'ok': 3045, 'type': 4625, 'active': 39, 'around': 223, 'alot': 126, 'job': 2395, 'consistently': 879, 'ankle': 170, 'solution': 4106, 'standard': 4198, 'stock': 4239, 'stay': 4213, 'pair': 3137, 'tore': 4538, 'struggle': 4276, 'investment': 2334, 'delicious': 1100, 'funny': 1824, 'quickly': 3505, 'package': 3125, 'notice': 2999, 'since': 4022, 'convenience': 909, 'wrap': 4953, 'plastic': 3281, 'log': 2616, 'surprise': 4342, 'messy': 2792, 'extremely': 1585, 'sticky': 4230, 'ratio': 3554, 'ingredient': 2267, 'extra': 1581, 'butter': 565, 'really': 3574, 'large': 2493, 'chocolate': 703, 'chip': 702, 'addition': 54, 'flavor': 1711, 'digital': 1186, 'copy': 923, 'rather': 3552, 'scratch': 3869, 'random': 3537, 'combine': 797, 'light': 2566, 'vague': 4722, 'image': 2197, 'resolution': 3694, 'packaging': 3126, 'straight': 4254, 'street': 4262, 'corner': 927, 'bootleg': 469, 'see': 3896, 'reasonably': 3579, 'condition': 861, 'film': 1673, 'define': 1083, 'visuals': 4789, 'crystal': 996, 'contrast': 902, 'black': 424, 'surround': 4347, 'countryside': 946, 'scene': 3848, 'set': 3934, 'early': 1350, 'morning': 2870, 'ground': 1967, 'memory': 2778, 'event': 1501, 'bridge': 512, 'water': 4837, 'bright': 514, 'dull': 1327, 'dark': 1036, 'cloud': 771, 'captain': 598, 'command': 809, 'hard': 2014, 'award': 296, 'win': 4900, 'acclaim': 23, 'presentation': 3384, 'youtube': 4991, 'somewhere': 4116, 'dvd': 1338, 'public': 3465, 'library': 2557, 'none': 2986, 'appear': 200, 'fascinate': 1623, 'insight': 2279, 'modern': 2844, 'japanese': 2371, 'thoroughly': 4474, 'rise': 3746, 'son': 4117, 'daughter': 1042, 'society': 4095, 'view': 4763, 'parent': 3158, 'culture': 1001, 'community': 819, 'peer': 3200, 'western': 4864, 'form': 1760, 'new': 2952, 'japan': 2370, 'international': 2315, 'blend': 433, 'demonstrates': 1113, 'private': 3411, 'member': 2775, 'steven': 4226, 'clearly': 751, 'talented': 4379, 'adopt': 65, 'school': 3855, 'four': 1776, 'thus': 4492, 'able': 3, 'inside': 2278, 'album': 112, 'blue': 446, 'angel': 162, 'hair': 1995, 'singer': 4026, 'talent': 4378, 'find': 1681, 'charge': 669, 'charger': 670, 'aa': 0, 'battery': 347, 'huge': 2154, 'secure': 3893, 'flip': 1723, 'little': 2603, 'button': 566, 'positive': 3336, 'pop': 3319, 'wo': 4920, 'hold': 2106, 'mechanism': 2759, 'become': 366, 'loose': 2629, 'pressure': 3388, 'push': 3490, 'tape': 4386, 'segment': 3901, 'apply': 205, 'painful': 3133, 'advertised': 74, 'instruction': 2293, 'dont': 1269, 'do': 1251, 'hour': 2144, 'return': 3714, 'kept': 2435, 'useless': 4710, 'backup': 311, 'manage': 2690, 'drain': 1288, 'purchase': 3480, 'convenient': 910, 'last': 2497, 'short': 3984, 'longer': 2626, 'dear': 1055, 'excite': 1537, 'muslim': 2906, 'volume': 4799, 'live': 2604, 'essay': 1485, 'among': 150, 'describes': 1130, 'explain': 1563, 'woman': 4924, 'cape': 596, 'town': 4554, 'claim': 735, 'separate': 3920, 'equal': 1471, 'hop': 2124, 'feminist': 1655, 'gender': 1861, 'virtue': 4781, 'female': 1653, 'base': 334, 'christmas': 716, 'present': 3383, 'join': 2401, 'rest': 3703, 'vhs': 4752, 'movie': 2888, 'tv': 4619, 'choice': 704, 'agree': 95, 'awkward': 302, 'selection': 3904, 'option': 3070, 'hang': 2007, 'comment': 810, 'complicate': 839, 'many': 2703, 'remote': 3661, 'rely': 3647, 'heavily': 2055, 'manual': 2699, 'vcr': 4736, 'timer': 4508, 'start': 4205, 'scroll': 3877, 'complaint': 834, 'incorrect': 2236, 'disc': 1208, 'fan': 1614, 'saw': 3832, 'unit': 4669, 'section': 3892, 'happy': 2013, 'sends': 3909, 'click': 755, 'receiver': 3587, 'transition': 4571, 'smooth': 4081, 'pause': 3188, 'fairly': 1603, 'message': 2791, 'nut': 3013, 'television': 4410, 'bookshelf': 466, 'audio': 274, 'system': 4371, 'car': 602, 'move': 2886, 'room': 3770, 'knew': 2454, 'combo': 798, 'except': 1530, 'cable': 572, 'box': 486, 'control': 906, 'input': 2275, 'program': 3432, 'mono': 2855, 'wife': 4892, 'difference': 1180, 'title': 4518, 'hollywood': 2111, 'ridiculous': 3738, 'wonder': 4925, 'script': 3875, 'mountain': 2883, 'lion': 2588, 'break': 500, 'trailer': 4565, 'behind': 378, 'capture': 601, 'jail': 2363, 'cell': 642, 'utterly': 4719, 'completely': 836, 'stupid': 4284, 'bet': 402, 'hotel': 2142, 'incredible': 2238, 'act': 37, 'bbc': 351, 'soap': 4090, 'max': 2741, 'mariah': 2708, 'drama': 1289, 'series': 3927, 'opera': 3059, 'mixed': 2838, 'air': 101, 'america': 146, 'episode': 1469, 'season': 3885, 'finale': 1677, 'interest': 2310, 'reminds': 3658, 'reason': 3577, 'fictional': 1661, 'san': 3816, 'francisco': 1784, 'recommend': 3598, 'willing': 4898, 'watch': 4835, 'already': 129, 'law': 2509, 'seriously': 3929, 'unfortunately': 4661, 'entertain': 1456, 'order': 3073, 'hip': 2094, 'daddy': 1023, 'vibe': 4754, 'fourth': 1777, 'class': 741, 'main': 2677, 'voice': 4797, 'party': 3167, 'anywhere': 191, 'laugh': 2503, 'beach': 354, 'grow': 1969, 'surfer': 4339, 'southern': 4141, 'california': 575, 'brother': 526, 'honestly': 2119, 'kinda': 2445, 'surf': 4337, 'explains': 1564, 'hell': 2063, 'moral': 2867, 'aspect': 247, 'american': 147, 'argue': 218, 'explanation': 1565, 'simple': 4015, 'focus': 1739, 'individual': 2250, 'ignore': 2188, 'personal': 3225, 'responsibility': 3701, 'final': 1676, 'response': 3700, 'robert': 3754, 'seller': 3907, 'disgust': 1224, 'state': 4208, 'medium': 2765, 'politics': 3313, 'general': 1862, 'head': 2039, 'substantial': 4294, 'challenge': 658, 'lie': 2561, 'being': 379, 'larry': 2495, 'label': 2472, 'late': 2498, 'explore': 1568, 'rich': 3732, 'catalog': 625, 'jazz': 2378, 'musician': 2903, 'stand': 4197, 'mile': 2810, 'mac': 2661, 'line': 2584, 'window': 4902, 'frustrate': 1810, 'attempt': 264, 'touch': 4547, 'mouse': 2884, 'arrow': 228, 'keyboard': 2439, 'fun': 1816, 'disapointed': 1202, 'attention': 266, 'long': 2625, 'level': 2552, 'rescue': 3689, 'hero': 2074, 'dog': 1258, 'former': 1763, 'repeatedly': 3672, 'recipe': 3593, 'throw': 4488, 'cup': 1003, 'nearly': 2934, 'compare': 824, 'ed': 1369, 'wood': 4929, 'flawlessly': 1714, 'lisa': 2592, 'wild': 4894, 'bread': 499, 'novice': 3005, 'place': 3273, 'reliable': 3642, 'concise': 858, 'information': 2264, 'maintain': 2680, 'fabulous': 1590, 'pas': 3168, 'historical': 2098, 'warrant': 4827, 'cost': 934, 'alaska': 110, 'visit': 4785, 'starter': 4206, 'collection': 789, 'advise': 78, 'ruth': 3797, 'picture': 3256, 'past': 3174, 'ago': 94, 'mixer': 2839, 'stuff': 4281, 'pot': 3346, 'closer': 764, 'download': 1279, 'decade': 1060, 'background': 309, 'hunt': 2166, 'melody': 2773, 'english': 1445, 'lyric': 2658, 'else': 1406, 'via': 4753, 'happily': 2011, 'ipod': 2338, 'experience': 1557, 'fm': 1737, 'rattle': 3555, 'sometimes': 4114, 'quality': 3493, 'screen': 3871, 'thru': 4490, 'middle': 2803, 'plus': 3299, 'dead': 1049, 'layout': 2512, 'sense': 3912, 'engineering': 1443, 'imo': 2207, 'refund': 3619, 'name': 2915, 'hesitant': 2076, 'flat': 1710, 'panel': 3144, 'lcd': 2515, 'built': 547, 'weight': 4859, 'space': 4143, 'save': 3831, 'attractive': 272, 'design': 1136, 'sharp': 3960, 'playback': 3287, 'negative': 2942, 'function': 1817, 'key': 2438, 'due': 1324, 'color': 793, 'almost': 123, 'carefully': 608, 'terrible': 4430, 'birthday': 418, 'fail': 1599, 'junk': 2424, 'capable': 594, 'recall': 3582, 'flash': 1708, 'channel': 663, 'sony': 4121, 'universal': 4671, 'learn': 2525, 'factory': 1595, 'deal': 1052, 'user': 4711, 'annoy': 174, 'replace': 3675, 'tube': 4609, 'gain': 1834, 'counter': 942, 'internal': 2314, 'bonus': 462, 'defective': 1079, 'electronics': 1396, 'express': 1574, 'contact': 888, 'number': 3010, 'picked': 3253, 'arrive': 227, 'week': 4856, 'later': 2500, 'clarity': 739, 'mode': 2842, 'loud': 2638, 'rv': 3798, 'run': 3791, 'barely': 330, 'solve': 4107, 'jack': 2360, 'stereo': 4223, 'speaker': 4150, 'lightweight': 2571, 'antenna': 178, 'opinion': 3063, 'bias': 405, 'angle': 164, 'europe': 1496, 'clean': 747, 'proper': 3447, 'fails': 1600, 'shed': 3961, 'understand': 4650, 'guide': 1979, 'tour': 4549, 'country': 945, 'forgotten': 1759, 'reference': 3612, 'travel': 4578, 'outline': 3099, 'detail': 1147, 'disappointment': 1206, 'realy': 3575, 'everybody': 1506, 'combination': 796, 'illustration': 2195, 'text': 4439, 'overall': 3104, 'sight': 4001, 'city': 732, 'european': 1497, 'thank': 4444, 'lonely': 2624, 'planet': 3278, 'info': 2262, 'buying': 569, 'surface': 4338, 'receive': 3586, 'germany': 1879, 'overview': 3116, 'greece': 1955, 'spanish': 4145, 'sort': 4132, 'printing': 3407, 'highlight': 2086, 'front': 1807, 'course': 949, 'kid': 2441, 'jay': 2377, 'eric': 1478, 'tender': 4422, 'rock': 3756, 'offend': 3035, 'either': 1389, 'depends': 1119, 'sent': 3917, 'foot': 1748, 'accept': 16, 'way': 4841, 'gift': 1886, 'husband': 2171, 'date': 1041, 'disappoint': 1204, 'plate': 3282, 'inferior': 2257, 'previous': 3394, 'edition': 1373, 'ahead': 97, 'homer': 2116, 'helpful': 2066, 'gem': 1860, 'complex': 837, 'subject': 4290, 'second': 3888, 'century': 650, 'religious': 3646, 'authority': 284, 'serious': 3928, 'period': 3221, 'essential': 1487, 'detailed': 1148, 'yes': 4981, 'cardboard': 604, 'beat': 359, 'cheesy': 686, 'worn': 4940, 'across': 36, 'entire': 1460, 'solid': 4103, 'decent': 1063, 'distance': 1240, 'scrap': 3868, 'noticeable': 3000, 'plenty': 3296, 'material': 2735, 'loosely': 2630, 'bottom': 479, 'shipping': 3974, 'exchange': 1536, 'damage': 1027, 'risk': 3747, 'unknown': 4674, 'africa': 87, 'produce': 3420, 'mixture': 2840, 'african': 88, 'soft': 4097, 'fit': 1701, 'record': 3600, 'france': 1782, 'paris': 3159, 'professional': 3426, 'hot': 2141, 'lazy': 2513, 'expectation': 1553, 'shoe': 3979, 'ripped': 3745, 'apart': 194, 'sole': 4101, 'clark': 740, 'sadly': 3803, 'within': 4916, 'month': 2861, 'similar': 4012, 'profound': 3430, 'narrative': 2918, 'style': 4287, 'famous': 1613, 'john': 2398, 'frequently': 1796, 'carry': 614, 'tone': 4531, 'amateur': 140, 'historian': 2097, 'passing': 3171, 'neither': 2944, 'graduate': 1937, 'consider': 876, 'represent': 3680, 'today': 4519, 'research': 3690, 'thin': 4465, 'essentially': 1488, 'primary': 3400, 'secondary': 3889, 'source': 4139, 'rat': 3550, 'yr': 4992, 'barbie': 327, 'computer': 850, 'worried': 4941, 'vibrant': 4755, 'friendly': 1802, 'mommy': 2851, 'ton': 4530, 'together': 4523, 'decorate': 1069, 'alone': 124, 'creativity': 972, 'adventure': 73, 'addict': 52, 'opening': 3058, 'sing': 4025, 'non': 2985, 'stop': 4246, 'prince': 3403, 'sings': 4028, 'cry': 995, 'child': 695, 'currently': 1009, 'bedroom': 371, 'result': 3708, 'painting': 3136, 'flower': 1730, 'halfway': 1997, 'hung': 2164, 'leave': 2529, 'exit': 1548, 'frozen': 1809, 'spot': 4181, 'urge': 4702, 'software': 4099, 'reboot': 3581, 'site': 4034, 'fault': 1631, 'catch': 627, 'bug': 542, 'caught': 632, 'buck': 534, 'avoid': 293, 'creative': 971, 'granddaughter': 1943, 'plan': 3276, 'imagination': 2199, 'fight': 1667, 'choose': 705, 'theme': 4452, 'allows': 121, 'power': 3353, 'stone': 4243, 'bring': 517, 'animation': 168, 'boring': 473, 'adult': 68, 'variation': 4730, 'scheme': 3852, 'pattern': 3185, 'bore': 471, 'highly': 2087, 'rental': 3669, 'basically': 338, 'sister': 4032, 'classic': 742, 'multiple': 2896, 'access': 18, 'everytime': 1510, 'task': 4389, 'sequence': 3924, 'file': 1670, 'crash': 961, 'possible': 3339, 'grand': 1941, 'patience': 3181, 'survive': 4349, 'trial': 4589, 'substitute': 4295, 'vendor': 4744, 'feedback': 1643, 'rate': 3551, 'bother': 477, 'future': 1827, 'company': 823, 'mistake': 2835, 'spend': 4164, 'hundred': 2163, 'dollar': 1263, 'building': 546, 'careful': 607, 'smell': 4076, 'bottle': 478, 'delicate': 1099, 'summer': 4319, 'impressed': 2216, 'creepy': 977, 'wow': 4952, 'revenge': 3718, 'door': 1271, 'open': 3056, 'prepared': 3381, 'didnt': 1176, 'menu': 2784, 'exist': 1545, 'matter': 2738, 'exception': 1531, 'dub': 1318, 'sub': 4289, 'par': 3149, 'remain': 3648, 'shame': 3956, 'original': 3080, 'offering': 3038, 'sooo': 4124, 'official': 3041, 'production': 3423, 'screw': 3874, 'pioneer': 3265, 'sad': 3802, 'ya': 4970, 'rap': 3543, 'ta': 4372, 'blow': 442, 'jam': 2364, 'ride': 3737, 'underrated': 4649, 'houston': 2147, 'pat': 3177, 'steve': 4225, 'regardless': 3622, 'alive': 118, 'legacy': 2534, 'dirty': 1200, 'south': 4140, 'guest': 1978, 'fat': 1627, 'chris': 711, 'chronicle': 718, 'farm': 1622, 'photo': 3242, 'version': 4750, 'bill': 409, 'history': 2100, 'relationship': 3635, 'treasure': 4582, 'keeper': 2432, 'idea': 2179, 'draw': 1291, 'comfy': 806, 'lounge': 2640, 'cake': 574, 'topper': 4537, 'june': 2421, 'estimate': 1492, 'july': 2417, 'wrong': 4961, 'pearl': 3195, 'kit': 2451, 'cute': 1017, 'provide': 3460, 'annoyed': 175, 'include': 2229, 'trust': 4606, 'additional': 55, 'sweet': 4361, 'grace': 1934, 'email': 1410, 'supply': 4329, 'list': 2593, 'sheet': 3963, 'ready': 3566, 'boot': 468, 'phone': 3241, 'manufacturer': 2701, 'unreliable': 4684, 'critic': 983, 'consumer': 887, 'alike': 117, 'release': 3639, 'debut': 1059, 'radio': 3524, 'hit': 2101, 'dj': 1250, 'band': 322, 'hopefully': 2127, 'club': 772, 'sale': 3810, 'practically': 3358, 'leap': 2524, 'grab': 1932, 'neck': 2938, 'upcoming': 4691, 'omg': 3049, 'own': 3120, 'saturday': 3830, 'jamming': 2367, 'cause': 633, 'classical': 743, 'jason': 2373, 'lead': 2517, 'moment': 2850, 'relief': 3643, 'suggest': 4312, 'skip': 4049, 'finally': 1678, 'horribly': 2131, 'lack': 2476, 'mystery': 2909, 'ten': 4420, 'educational': 1377, 'train': 4566, 'shape': 3957, 'puzzle': 3492, 'range': 3539, 'silly': 4010, 'odd': 3030, 'theory': 4454, 'concert': 857, 'string': 4268, 'appreciate': 206, 'excelent': 1526, 'rendition': 3666, 'caution': 634, 'remastered': 3654, 'irrelevant': 2345, 'textbook': 4440, 'ship': 3972, 'transaction': 4568, 'engage': 1440, 'te': 4394, 'wash': 4830, 'shore': 3983, 'colin': 785, 'opposite': 3066, 'attract': 270, 'call': 576, 'trashy': 4577, 'usually': 4715, 'tie': 4495, 'enchant': 1430, 'heroine': 2075, 'part': 3161, 'content': 893, 'island': 2349, 'solitude': 4104, 'fear': 1636, 'strange': 4256, 'strike': 4267, 'friendship': 1803, 'discovers': 1215, 'courage': 948, 'amuse': 153, 'loses': 2635, 'mostly': 2873, 'characterization': 668, 'character': 666, 'introduce': 2325, 'behavior': 377, 'development': 1156, 'force': 1752, 'improve': 2219, 'towards': 4552, 'portable': 3327, 'drive': 1305, 'performance': 3217, 'constantly': 883, 'half': 1996, 'uncomfortable': 4645, 'pant': 3145, 'incredibly': 2239, 'stiff': 4231, 'authentic': 282, 'encounter': 1431, 'yoruba': 4987, 'particular': 3163, 'certain': 652, 'nuance': 3007, 'spoke': 4178, 'anybody': 184, 'clue': 773, 'leaf': 2520, 'question': 3501, 'unanswered': 4640, 'note': 2997, 'impossible': 2214, 'native': 2925, 'confuse': 869, 'teach': 4396, 'basic': 337, 'vocabulary': 4794, 'specific': 4156, 'vehicle': 4740, 'correct': 931, 'mat': 2733, 'duplicate': 1333, 'therefore': 4458, 'sits': 4035, 'grandchild': 1942, 'value': 4725, 'toe': 4521, 'kelly': 2433, 'pet': 3230, 'parade': 3152, 'dress': 1299, 'pony': 3315, 'jump': 2418, 'etc': 1494, 'animal': 166, 'nail': 2914, 'float': 1724, 'accomplish': 25, 'along': 125, 'wonderfully': 4927, 'instal': 2285, 'laptop': 2491, 'tough': 4548, 'bear': 357, 'fish': 1697, 'finger': 1684, 'pad': 3128, 'load': 2610, 'different': 1181, 'prepare': 3380, 'endless': 1436, 'graphic': 1948, 'colorful': 794, 'winner': 4905, 'freeze': 1793, 'reinstall': 3629, 'issue': 2351, 'activity': 40, 'slip': 4067, 'heel': 2058, 'satisfied': 3828, 'manner': 2696, 'awesome': 299, 'advertisement': 75, 'uk': 4632, 'assume': 254, 'available': 289, 'england': 1444, 'arcade': 212, 'ive': 2357, 'guy': 1987, 'compatible': 828, 'machine': 2663, 'deeply': 1075, 'stage': 4193, 'revolution': 3723, 'equivalent': 1475, 'unheard': 4663, 'favourite': 1635, 'situation': 4036, 'lucky': 2651, 'letter': 2551, 'admit': 63, 'michael': 2800, 'montgomery': 2860, 'approach': 208, 'couple': 947, 'beer': 372, 'devil': 1159, 'spice': 4168, 'deserves': 1135, 'cuz': 1018, 'soldier': 4100, 'punk': 3478, 'rip': 3744, 'hr': 2151, 'ball': 316, 'este': 1491, 'libro': 2558, 'lo': 2609, 'que': 3497, 'el': 1390, 'si': 3998, 'de': 1048, 'con': 851, 'mi': 2799, 'ex': 1519, 'cereal': 651, 'hooked': 2123, 'eat': 1361, 'especially': 1484, 'taste': 4390, 'hungry': 2165, 'bunch': 554, 'fill': 1671, 'word': 4931, 'warn': 4823, 'local': 2611, 'walmart': 4813, 'church': 721, 'bowl': 485, 'timber': 4504, 'frame': 1781, 'build': 545, 'technical': 4401, 'joint': 2402, 'span': 4144, 'mill': 2813, 'museum': 2900, 'master': 2730, 'recent': 3588, 'trip': 4596, 'avid': 292, 'inclined': 2228, 'breeze': 508, 'various': 4734, 'illustrate': 2194, 'practical': 3357, 'outstanding': 3103, 'although': 135, 'construction': 885, 'invaluable': 2329, 'process': 3419, 'edit': 1372, 'caption': 599, 'cap': 593, 'traditional': 4561, 'pick': 3252, 'print': 3405, 'drawing': 1293, 'inform': 2263, 'project': 3436, 'internet': 2316, 'dip': 1193, 'temperature': 4414, 'describe': 1128, 'shrink': 3995, 'egg': 1384, 'transfer': 4569, 'needle': 2940, 'intelligent': 2302, 'immediately': 2204, 'property': 3449, 'explicit': 1566, 'war': 4818, 'coast': 775, 'pc': 3190, 'sink': 4030, 'meant': 2754, 'race': 3517, 'landscape': 2486, 'slide': 4062, 'total': 4543, 'rubbish': 3785, 'mine': 2819, 'ireland': 2340, 'florida': 1728, 'costly': 935, 'henry': 2071, 'nose': 2995, 'chewed': 691, 'nobody': 2980, 'clone': 761, 'forty': 1769, 'dad': 1022, 'ill': 2191, 'significance': 4005, 'battle': 348, 'obsession': 3020, 'threw': 4483, 'replacement': 3676, 'closet': 766, 'shelf': 3964, 'thread': 4481, 'bare': 329, 'online': 3052, 'less': 2546, 'thanks': 4447, 'disney': 1231, 'toy': 4556, 'six': 4037, 'contemporary': 892, 'delight': 1101, 'snow': 4087, 'grown': 1970, 'ups': 4697, 'reward': 3725, 'forward': 1771, 'sketch': 4044, 'excitement': 1538, 'actual': 43, 'render': 3665, 'beginner': 376, 'thrill': 4484, 'instructional': 2294, 'match': 2734, 'cushion': 1013, 'description': 1131, 'deliver': 1104, 'impression': 2217, 'insert': 2277, 'attach': 262, 'strap': 4259, 'definately': 1082, 'luckily': 2650, 'policy': 3309, 'free': 1791, 'sex': 3943, 'publishing': 3469, 'broadway': 523, 'theatre': 4450, 'archive': 214, 'witty': 4919, 'sparkle': 4148, 'ruin': 3788, 'costume': 936, 'absurd': 10, 'blanket': 430, 'btw': 532, 'director': 1198, 'goal': 1910, 'intention': 2306, 'extend': 1576, 'drinking': 1303, 'sit': 4033, 'blurry': 451, 'depend': 1118, 'audience': 273, 'charm': 673, 'chance': 660, 'student': 4278, 'compilation': 832, 'chose': 710, 'perform': 3216, 'artist': 233, 'poorly': 3318, 'wave': 4840, 'prior': 3408, 'sung': 4321, 'garbage': 1847, 'prompt': 3440, 'november': 3004, 'nowhere': 3006, 'deceive': 1061, 'group': 1968, 'performs': 3219, 'duh': 1325, 'trash': 4576, 'purist': 3484, 'wedding': 4854, 'reception': 3590, 'session': 3933, 'cheap': 678, 'vocalist': 4796, 'die': 1177, 'camera': 579, 'continue': 896, 'faster': 1626, 'close': 762, 'tech': 4400, 'mr': 2889, 'curious': 1007, 'producer': 3421, 'realize': 3572, 'reveal': 3715, 'crucial': 991, 'unbelievable': 4642, 'earlier': 1349, 'detective': 1150, 'attorney': 269, 'speak': 4149, 'abuse': 11, 'childhood': 697, 'forgive': 1757, 'successful': 4300, 'spite': 4174, 'horrendous': 2129, 'lord': 2631, 'refer': 3611, 'peter': 3231, 'major': 2682, 'league': 2521, 'score': 3865, 'extensive': 1578, 'resource': 3697, 'tomorrow': 4529, 'till': 4501, 'massive': 2729, 'living': 2606, 'subscription': 4291, 'coverage': 954, 'minor': 2823, 'college': 791, 'brand': 495, 'steer': 4218, 'secret': 3890, 'joe': 2397, 'al': 107, 'phil': 3236, 'intrigue': 2323, 'influence': 2260, 'titan': 4516, 'exploration': 1567, 'jet': 2388, 'craft': 958, 'fuel': 1813, 'atmosphere': 260, 'originally': 3082, 'father': 1630, 'mission': 2834, 'reality': 3571, 'fantasy': 1618, 'david': 1044, 'asimov': 243, 'peek': 3198, 'block': 438, 'obviously': 3023, 'noise': 2982, 'incorporate': 2235, 'easily': 1357, 'identify': 2182, 'banana': 321, 'penguin': 3205, 'tends': 4423, 'wall': 4812, 'smash': 4075, 'drop': 1309, 'treatment': 4584, 'art': 229, 'collector': 790, 'twin': 4622, 'tool': 4533, 'fisher': 1698, 'spin': 4170, 'queen': 3498, 'stack': 4192, 'knock': 2459, 'banging': 324, 'plain': 3275, 'wooden': 4930, 'object': 3015, 'opportunity': 3064, 'eye': 1587, 'purchasing': 3481, 'decision': 1066, 'overnight': 3110, 'rocket': 3757, 'scientist': 3860, 'rub': 3782, 'dissapointing': 1237, 'concept': 854, 'baby': 306, 'mother': 2874, 'shake': 3951, 'imaginative': 2200, 'edge': 1371, 'safety': 3806, 'correspond': 933, 'grandson': 1946, 'goodness': 1920, 'shopping': 3982, 'interested': 2311, 'manipulate': 2694, 'adorable': 66, 'upgrade': 4693, 'format': 1762, 'storage': 4247, 'zipper': 4997, 'durable': 1335, 'perfectly': 3215, 'hurt': 2170, 'category': 629, 'factor': 1594, 'fully': 1815, 'comprehend': 845, 'dig': 1185, 'waterproof': 4838, 'whale': 4866, 'mary': 2724, 'achieve': 31, 'study': 4280, 'communication': 816, 'washington': 4832, 'direct': 1195, 'nifty': 2968, 'halloween': 1999, 'dummy': 1330, 'forgot': 1758, 'nevertheless': 2951, 'depict': 1120, 'certainly': 653, 'campaign': 582, 'academic': 13, 'organization': 3077, 'dedicate': 1072, 'propaganda': 3446, 'office': 3039, 'regularly': 3627, 'hide': 2082, 'terrorist': 4435, 'weapon': 4847, 'violence': 4775, 'intend': 2303, 'innocent': 2273, 'murder': 2898, 'extreme': 1584, 'formula': 1764, 'fortunately': 1767, 'hesitate': 2077, 'chinese': 701, 'green': 1957, 'red': 3605, 'logo': 2620, 'fx': 1831, 'serial': 3926, 'handful': 2004, 'memorable': 2777, 'seal': 3881, 'wing': 4904, 'blame': 427, 'self': 3905, 'sorry': 4131, 'travesty': 4580, 'killer': 2443, 'supernatural': 4326, 'storyline': 4251, 'hole': 2108, 'gory': 1926, 'stephen': 4222, 'initially': 2269, 'indie': 2249, 'horror': 2135, 'flick': 1719, 'jennifer': 2383, 'weekend': 4857, 'bernie': 398, 'terry': 4436, 'actor': 41, 'lol': 2621, 'anyways': 190, 'mask': 2725, 'maker': 2685, 'horrify': 2134, 'suspense': 4351, 'displayed': 1233, 'effort': 1383, 'dialogue': 1168, 'pace': 3123, 'tree': 4585, 'root': 3771, 'yard': 4971, 'knee': 2453, 'cinematic': 725, 'path': 3179, 'typically': 4627, 'predictable': 3371, 'fashion': 1624, 'victim': 4760, 'us': 4703, 'face': 1591, 'motivation': 2878, 'entry': 1464, 'familiar': 1611, 'cast': 621, 'effective': 1381, 'treat': 4583, 'williams': 4897, 'role': 3760, 'lee': 2531, 'doom': 1270, 'equally': 1472, 'ii': 2189, 'filmmaker': 1674, 'borrow': 475, 'everyone': 1508, 'elevate': 1399, 'unimaginative': 4664, 'happens': 2009, 'exactly': 1521, 'fright': 1804, 'safe': 3805, 'brief': 513, 'appearance': 201, 'icon': 2178, 'genre': 1870, 'allow': 120, 'ghetto': 1881, 'artifact': 232, 'card': 603, 'yellow': 4978, 'ordinary': 3074, 'holocaust': 2113, 'diary': 1172, 'extract': 1582, 'eastern': 1359, 'medicine': 2763, 'heal': 2043, 'dissappointed': 1239, 'unhappy': 4662, 'practice': 3359, 'primer': 3402, 'basis': 339, 'application': 204, 'philosophy': 3240, 'natural': 2926, 'balance': 315, 'nature': 2928, 'informative': 2265, 'warcraft': 4819, 'redundant': 3610, 'combat': 795, 'pleasure': 3295, 'respect': 3698, 'ambient': 145, 'enthusiast': 1459, 'whatsoever': 4869, 'darn': 1039, 'guitarist': 1984, 'showcase': 3992, 'utopia': 4716, 'dissapointed': 1236, 'direction': 1196, 'dry': 1315, 'pay': 3189, 'pillow': 3260, 'softer': 4098, 'post': 3341, 'tiny': 4512, 'foam': 1738, 'worthless': 4945, 'amount': 151, 'whatever': 4867, 'super': 4322, 'handle': 2005, 'heavy': 2056, 'dense': 1114, 'cant': 591, 'prop': 3445, 'sleep': 4058, 'otherwise': 3088, 'position': 3335, 'width': 4890, 'rotate': 3775, 'lay': 2510, 'false': 1609, 'military': 2811, 'pic': 3251, 'reply': 3678, 'serum': 3930, 'rid': 3735, 'weather': 4849, 'somehow': 4110, 'double': 1274, 'ai': 98, 'fix': 1705, 'slightly': 4065, 'shop': 3981, 'grocery': 1964, 'dick': 1173, 'provoke': 3462, 'tap': 4385, 'winter': 4907, 'suit': 4315, 'advanced': 71, 'powerful': 3355, 'prefer': 3373, 'outfit': 3096, 'skate': 4041, 'automatically': 287, 'hello': 2064, 'technique': 4402, 'stroke': 4271, 'body': 455, 'split': 4175, 'muscle': 2899, 'kick': 2440, 'worthwhile': 4946, 'stink': 4235, 'scream': 3870, 'ice': 2177, 'simplistic': 4018, 'strive': 4270, 'onto': 3053, 'enjoyment': 1450, 'low': 2646, 'dud': 1322, 'somebody': 4108, 'thats': 4448, 'sake': 3809, 'seven': 3938, 'enjoys': 1451, 'xp': 4968, 'frustration': 1811, 'experienced': 1558, 'crowd': 990, 'crashed': 962, 'despite': 1142, 'trick': 4592, 'learns': 2526, 'yesterday': 4982, 'confidence': 864, 'smoothly': 4082, 'gentleman': 1872, 'la': 2470, 'rating': 3553, 'pity': 3272, 'delivery': 1106, 'mail': 2676, 'joy': 2408, 'rare': 3546, 'dose': 1272, 'fire': 1688, 'truck': 4602, 'pleased': 3294, 'horse': 2136, 'imagery': 2198, 'newspaper': 2957, 'afternoon': 89, 'supplier': 4328, 'nasty': 2921, 'apartment': 195, 'switch': 4363, 'outlet': 3098, 'eight': 1388, 'plug': 3298, 'device': 1158, 'hitch': 2102, 'mystical': 2910, 'dr': 1284, 'legend': 2536, 'stranger': 4258, 'dream': 1297, 'surreal': 4346, 'symbolism': 4366, 'someday': 4109, 'peace': 3192, 'shine': 3971, 'land': 2485, 'captivate': 600, 'lj': 2607, 'smith': 4078, 'ash': 238, 'teenage': 4407, 'humor': 2160, 'paranormal': 3157, 'disaster': 1207, 'area': 215, 'darkness': 1038, 'protect': 3455, 'happiness': 2012, 'possibly': 3340, 'remains': 3650, 'instantly': 2291, 'poetry': 3304, 'respond': 3699, 'personality': 3226, 'vampire': 4727, 'vision': 4784, 'trilogy': 4594, 'recognize': 3595, 'soulmate': 4135, 'unrealistic': 4683, 'slayer': 4057, 'tune': 4612, 'male': 2687, 'attraction': 271, 'witch': 4915, 'instance': 2289, 'legendary': 2537, 'erase': 1477, 'gel': 1859, 'pen': 3203, 'ink': 2271, 'square': 4187, 'locate': 2613, 'magazine': 2670, 'publication': 3466, 'mirror': 2828, 'glimpse': 1898, 'nation': 2923, 'shortly': 3986, 'scholar': 3853, 'compelling': 830, 'illuminate': 2193, 'precious': 3367, 'examine': 1524, 'evolution': 1517, 'conclusion': 859, 'vast': 4735, 'data': 1040, 'readable': 3562, 'reflection': 3616, 'professor': 3427, 'regret': 3625, 'wade': 4806, 'likely': 2574, 'wealth': 4846, 'awake': 295, 'invest': 2332, 'packed': 3127, 'somewhat': 4115, 'useful': 4709, 'richard': 3733, 'convincing': 915, 'writes': 4959, 'wide': 4886, 'perspective': 3228, 'kylie': 2469, 'bite': 421, 'subtle': 4297, 'performer': 3218, 'ballad': 317, 'nightmare': 2970, 'flow': 1729, 'catchy': 628, 'chorus': 709, 'melt': 2774, 'funky': 1822, 'language': 2488, 'usa': 4704, 'import': 2210, 'limited': 2581, 'thrown': 4489, 'border': 470, 'cut': 1016, 'arrangement': 225, 'rarity': 3548, 'tom': 4525, 'remix': 3660, 'cord': 925, 'thomas': 4472, 'naturally': 2927, 'compel': 829, 'related': 3632, 'ramble': 3533, 'involve': 2336, 'mindless': 2818, 'footage': 1749, 'meet': 2766, 'rent': 3668, 'kay': 2429, 'aside': 242, 'gear': 1857, 'toward': 4551, 'interview': 2320, 'normal': 2991, 'solely': 4102, 'center': 648, 'commercial': 812, 'introduction': 2327, 'pain': 3132, 'advice': 77, 'disguise': 1223, 'asleep': 246, 'horrific': 2133, 'warrior': 4829, 'brilliantly': 516, 'gore': 1924, 'fanatic': 1615, 'warranty': 4828, 'equipment': 1474, 'printer': 3406, 'strip': 4269, 'stretch': 4265, 'waist': 4807, 'tight': 4496, 'inch': 2226, 'comfortable': 803, 'largely': 2494, 'out': 3091, 'slack': 4051, 'usual': 4714, 'normally': 2992, 'flimsy': 1721, 'fabric': 1589, 'advertising': 76, 'coffee': 781, 'gray': 1951, 'mislead': 2831, 'skinny': 4048, 'business': 561, 'chain': 656, 'iron': 2342, 'emphasis': 1424, 'mature': 2740, 'shy': 3997, 'disturb': 1244, 'fairy': 1604, 'tale': 4377, 'grim': 1959, 'wwii': 4964, 'glove': 1903, 'appropriate': 209, 'valuable': 4724, 'alternative': 134, 'italy': 2353, 'youth': 4990, 'confusion': 870, 'credibility': 974, 'remind': 3656, 'rome': 3767, 'appreciation': 207, 'depth': 1126, 'dish': 1225, 'satisfy': 3829, 'flight': 1720, 'food': 1746, 'relatively': 3637, 'detract': 1153, 'laura': 2508, 'enhance': 1447, 'overdone': 3106, 'pun': 3474, 'sweep': 4360, 'sensual': 3916, 'glory': 1902, 'soul': 4133, 'preparation': 3379, 'discover': 1214, 'mexican': 2798, 'magic': 2672, 'fable': 1588, 'cook': 916, 'cooking': 920, 'inspire': 2284, 'nude': 3008, 'chick': 693, 'lit': 2599, 'roman': 3764, 'market': 2713, 'curse': 1010, 'porn': 3325, 'desire': 1137, 'tip': 4513, 'insult': 2298, 'everywhere': 1511, 'vivid': 4792, 'jerk': 2385, 'portrayed': 3332, 'substance': 4293, 'happier': 2010, 'metaphor': 2796, 'adequate': 57, 'occasionally': 3026, 'overlook': 3108, 'plane': 3277, 'suppose': 4331, 'generally': 1863, 'management': 2691, 'report': 3679, 'bos': 476, 'financial': 1680, 'analysis': 156, 'ability': 2, 'topic': 4536, 'elsewhere': 1407, 'cash': 619, 'limit': 2579, 'tha': 4443, 'existence': 1546, 'permanently': 3223, 'repetitive': 3674, 'repeat': 3671, 'huh': 2155, 'yeah': 4974, 'sign': 4003, 'gon': 1916, 'na': 2913, 'lil': 2575, 'alright': 130, 'rapper': 3545, 'million': 2815, 'checked': 683, 'juvenile': 2427, 'fade': 1597, 'suck': 4302, 'bounce': 481, 'as': 237, 'overuse': 3115, 'da': 1021, 'solo': 4105, 'quit': 3510, 'comedian': 800, 'wayne': 4842, 'besides': 400, 'alien': 116, 'degreez': 1095, 'fresh': 1797, 'snoop': 4086, 'dictionary': 1175, 'wack': 4805, 'belive': 384, 'wit': 4914, 'crap': 959, 'walk': 4810, 'pointless': 3307, 'definetely': 1084, 'strong': 4272, 'bump': 553, 'iz': 2358, 'em': 1409, 'ha': 1990, 'shot': 3987, 'hook': 2122, 'blew': 436, 'logic': 2618, 'cheaper': 679, 'raise': 3530, 'responsible': 3702, 'co': 774, 'worker': 4936, 'restaurant': 3705, 'french': 1794, 'quarter': 3495, 'orleans': 3083, 'delightful': 1103, 'stayed': 4214, 'miller': 2814, 'gently': 1873, 'unlimited': 4678, 'sun': 4320, 'brave': 497, 'tim': 4503, 'dinner': 1191, 'wheel': 4870, 'lesson': 2548, 'desktop': 1139, 'thorough': 4473, 'comprehensive': 846, 'html': 2152, 'web': 4851, 'smart': 4074, 'index': 2242, 'clever': 752, 'expand': 1550, 'technology': 4404, 'intermediate': 2313, 'website': 4853, 'client': 756, 'expert': 1561, 'depicts': 1122, 'correctly': 932, 'arrival': 226, 'indicate': 2245, 'healthy': 2045, 'thoughtful': 4478, 'fiction': 1660, 'identity': 2183, 'bond': 459, 'evoke': 1516, 'cultural': 1000, 'australia': 280, 'complain': 833, 'portrayal': 3331, 'cartridge': 617, 'throat': 4486, 'spray': 4183, 'hurry': 2169, 'relieve': 3644, 'yo': 4984, 'sore': 4128, 'recommendation': 3599, 'mom': 2849, 'glider': 1897, 'sooner': 4123, 'bench': 393, 'metal': 2794, 'unsure': 4686, 'tighten': 4497, 'wasnt': 4833, 'bar': 326, 'sturdy': 4286, 'assemble': 249, 'movement': 2887, 'blah': 426, 'compliment': 840, 'chair': 657, 'arm': 221, 'shipment': 3973, 'heck': 2057, 'drag': 1286, 'held': 2061, 'wet': 4865, 'james': 2365, 'moody': 2864, 'awsome': 303, 'sample': 3814, 'ear': 1345, 'iv': 2356, 'rush': 3793, 'eerie': 1379, 'itunes': 2355, 'generation': 1865, 'united': 4670, 'interpret': 2317, 'jewish': 2390, 'worthy': 4947, 'rabbi': 3515, 'element': 1397, 'laid': 2481, 'truth': 4607, 'gospel': 1927, 'socialism': 4094, 'economics': 1367, 'broad': 521, 'variety': 4733, 'political': 3311, 'foster': 1772, 'meander': 2750, 'marriage': 2717, 'stood': 4245, 'married': 2718, 'welcome': 4861, 'spouse': 4182, 'consist': 877, 'excessive': 1535, 'portrays': 3333, 'argument': 219, 'watchable': 4836, 'cat': 624, 'angry': 165, 'yell': 4976, 'length': 2540, 'endure': 1437, 'test': 4437, 'discussion': 1219, 'discuss': 1218, 'outside': 3102, 'literature': 2602, 'answer': 177, 'excuse': 1539, 'kindle': 2446, 'wolverine': 4923, 'cheer': 684, 'bound': 482, 'bass': 342, 'attitude': 268, 'drum': 1312, 'unique': 4668, 'suggestion': 4313, 'acoustic': 35, 'accord': 26, 'knowledge': 2462, 'duo': 1332, 'recording': 3601, 'instrumental': 2297, 'road': 3752, 'mini': 2820, 'pedal': 3197, 'cheaply': 680, 'terrific': 4432, 'organ': 3075, 'mess': 2790, 'setting': 3935, 'burnt': 559, 'rubber': 3784, 'service': 3932, 'rivet': 3751, 'bookstore': 467, 'gothic': 1929, 'supposedly': 4332, 'impressive': 2218, 'feehan': 1645, 'christine': 715, 'engine': 1441, 'publish': 3467, 'quicker': 3504, 'nicoletta': 2966, 'village': 4770, 'exercise': 1543, 'select': 3903, 'chooses': 706, 'mysterious': 2908, 'frighten': 1805, 'communicate': 815, 'similarity': 4013, 'share': 3959, 'eager': 1343, 'presence': 3382, 'unlike': 4676, 'passion': 3172, 'empathy': 1422, 'potential': 3347, 'developed': 1155, 'relate': 3631, 'spark': 4147, 'action': 38, 'suspenseful': 4352, 'believable': 381, 'pound': 3349, 'sexy': 3946, 'emma': 1417, 'holly': 2110, 'reach': 3559, 'dimensional': 1189, 'advantage': 72, 'success': 4299, 'begining': 375, 'weird': 4860, 'lively': 2605, 'adore': 67, 'strongly': 4273, 'tea': 4395, 'severely': 3941, 'camcorder': 578, 'usb': 4707, 'stream': 4261, 'overseas': 3113, 'choppy': 707, 'recently': 3589, 'driver': 1308, 'protection': 3456, 'accurate': 29, 'blur': 449, 'barrel': 333, 'piano': 3250, 'common': 814, 'teacher': 4397, 'lid': 2560, 'accidentally': 22, 'upon': 4695, 'alternate': 133, 'adjust': 59, 'cruel': 993, 'unusual': 4688, 'patricia': 3183, 'cornwell': 928, 'boyfriend': 489, 'seat': 3886, 'collapse': 786, 'stuck': 4277, 'thriller': 4485, 'evil': 1514, 'holder': 2107, 'nazi': 2930, 'criminal': 980, 'scarpetta': 3845, 'summary': 4318, 'virtually': 4780, 'paramount': 3155, 'harris': 2026, 'becomes': 367, 'trite': 4599, 'frankly': 1788, 'turner': 4615, 'unable': 4638, 'underlie': 4647, 'cassette': 620, 'envelope': 1465, 'prevent': 3392, 'police': 3308, 'row': 3781, 'execute': 1540, 'current': 1008, 'particularly': 3164, 'niece': 2967, 'installment': 2288, 'potter': 3348, 'field': 1663, 'science': 3858, 'muddle': 2893, 'electric': 1392, 'commit': 813, 'redeem': 3606, 'develop': 1154, 'latter': 2502, 'villain': 4771, 'flaw': 1712, 'blown': 444, 'sat': 3825, 'bed': 369, 'hardcover': 2017, 'prime': 3401, 'shallow': 3955, 'contains': 890, 'widely': 4887, 'incomplete': 2232, 'binding': 413, 'documentation': 1256, 'unclear': 4644, 'adam': 46, 'partner': 3165, 'earth': 1354, 'previously': 3395, 'zero': 4994, 'nope': 2990, 'studio': 4279, 'wake': 4809, 'sandler': 3819, 'viewer': 4764, 'climax': 758, 'lackluster': 2478, 'entirely': 1461, 'weaker': 4844, 'hill': 2092, 'snap': 4084, 'comic': 807, 'illness': 2192, 'lifestyle': 2563, 'necessarily': 2936, 'doesnt': 1257, 'george': 1876, 'experimental': 1560, 'drug': 1311, 'decides': 1065, 'ira': 2339, 'hire': 2095, 'patch': 3178, 'suddenly': 4306, 'immature': 2203, 'lame': 2484, 'sexual': 3944, 'nudity': 3009, 'circle': 727, 'reputation': 3684, 'dramatic': 1290, 'cold': 783, 'mainstream': 2679, 'press': 3387, 'downhill': 1278, 'jim': 2392, 'moon': 2865, 'drift': 1300, 'marketing': 2714, 'theater': 4449, 'chuckle': 719, 'unnecessary': 4680, 'chemistry': 688, 'conversation': 911, 'acceptable': 17, 'anger': 163, 'hilarious': 2090, 'humour': 2162, 'artsy': 235, 'demand': 1110, 'loser': 2634, 'asks': 245, 'bird': 416, 'titanic': 4517, 'drawn': 1294, 'profanity': 3425, 'degrade': 1093, 'beneath': 395, 'fair': 1602, 'appeal': 199, 'vulgar': 4804, 'offensive': 3036, 'likeable': 2573, 'swear': 4356, 'sexuality': 3945, 'grass': 1950, 'altogether': 137, 'tragic': 4563, 'scott': 3867, 'wont': 4928, 'collect': 788, 'depress': 1123, 'tackle': 4374, 'moron': 2871, 'smile': 4077, 'mel': 2770, 'there': 4457, 'isnt': 2350, 'thankful': 4445, 'excess': 1534, 'inspirational': 2283, 'endear': 1434, 'anecdote': 161, 'north': 2993, 'thirty': 4470, 'phrase': 3245, 'stitch': 4238, 'vital': 4790, 'understands': 4652, 'artwork': 236, 'feast': 1637, 'dynamic': 1341, 'accompany': 24, 'exotic': 1549, 'whimsical': 4875, 'lovely': 2644, 'host': 2139, 'protagonist': 3454, 'narrator': 2919, 'greek': 1956, 'lengthy': 2541, 'richly': 3734, 'diverse': 1247, 'seek': 3897, 'preserve': 3385, 'tradition': 4560, 'interact': 2308, 'social': 4093, 'environment': 1466, 'promising': 3438, 'sin': 4021, 'whenever': 4871, 'habit': 1991, 'judging': 2412, 'forever': 1755, 'account': 27, 'pagan': 3129, 'religion': 3645, 'stereotypical': 4224, 'suitable': 4316, 'disrespect': 1235, 'witness': 4918, 'jean': 2380, 'closest': 765, 'president': 3386, 'kennedy': 2434, 'fed': 1640, 'article': 231, 'lady': 2479, 'jfk': 2391, 'http': 2153, 'location': 2614, 'conspiracy': 881, 'lighter': 2567, 'government': 1931, 'statement': 4209, 'claimed': 736, 'nonsense': 2989, 'physic': 3247, 'department': 1117, 'mad': 2665, 'ramblings': 3534, 'sum': 4317, 'writing': 4960, 'physically': 3249, 'defy': 1092, 'furthermore': 1825, 'insane': 2276, 'evidence': 1512, 'sword': 4364, 'december': 1062, 'recieved': 3592, 'absolutly': 8, 'confident': 865, 'steel': 4217, 'buddy': 538, 'symbol': 4365, 'blade': 425, 'contain': 889, 'adaptation': 48, 'gibberish': 1884, 'convert': 912, 'laundry': 2507, 'curve': 1012, 'update': 4692, 'customer': 1015, 'gap': 1845, 'heaven': 2054, 'scent': 3850, 'crush': 994, 'develops': 1157, 'nicely': 2961, 'slap': 4053, 'method': 2797, 'possibility': 3338, 'gault': 1853, 'uncle': 4643, 'investigation': 2333, 'york': 4986, 'dump': 1331, 'affair': 81, 'honesty': 2120, 'adjective': 58, 'apparent': 197, 'suffer': 4308, 'tripe': 4597, 'implausible': 2209, 'understandable': 4651, 'brain': 493, 'froze': 1808, 'sixth': 4038, 'labor': 2474, 'bizarre': 423, 'gut': 1986, 'factual': 1596, 'integrity': 2299, 'pale': 3140, 'ignorant': 2187, 'regard': 3621, 'profile': 3428, 'thumb': 4491, 'pit': 3268, 'contrive': 905, 'meaningless': 2753, 'sympathetic': 4367, 'conflict': 867, 'imitation': 2202, 'pile': 3258, 'remainder': 3649, 'table': 4373, 'described': 1129, 'inconsistent': 2234, 'struck': 4274, 'scary': 3846, 'emotionally': 1420, 'continued': 897, 'spoil': 4176, 'temple': 4415, 'intelligence': 2301, 'medical': 2761, 'virginia': 4779, 'whose': 4882, 'central': 649, 'park': 3160, 'terrify': 4433, 'accuracy': 28, 'storyteller': 4252, 'posse': 3337, 'inevitable': 2254, 'fireplace': 1691, 'doc': 1252, 'plausible': 3284, 'genius': 1869, 'engineer': 1442, 'stilted': 4233, 'oil': 3044, 'ring': 3743, 'profit': 3429, 'terror': 4434, 'bluegrass': 447, 'proven': 3459, 'progress': 3434, 'diagnose': 1165, 'fatal': 1628, 'met': 2793, 'pass': 3169, 'realizes': 3573, 'torn': 4539, 'thousand': 4479, 'grant': 1947, 'retain': 3712, 'noisy': 2983, 'vibration': 4757, 'massager': 2728, 'objective': 3016, 'finding': 1682, 'display': 1232, 'grasp': 1949, 'advance': 70, 'exposition': 1572, 'principle': 3404, 'desert': 1133, 'afraid': 86, 'hey': 2079, 'bitter': 422, 'friday': 1800, 'knowledgeable': 2463, 'bank': 325, 'civilization': 734, 'hunter': 2167, 'port': 3326, 'ark': 220, 'giant': 1883, 'map': 2704, 'disappear': 1203, 'superficial': 4324, 'scientific': 3859, 'lincoln': 2583, 'perception': 3212, 'belongs': 389, 'hazlitt': 2036, 'understood': 4653, 'economic': 1366, 'intervention': 2319, 'vote': 4802, 'planning': 3279, 'discus': 1217, 'economy': 1368, 'capitalism': 597, 'merit': 2788, 'significantly': 4007, 'ideal': 2180, 'stick': 4228, 'serve': 3931, 'tend': 4421, 'third': 4469, 'conservative': 875, 'rant': 3542, 'relevant': 3641, 'crisis': 981, 'politician': 3312, 'classroom': 744, 'failure': 1601, 'scam': 3836, 'definition': 1087, 'outdated': 3093, 'reflect': 3615, 'moreover': 2868, 'settle': 3936, 'broken': 525, 'mental': 2780, 'pro': 3413, 'damn': 1029, 'benefit': 396, 'cave': 635, 'union': 4667, 'indication': 2247, 'piss': 3267, 'amazingly': 143, 'university': 4673, 'chicago': 692, 'crazy': 966, 'march': 2706, 'fundamental': 1819, 'overwhelm': 3117, 'majority': 2683, 'cite': 730, 'education': 1376, 'growth': 1972, 'revolutionary': 3724, 'directly': 1197, 'plague': 3274, 'foundation': 1775, 'von': 4800, 'credit': 975, 'depression': 1125, 'prove': 3458, 'elementary': 1398, 'fellow': 1650, 'loss': 2636, 'freedom': 1792, 'fancy': 1616, 'consequence': 874, 'tremendous': 4587, 'tax': 4392, 'expense': 1555, 'destroy': 1144, 'necessary': 2937, 'measure': 2755, 'aka': 106, 'enemy': 1438, 'narration': 2917, 'phrasing': 3246, 'tedious': 4405, 'donate': 1267, 'critique': 987, 'popular': 3322, 'agenda': 92, 'rarely': 3547, 'omit': 3050, 'contrary': 901, 'grain': 1938, 'salt': 3812, 'health': 2044, 'dangerous': 1033, 'myth': 2911, 'context': 895, 'corporate': 930, 'trade': 4559, 'anti': 181, 'net': 2948, 'flesh': 1717, 'et': 1493, 'hammer': 2001, 'blind': 437, 'utopian': 4717, 'anytime': 188, 'rehash': 3628, 'worship': 4943, 'tout': 4550, 'enlighten': 1452, 'sanity': 3821, 'casual': 623, 'spring': 4185, 'premise': 3377, 'lifetime': 2564, 'prophetic': 3451, 'surprisingly': 4345, 'paul': 3187, 'laughable': 2504, 'skim': 4046, 'faulty': 1632, 'apparently': 198, 'promote': 3439, 'duty': 1337, 'equation': 1473, 'analyze': 157, 'narrow': 2920, 'introductory': 2328, 'importantly': 2213, 'spends': 4166, 'recycle': 3604, 'pepper': 3208, 'concerned': 856, 'wan': 4814, 'secretly': 3891, 'instrument': 2296, 'velvet': 4743, 'techno': 4403, 'electronica': 1395, 'tire': 4514, 'ho': 2103, 'dumb': 1328, 'im': 2196, 'stellar': 4220, 'invite': 2335, 'challenged': 659, 'varied': 4731, 'musical': 2902, 'animate': 167, 'punch': 3475, 'exists': 1547, 'station': 4210, 'transport': 4574, 'feeling': 1647, 'definitly': 1089, 'tripod': 4598, 'bag': 314, 'circuit': 728, 'anderson': 160, 'poverty': 3351, 'sweden': 4358, 'journey': 2407, 'sorrow': 4130, 'daniel': 1034, 'hidden': 2081, 'lyrical': 2659, 'constant': 882, 'nineteen': 2974, 'contribution': 904, 'minority': 2824, 'incomprehensible': 2233, 'anthology': 179, 'christian': 713, 'torso': 4540, 'cincher': 723, 'boning': 461, 'chest': 689, 'wire': 4909, 'bra': 490, 'whereas': 4872, 'custom': 1014, 'cloth': 768, 'squeem': 4188, 'shapewear': 3958, 'nicer': 2962, 'bone': 460, 'butt': 564, 'hardly': 2019, 'vintage': 4773, 'expensive': 1556, 'clothes': 769, 'liner': 2585, 'training': 4567, 'comfortably': 804, 'layer': 2511, 'measurement': 2756, 'posture': 3345, 'associate': 253, 'reduce': 3609, 'clothing': 770, 'sweat': 4357, 'opt': 3068, 'bust': 562, 'tighter': 4498, 'def': 1076, 'boob': 463, 'dd': 1047, 'everyday': 1507, 'belly': 386, 'pregnancy': 3374, 'sick': 3999, 'thicker': 4462, 'literally': 2600, 'desk': 1138, 'pleasant': 3291, 'flexible': 1718, 'unbearable': 4641, 'bulge': 549, 'spare': 4146, 'fold': 1740, 'shirt': 3976, 'lift': 2565, 'upset': 4698, 'miracle': 2827, 'squeeze': 4189, 'fraction': 1779, 'lb': 2514, 'tummy': 4611, 'thou': 4475, 'exhaust': 1544, 'tank': 4384, 'irritated': 2347, 'tall': 4381, 'mid': 2802, 'inner': 2272, 'cotton': 937, 'pure': 3482, 'occasion': 3024, 'birth': 417, 'specifically': 4157, 'bulky': 550, 'hideous': 2083, 'closing': 767, 'speed': 4162, 'firm': 1693, 'surgery': 4340, 'stomach': 4242, 'underneath': 4648, 'breathing': 505, 'bell': 385, 'snug': 4088, 'concentrate': 853, 'breast': 502, 'compress': 847, 'believer': 383, 'pregnant': 3375, 'pinch': 3263, 'ur': 4700, 'downside': 1281, 'portion': 3328, 'delivers': 1105, 'sock': 4096, 'pronounce': 3443, 'shorter': 3985, 'upper': 4696, 'defeat': 1077, 'increase': 2237, 'bent': 397, 'repair': 3670, 'gym': 1988, 'visible': 4783, 'pink': 3264, 'spine': 4171, 'severe': 3940, 'injury': 2270, 'vanity': 4729, 'surpass': 4341, 'burn': 557, 'suprise': 4333, 'merchandise': 2786, 'fitting': 1703, 'slim': 4066, 'absorb': 9, 'abandon': 1, 'torture': 4541, 'instant': 2290, 'ease': 1356, 'loop': 2628, 'seam': 3882, 'bend': 394, 'eventually': 1502, 'visually': 4788, 'divide': 1248, 'ouch': 3089, 'daily': 1024, 'rod': 3759, 'painfully': 3134, 'ultimately': 4634, 'wound': 4950, 'grandmother': 1945, 'encourage': 1432, 'trap': 4575, 'diet': 1179, 'anticipate': 182, 'lousy': 2641, 'near': 2933, 'steam': 4216, 'badly': 313, 'havent': 2034, 'hence': 2069, 'wider': 4888, 'reminder': 3657, 'occur': 3027, 'slight': 4063, 'stamp': 4196, 'disease': 1221, 'terribly': 4431, 'gross': 1966, 'rear': 3576, 'sometime': 4113, 'aircraft': 103, 'marie': 2709, 'doll': 1262, 'owe': 3118, 'seemingly': 3899, 'permanent': 3222, 'china': 700, 'german': 1878, 'logan': 2617, 'jimmy': 2393, 'ponder': 3314, 'nine': 2973, 'unwatchable': 4689, 'cheese': 685, 'scholarly': 3854, 'mold': 2848, 'distinct': 1242, 'mass': 2726, 'formal': 1761, 'gold': 1913, 'overcome': 3105, 'vinyl': 4774, 'rhapsody': 3728, 'caan': 571, 'higgins': 2084, 'danger': 1032, 'publisher': 3468, 'prof': 3424, 'sean': 3883, 'license': 2559, 'justice': 2425, 'pickup': 3254, 'competition': 831, 'british': 520, 'legal': 2535, 'entertainment': 1457, 'slog': 4068, 'dillon': 1187, 'speaks': 4151, 'dozen': 1283, 'para': 3150, 'born': 474, 'expose': 1571, 'smoke': 4079, 'jumped': 2419, 'generous': 1867, 'sequel': 3923, 'guilty': 1981, 'status': 4212, 'oops': 3055, 'th': 4442, 'aspire': 248, 'strangely': 4257, 'editor': 1374, 'dialog': 1167, 'kate': 2428, 'reaction': 3560, 'rough': 3776, 'curiosity': 1006, 'tension': 4425, 'executive': 1542, 'cliche': 753, 'guard': 1975, 'agent': 93, 'target': 4388, 'shoot': 3980, 'timing': 4509, 'silent': 4009, 'jefferson': 2382, 'din': 1190, 'extension': 1577, 'craze': 965, 'meeting': 2767, 'spy': 4186, 'cartoon': 616, 'heritage': 2073, 'pose': 3334, 'jacket': 2361, 'dust': 1336, 'harry': 2027, 'screenplay': 3872, 'shred': 3994, 'shall': 3954, 'uninspired': 4665, 'deadline': 1050, 'critical': 984, 'slightest': 4064, 'eagle': 1344, 'sudden': 4305, 'dy': 1340, 'saga': 3807, 'bernstein': 399, 'precede': 3366, 'nerve': 2946, 'irish': 2341, 'hack': 1992, 'stinker': 4236, 'schwartz': 3856, 'los': 2632, 'rabbit': 3516, 'steal': 4215, 'ballroom': 319, 'vega': 4737, 'duke': 1326, 'swing': 4362, 'destine': 1143, 'greatness': 1954, 'herb': 2072, 'precise': 3368, 'plant': 3280, 'scanner': 3838, 'vista': 4786, 'scan': 3837, 'firmware': 1695, 'jane': 2368, 'universe': 4672, 'scarlett': 3844, 'tear': 4399, 'scarlet': 3843, 'hawthorne': 2035, 'huxley': 2173, 'vacation': 4720, 'puritan': 3485, 'delve': 1109, 'confess': 863, 'physical': 3248, 'reccomend': 3583, 'auto': 285, 'dolby': 1261, 'mundane': 2897, 'allusion': 122, 'hester': 2078, 'dealt': 1053, 'convey': 913, 'overrate': 3112, 'dickens': 1174, 'boredom': 472, 'creates': 969, 'fahrenheit': 1598, 'footnote': 1750, 'nonetheless': 2987, 'grip': 1962, 'neat': 2935, 'essence': 1486, 'breathtaking': 506, 'navigate': 2929, 'ebook': 1363, 'nathaniel': 2922, 'strength': 4263, 'weakness': 4845, 'rigid': 3742, 'psychological': 3463, 'divorce': 1249, 'adultery': 69, 'punishment': 3477, 'reprint': 3683, 'irritate': 2346, 'confirm': 866, 'pretentious': 3390, 'era': 1476, 'mildly': 2809, 'hi': 2080, 'highschool': 2088, 'assignment': 252, 'dread': 1295, 'aunt': 278, 'ugh': 4630, 'honor': 2121, 'wordy': 4932, 'disturbed': 1245, 'dirt': 1199, 'empathize': 1421, 'tragedy': 4562, 'effectively': 1382, 'reccommend': 3584, 'mainly': 2678, 'historically': 2099, 'pill': 3259, 'taught': 4391, 'timely': 4507, 'cliff': 757, 'robot': 3755, 'indeed': 2240, 'beg': 373, 'cease': 637, 'unfamiliar': 4658, 'suffers': 4309, 'dislike': 1229, 'empty': 1427, 'wander': 4815, 'overly': 3109, 'humanity': 2158, 'celebrate': 640, 'filler': 1672, 'cynical': 1020, 'vice': 4759, 'awhile': 301, 'specify': 4158, 'assign': 251, 'cliched': 754, 'masterful': 2731, 'literary': 2601, 'rule': 3789, 'shell': 3965, 'belong': 388, 'electronic': 1394, 'requirement': 3687, 'cheat': 681, 'spirit': 4172, 'delighted': 1102, 'paperback': 3147, 'engross': 1446, 'brings': 518, 'flawless': 1713, 'guilt': 1980, 'irony': 2344, 'exceptional': 1532, 'feed': 1642, 'yawn': 4972, 'childish': 698, 'shadow': 3949, 'headache': 2040, 'jeff': 2381, 'ap': 192, 'hint': 2093, 'quote': 3513, 'significant': 4006, 'inability': 2221, 'revelation': 3717, 'fist': 1700, 'court': 950, 'unlikely': 4677, 'bang': 323, 'pow': 3352, 'exceptionally': 1533, 'surprising': 4344, 'uninteresting': 4666, 'sucker': 4303, 'forth': 1766, 'sophomore': 4127, 'degree': 1094, 'pack': 3124, 'exam': 1522, 'deserve': 1134, 'afterwards': 90, 'reject': 3630, 'exposure': 1573, 'versus': 4751, 'refresh': 3618, 'construct': 884, 'punish': 3476, 'noble': 2979, 'judge': 2411, 'applicable': 203, 'ought': 3090, 'peel': 3199, 'serf': 3925, 'redemption': 3607, 'comfort': 802, 'teenager': 4408, 'font': 1745, 'victorian': 4761, 'sue': 4307, 'wrench': 4954, 'ignorance': 2186, 'portray': 3330, 'okay': 3046, 'sux': 4354, 'quiz': 3512, 'slowly': 4072, 'lightly': 2568, 'lock': 2615, 'attic': 267, 'mentally': 2782, 'sandra': 3820, 'peice': 3201, 'tempt': 4418, 'therapy': 4456, 'cure': 1004, 'insomnia': 2281, 'ridiculously': 3739, 'bloody': 441, 'junior': 2423, 'patient': 3182, 'rank': 3541, 'readily': 3564, 'october': 3029, 'luck': 2649, 'meaningful': 2752, 'ashamed': 239, 'harsh': 2028, 'stress': 4264, 'gamble': 1837, 'thier': 4463, 'orwell': 3085, 'bradbury': 491, 'attack': 263, 'dare': 1035, 'superior': 4325, 'arthur': 230, 'visual': 4787, 'aid': 99, 'moore': 2866, 'introduces': 2326, 'poetic': 3303, 'renew': 3667, 'pride': 3398, 'fest': 1657, 'favor': 1633, 'dreary': 1298, 'dreadful': 1296, 'aim': 100, 'miserably': 2829, 'beating': 360, 'numerous': 3011, 'explores': 1569, 'composition': 844, 'determine': 1152, 'relates': 3633, 'bush': 560, 'prison': 3409, 'seattle': 3887, 'rain': 3528, 'proof': 3444, 'suprised': 4334, 'senior': 3910, 'dual': 1317, 'meaning': 2751, 'tomato': 4526, 'anthony': 180, 'wilbur': 4893, 'ft': 1812, 'listing': 2598, 'cent': 647, 'suction': 4304, 'cleaning': 749, 'compartment': 826, 'knife': 2455, 'board': 452, 'tray': 4581, 'se': 3879, 'asia': 240, 'lao': 2489, 'august': 277, 'australian': 281, 'sloppy': 4069, 'functional': 1818, 'yep': 4979, 'probe': 3415, 'convince': 914, 'atrocious': 261, 'wouldnt': 4949, 'kiss': 2450, 'jerry': 2386, 'lewis': 2553, 'depressed': 1124, 'holiday': 2109, 'cancel': 586, 'dissapointment': 1238, 'receipt': 3585, 'rude': 3786, 'funniest': 1823, 'discount': 1212, 'rack': 3520, 'pretend': 3389, 'bomb': 458, 'flop': 1726, 'simpson': 4020, 'drunk': 1314, 'whitney': 4879, 'allen': 119, 'crack': 957, 'santa': 3823, 'teeth': 4409, 'extent': 1579, 'youngster': 4989, 'billy': 410, 'remotely': 3662, 'diehard': 1178, 'downright': 1280, 'stargate': 4203, 'signal': 4004, 'gas': 1852, 'pulse': 3472, 'flute': 1734, 'sax': 3833, 'storm': 4249, 'jones': 2404, 'quartet': 3496, 'william': 4896, 'dave': 1043, 'inappropriate': 2224, 'shut': 3996, 'duck': 1321, 'rail': 3527, 'yer': 4980, 'flag': 1706, 'reasonable': 3578, 'elvis': 1408, 'deborah': 1058, 'drummer': 1313, 'le': 2516, 'shove': 3990, 'king': 2447, 'diane': 1171, 'height': 2059, 'una': 4637, 'cinema': 724, 'chase': 675, 'erotic': 1479, 'listenable': 2595, 'motion': 2876, 'properly': 3448, 'expire': 1562, 'assembly': 250, 'ebay': 1362, 'separately': 3921, 'guarantee': 1974, 'shade': 3948, 'rubbed': 3783, 'fortune': 1768, 'grows': 1971, 'hardware': 2020, 'knob': 2458, 'conduct': 862, 'grind': 1960, 'grinder': 1961, 'operate': 3060, 'shoddy': 3978, 'jensen': 2384, 'pitch': 3269, 'accessible': 19, 'psychology': 3464, 'industry': 2253, 'intellectual': 2300, 'influential': 2261, 'phd': 3233, 'document': 1254, 'fuzzy': 1829, 'percent': 3211, 'unacceptable': 4639, 'unfortunate': 4660, 'fluff': 1731, 'breathe': 504, 'affect': 82, 'academy': 14, 'oscar': 3086, 'bible': 406, 'fifteen': 1664, 'journalist': 2406, 'minimal': 2821, 'hype': 2174, 'definite': 1085, 'metallica': 2795, 'notify': 3001, 'garage': 1846, 'successfully': 4301, 'twenty': 4620, 'diagram': 1166, 'instructor': 2295, 'pursuit': 3489, 'scale': 3835, 'refers': 3613, 'violet': 4777, 'purple': 3486, 'promptly': 3441, 'nervous': 2947, 'photography': 3244, 'louis': 2639, 'groove': 1965, 'adapt': 47, 'rhyme': 3729, 'cube': 998, 'gadget': 1833, 'refill': 3614, 'lip': 2589, 'ran': 3536, 'lunchbox': 2656, 'stain': 4194, 'crocodile': 988, 'lunch': 2655, 'drink': 1302, 'soup': 4138, 'breath': 503, 'ban': 320, 'woven': 4951, 'pray': 3362, 'temptation': 4419, 'perfection': 3214, 'evolve': 1518, 'descent': 1127, 'bum': 552, 'mediocre': 2764, 'mar': 2705, 'johnson': 2400, 'bland': 428, 'proud': 3457, 'biological': 415, 'gloria': 1900, 'wilson': 4899, 'lp': 2648, 'howard': 2148, 'anne': 172, 'epic': 1468, 'starship': 4204, 'slick': 4061, 'annie': 173, 'mtv': 2891, 'ann': 171, 'career': 606, 'wolf': 4922, 'rockin': 3758, 'sorely': 4129, 'slave': 4055, 'mistress': 2836, 'truely': 4604, 'corny': 929, 'durability': 1334, 'magnificent': 2675, 'complexity': 838, 'sonic': 4120, 'progressive': 3435, 'rhythm': 3730, 'spectrum': 4160, 'velcro': 4742, 'walker': 4811, 'collins': 792, 'sam': 3813, 'charlie': 672, 'hall': 1998, 'rage': 3525, 'jazzy': 2379, 'peanut': 3194, 'scripture': 3876, 'christ': 712, 'hd': 2037, 'sync': 4369, 'mouth': 2885, 'warner': 4824, 'whim': 4874, 'eve': 1499, 'quest': 3500, 'gang': 1844, 'broadcast': 522, 'blu': 445, 'ray': 3558, 'capacity': 595, 'babe': 305, 'wise': 4912, 'eternal': 1495, 'charles': 671, 'crew': 978, 'jesus': 2387, 'worry': 4942, 'bless': 434, 'passage': 3170, 'crisp': 982, 'newer': 2953, 'deluxe': 1108, 'limitation': 2580, 'inclusion': 2230, 'gentle': 1871, 'speech': 4161, 'uneven': 4655, 'thankfully': 4446, 'spec': 4153, 'min': 2816, 'sew': 3942, 'couch': 938, 'soooo': 4125, 'widescreen': 4889, 'creation': 970, 'upside': 4699, 'connect': 871, 'slept': 4060, 'fifth': 1665, 'mattress': 2739, 'powerbook': 3354, 'adapter': 49, 'amp': 152, 'ibook': 2176, 'macally': 2662, 'ac': 12, 'apple': 202, 'cycle': 1019, 'fiddle': 1662, 'connection': 872, 'indicator': 2248, 'fluke': 1732, 'generate': 1864, 'bargain': 331, 'brick': 511, 'handy': 2006, 'tangle': 4382, 'madden': 2666, 'adaptor': 50, 'connector': 873, 'resume': 3709, 'sufficient': 4310, 'continuously': 899, 'firmly': 1694, 'prone': 3442, 'drawback': 1292, 'aluminum': 138, 'operation': 3062, 'await': 294, 'request': 3685, 'initial': 2268, 'quiet': 3506, 'hum': 2156, 'questionable': 3502, 'manages': 2693, 'orange': 3071, 'airport': 105, 'affordable': 85, 'indicates': 2246, 'glance': 1894, 'electrical': 1393, 'budget': 539, 'sacrifice': 3801, 'transformer': 4570, 'idiot': 2184, 'satisfaction': 3827, 'backpack': 310, 'outer': 3095, 'taped': 4387, 'suspect': 4350, 'disconnect': 1210, 'hassle': 2029, 'obtain': 3021, 'resolve': 3695, 'usage': 4706, 'lemon': 2538, 'candy': 588, 'oem': 3034, 'justify': 2426, 'unstable': 4685, 'overprice': 3111, 'temporary': 4417, 'destroyed': 1145, 'compact': 821, 'puppy': 3479, 'operating': 3061, 'link': 2586, 'whine': 4876, 'representative': 3682, 'shaft': 3950, 'odds': 3031, 'binchy': 412, 'spending': 4165, 'fuss': 1826, 'discourage': 1213, 'silver': 4011, 'poignant': 3305, 'observation': 3019, 'teller': 4412, 'marvelous': 2723, 'nephew': 2945, 'artistic': 234, 'whip': 4877, 'busy': 563, 'improvement': 2220, 'jumping': 2420, 'scissors': 3862, 'toddler': 4520, 'pin': 3262, 'bead': 355, 'sand': 3817, 'scifi': 3861, 'spiritual': 4173, 'dude': 1323, 'blowing': 443, 'queensryche': 3499, 'booklet': 465, 'il': 2190, 'tempo': 4416, 'del': 1096, 'empire': 1425, 'dire': 1194, 'mike': 2807, 'un': 4636, 'west': 4863, 'wine': 4903, 'por': 3324, 'en': 1428, 'ella': 1404, 'excelente': 1527, 'ma': 2660, 'brian': 510, 'rust': 3796, 'manufacture': 2700, 'earn': 1351, 'poem': 3301, 'verse': 4749, 'leader': 2518, 'cannon': 589, 'expedition': 1554, 'river': 3750, 'fort': 1765, 'gun': 1985, 'trek': 4586, 'install': 2286, 'mount': 2882, 'mechanical': 2758, 'core': 926, 'evident': 1513, 'traveler': 4579, 'scenery': 3849, 'odysseus': 3032, 'ulysses': 4635, 'infrared': 2266, 'vibrate': 4756, 'flashlight': 1709, 'bulb': 548, 'heating': 2053, 'woke': 4921, 'lennon': 2542, 'unfair': 4657, 'occasional': 3025, 'eddie': 1370, 'latin': 2501, 'funk': 1821, 'texture': 4441, 'testament': 4438, 'circumstance': 729, 'aussie': 279, 'popped': 3321, 'shower': 3993, 'creep': 976, 'writen': 4957, 'photograph': 3243, 'overdue': 3107, 'webb': 4852, 'dimension': 1188, 'glen': 1896, 'campbell': 583, 'upbeat': 4690, 'dwarf': 1339, 'interpretation': 2318, 'organize': 3078, 'amish': 148, 'therapist': 4455, 'platform': 3283, 'ego': 1385, 'commentary': 811, 'enthral': 1458, 'disgrace': 1222, 'remark': 3652, 'humble': 2159, 'cooker': 919, 'uplift': 4694, 'importance': 2211, 'simplicity': 4017, 'quilt': 3507, 'sentiment': 3919, 'insightful': 2280, 'calm': 577, 'east': 1358, 'marine': 2710, 'closely': 763, 'leak': 2522, 'meal': 2748, 'locally': 2612, 'output': 3100, 'magnet': 2674, 'celtic': 643, 'wipe': 4908, 'chore': 708, 'bunny': 555, 'shaker': 3952, 'detect': 1149, 'chunk': 720, 'invasion': 2330, 'coherent': 782, 'burmese': 556, 'breed': 507, 'meat': 2757, 'chicken': 694, 'raw': 3557, 'characteristic': 667, 'quantity': 3494, 'gorgeous': 1925, 'trace': 4557, 'enable': 1429, 'cop': 922, 'napoleon': 2916, 'biography': 414, 'emperor': 1423, 'praise': 3360, 'criticize': 986, 'memoir': 2776, 'lab': 2471, 'sinister': 4029, 'underground': 4646, 'haha': 1993, 'ghost': 1882, 'setup': 3937, 'housing': 2146, 'rural': 3792, 'urban': 4701, 'fifty': 1666, 'cleaner': 748, 'catherine': 630, 'cream': 967, 'revisit': 3722, 'dishwasher': 1226, 'headset': 2042, 'bluetooth': 448, 'motorola': 2881, 'wannabe': 4816, 'clip': 760, 'harmony': 2024, 'songwriter': 4119, 'camp': 581, 'manufacturing': 2702, 'taylor': 4393, 'boat': 453, 'pocket': 3300, 'arrange': 224, 'immortal': 2206, 'chill': 699, 'thrash': 4480, 'reform': 3617, 'northern': 2994, 'dome': 1265, 'xmas': 4967, 'diameter': 1169, 'google': 1922, 'prep': 3378, 'density': 1115, 'lecture': 2530, 'brazil': 498, 'scope': 3864, 'companion': 822, 'experiment': 1559, 'tilt': 4502, 'adjustment': 61, 'opener': 3057, 'drill': 1301, 'paste': 3175, 'dolly': 1264, 'parton': 3166, 'sustain': 4353, 'sugar': 4311, 'independent': 2241, 'unforgettable': 4659, 'fond': 1743, 'soar': 4091, 'lhasa': 2554, 'kurt': 2468, 'bat': 344, 'intimate': 2322, 'originality': 3081, 'tango': 4383, 'ala': 108, 'subsequent': 4292, 'demonstrate': 1112, 'musicianship': 2904, 'modest': 2845, 'abroad': 4, 'spooky': 4179, 'knight': 2456, 'phillips': 3238, 'accurately': 30, 'audiobook': 275, 'accent': 15, 'fought': 1773, 'elizabeth': 1403, 'loyalty': 2647, 'whats': 4868, 'sir': 4031, 'simon': 4014, 'laughter': 2505, 'mankind': 2695, 'bubble': 533, 'workmanship': 4937, 'holy': 2114, 'standout': 4199, 'deeper': 1074, 'chat': 676, 'bolt': 457, 'chew': 690, 'route': 3778, 'preach': 3365, 'india': 2243, 'sport': 4180, 'headphone': 2041, 'eidos': 1387, 'gameplay': 1841, 'tomb': 4527, 'raider': 3526, 'lara': 2492, 'horrid': 2132, 'blank': 429, 'ram': 3532, 'turkey': 4613, 'restart': 3704, 'delay': 1097, 'controller': 907, 'sensitive': 3914, 'fence': 1656, 'news': 2956, 'preview': 3393, 'franchise': 1783, 'viewpoint': 4765, 'playable': 3286, 'sticker': 4229, 'unusable': 4687, 'glitch': 1899, 'explosion': 1570, 'resident': 3692, 'washer': 4831, 'deck': 1067, 'chemical': 687, 'network': 2949, 'retailer': 3711, 'disposable': 1234, 'motor': 2879, 'concern': 855, 'absent': 5, 'impact': 2208, 'fishing': 1699, 'buggy': 543, 'relevance': 3640, 'desperate': 1140, 'forum': 1770, 'foreign': 1754, 'watson': 4839, 'desperately': 1141, 'succeed': 4298, 'merely': 2787, 'erotica': 1480, 'inaccurate': 2222, 'realise': 3568, 'lust': 2657, 'devote': 1161, 'fragile': 1780, 'staple': 4200, 'sarah': 3824, 'devoid': 1160, 'backdrop': 308, 'wierd': 4891, 'wedge': 4855, 'dawn': 1045, 'fly': 1735, 'oversized': 3114, 'clamp': 737, 'round': 3777, 'april': 211, 'buddhism': 536, 'inevitably': 2255, 'entirety': 1462, 'notion': 3002, 'documentary': 1255, 'vol': 4798, 'restore': 3707, 'shoulder': 3988, 'rope': 3772, 'escape': 1483, 'reverse': 3719, 'anchor': 158, 'logical': 2619, 'harder': 2018, 'limp': 2582, 'code': 780, 'brutal': 531, 'mayhem': 2744, 'vein': 4741, 'interface': 2312, 'army': 222, 'arch': 213, 'strategy': 4260, 'demo': 1111, 'terrain': 4429, 'expansion': 1551, 'involves': 2337, 'few': 1658, 'notch': 2996, 'tribe': 4590, 'intro': 2324, 'partial': 3162, 'listens': 2597, 'deaf': 1051, 'alert': 114, 'cousin': 952, 'buddhist': 537, 'obnoxious': 3017, 'humorous': 2161, 'quirky': 3509, 'reread': 3688, 'tremendously': 4588, 'blessing': 435, 'gypsy': 1989, 'leadership': 2519, 'lace': 2475, 'strand': 4255, 'cage': 573, 'martin': 2721, 'discovery': 1216, 'belva': 391, 'consume': 886, 'stable': 4190, 'immensely': 2205, 'pursue': 3488, 'grabbed': 1933, 'gerald': 1877, 'breakdown': 501, 'coat': 777, 'strictly': 4266, 'decorative': 1070, 'toss': 4542, 'bin': 411, 'golf': 1915, 'filter': 1675, 'unlock': 4679, 'roller': 3762, 'coaster': 776, 'bruce': 529, 'martial': 2720, 'relation': 3634, 'discipline': 1209, 'grey': 1958, 'harlequin': 2022, 'melissa': 2771, 'undoubtedly': 4654, 'delete': 1098, 'blast': 431, 'virus': 4782, 'midi': 2804, 'countless': 944, 'component': 841, 'polish': 3310, 'su': 4288, 'como': 820, 'examination': 1523, 'glue': 1906, 'accessory': 20, 'bow': 483, 'consists': 880, 'indian': 2244, 'minus': 2825, 'intent': 2305, 'radiator': 3522, 'nickel': 2964, 'installation': 2287, 'comparison': 825, 'pan': 3142, 'lightness': 2569, 'nikon': 2972, 'usable': 4705, 'zoom': 4999, 'lens': 2543, 'hilditch': 2091, 'felicia': 1648, 'johnny': 2399, 'supplement': 4327, 'fi': 1659, 'golden': 1914, 'pump': 3473, 'mug': 2894, 'liquid': 2591, 'thesis': 4460, 'monitor': 2853, 'viewsonic': 4766, 'adjustable': 60, 'crappy': 960, 'generic': 1866, 'translate': 4572, 'marvel': 2722, 'profoundly': 3431, 'affected': 83, 'ministry': 2822, 'newly': 2954, 'representation': 3681, 'violent': 4776, 'origin': 3079, 'picky': 3255, 'leather': 2528, 'alarm': 109, 'monoxide': 2857, 'detector': 1151, 'vent': 4746, 'carpet': 611, 'ceiling': 639, 'pricey': 3397, 'approve': 210, 'curtain': 1011, 'emergency': 1415, 'dive': 1246, 'wisdom': 4911, 'boxed': 487, 'neighbor': 2943, 'journal': 2405, 'madonna': 2669, 'rose': 3774, 'dean': 1054, 'shout': 3989, 'whoever': 4880, 'defect': 1078, 'valve': 4726, 'nipple': 2976, 'lane': 2487, 'launch': 2506, 'securely': 3894, 'subtitle': 4296, 'yoga': 4985, 'workbook': 4935, 'tribute': 4591, 'riff': 3740, 'bedding': 370, 'ironic': 2343, 'popcorn': 3320, 'expression': 1575, 'xanth': 4965, 'unreadable': 4682, 'zombie': 4998, 'dale': 1025, 'elevator': 1400, 'beatles': 361, 'asian': 241, 'pool': 3316, 'stir': 4237, 'coleman': 784, 'soviet': 4142, 'tightly': 4499, 'region': 3624, 'makeup': 2686, 'lesbian': 2545, 'consistent': 878, 'elastic': 1391, 'dot': 1273, 'fee': 1641, 'tile': 4500, 'warmth': 4822, 'genuinely': 1875, 'national': 2924, 'riddle': 3736, 'korean': 2465, 'vegetarian': 4739, 'cookbook': 917, 'pa': 3122, 'establish': 1489, 'nyc': 3014, 'phenomenal': 3234, 'acknowledge': 33, 'diabetic': 1164, 'glucose': 1905, 'medication': 2762, 'diabetes': 1163, 'kudos': 2466, 'educate': 1375, 'peak': 3193, 'med': 2760, 'venus': 4748, 'identical': 2181, 'individually': 2251, 'buff': 541, 'stalingrad': 4195, 'luftwaffe': 2652, 'argentine': 216, 'dancer': 1031, 'routine': 3780, 'ranger': 3540, 'february': 1639, 'schedule': 3851, 'edward': 1378, 'swap': 4355, 'excellant': 1528, 'dede': 1071, 'bd': 352, 'spiderman': 4169, 'extraordinary': 1583, 'samsung': 3815, 'xbox': 4966, 'russian': 3795, 'bold': 456, 'retail': 3710, 'grainy': 1939, 'diamond': 1170, 'acid': 32, 'sympathy': 4368, 'wicca': 4883, 'invent': 2331, 'goddess': 1912, 'hutton': 2172, 'retard': 3713, 'obscure': 3018, 'firewire': 1692, 'september': 3922, 'ad': 45, 'tony': 4532, 'ending': 1435, 'lake': 2482, 'pitchshifter': 3270, 'industrial': 2252, 'marry': 2719, 'manager': 2692, 'scotland': 3866, 'canada': 585, 'ra': 3514, 'egyptian': 1386, 'amateurish': 141, 'rewrite': 3727, 'liberty': 2556, 'monumental': 2862, 'kirk': 2449, 'cameron': 580, 'ljs': 2608, 'gillian': 1888, 'popularity': 3323, 'gary': 1851, 'creature': 973, 'communist': 818, 'haiku': 1994, 'problematic': 3417, 'van': 4728, 'handbook': 2003, 'poet': 3302, 'kerouac': 2436, 'skeptical': 4043, 'mothman': 2875, 'prophecy': 3450, 'dubious': 1320, 'keel': 2430, 'ufo': 4629, 'phenomenon': 3235, 'disjoint': 1227, 'sighting': 4002, 'albeit': 111, 'screenwriter': 3873, 'gordon': 1923, 'primarily': 3399, 'mighty': 2806, 'storytelling': 4253, 'letdown': 2550, 'controversial': 908, 'admittedly': 64, 'beast': 358, 'incident': 2227, 'london': 2623, 'parallel': 3154, 'incoherent': 2231, 'scenario': 3847, 'entitle': 1463, 'goofy': 1921, 'monster': 2858, 'sincere': 4023, 'copyright': 924, 'outrage': 3101, 'weave': 4850, 'driven': 1307, 'innovative': 2274, 'pulp': 3471, 'racism': 3518, 'fighter': 1668, 'lene': 2539, 'analog': 155, 'replay': 3677, 'censorship': 646, 'anime': 169, 'dubbed': 1319, 'kettle': 2437, 'suicide': 4314, 'math': 2736, 'newman': 2955, 'definitive': 1088, 'debate': 1057, 'nightwish': 2971, 'faithful': 1606, 'guardian': 1976, 'eva': 1498, 'bob': 454, 'thermometer': 4459, 'frequent': 1795, 'temp': 4413, 'hospital': 2138, 'tent': 4426, 'alice': 115, 'criticism': 985, 'module': 2846, 'bdsm': 353, 'pre': 3364, 'maria': 2707, 'misplace': 2832, 'inadequate': 2223, 'cooked': 918, 'emblem': 1414, 'snmp': 4085, 'reveals': 3716, 'lately': 2499, 'tooth': 4534, 'randomly': 3538, 'frankenstein': 1787, 'koontz': 2464, 'repetition': 3673, 'madman': 2667, 'madness': 2668, 'canon': 590, 'panasonic': 3143, 'rewind': 3726, 'posting': 3344, 'sixty': 4039, 'differently': 1182, 'nirvana': 2977, 'cobain': 778, 'hardcore': 2016, 'bean': 356, 'estate': 1490, 'courtney': 951, 'milk': 2812, 'catalogue': 626, 'yea': 4973, 'recover': 3602, 'doug': 1276, 'vile': 4768, 'fitness': 1702, 'climb': 759, 'survival': 4348, 'hike': 2089, 'drip': 1304, 'gritty': 1963, 'sci': 3857, 'lillian': 2577, 'dell': 1107, 'toxic': 4555, 'avenger': 290, 'troma': 4600, 'citizen': 731, 'poster': 3343, 'utter': 4718, 'lesser': 2547, 'router': 3779, 'discontinue': 1211, 'flush': 1733, 'marked': 2712, 'carriage': 612, 'vitex': 4791, 'finance': 1679, 'eliminate': 1401, 'mild': 2808, 'acne': 34, 'moisturizer': 2847, 'facial': 1592, 'darker': 1037, 'admire': 62, 'exuviance': 1586, 'avail': 288, 'vibrator': 4758, 'heinlein': 2060, 'motivate': 2877, 'fare': 1620, 'depiction': 1121, 'warp': 4826, 'realism': 3569, 'hardy': 2021, 'outlaw': 3097, 'rape': 3544, 'alec': 113, 'valley': 4723, 'slavery': 4056, 'prediction': 3372, 'couldnt': 940, 'scare': 3840, 'heartbreaking': 2050, 'monotonous': 2856, 'startle': 4207, 'bike': 408, 'snuggly': 4089, 'grandfather': 1944, 'bradley': 492, 'crawford': 963, 'outdoor': 3094, 'satire': 3826, 'juliet': 2416, 'sleeper': 4059, 'dismiss': 1230, 'cinematography': 726, 'kundera': 2467, 'regime': 3623, 'paranoid': 3156, 'sky': 4050, 'hendrix': 2070, 'sf': 3947, 'employee': 1426, 'voyage': 4803, 'counting': 943, 'heater': 2052, 'chaos': 664, 'hopeful': 2126, 'pr': 3356, 'slot': 4070, 'postcard': 3342, 'mt': 2890, 'pilot': 3261, 'accident': 21, 'dumber': 1329, 'gossip': 1928, 'barn': 332, 'nobel': 2978, 'bay': 349, 'maggie': 2671, 'dharma': 1162, 'fame': 1610, 'contemplate': 891, 'hp': 2150, 'theology': 4453, 'shia': 3968, 'megan': 2769, 'fox': 1778, 'actress': 42, 'he': 2038, 'labeouf': 2473, 'ben': 392, 'provider': 3461, 'ep': 1467, 'optimus': 3069, 'freak': 1790, 'bluray': 450, 'mentality': 2781, 'continuity': 898, 'nonexistent': 2988, 'cgi': 655, 'jar': 2372, 'remake': 3651, 'procedure': 3418, 'bullet': 551, 'smoking': 4080, 'alter': 132, 'slam': 4052, 'dts': 1316, 'stupidity': 4285, 'blockbuster': 439, 'branch': 494, 'resist': 3693, 'gb': 1855, 'jackson': 2362, 'syndrome': 4370, 'theatrical': 4451, 'alpha': 128, 'ticket': 4494, 'hockey': 2104, 'destruction': 1146, 'bruckheimer': 530, 'cowboy': 955, 'can': 584, 'helicopter': 2062, 'violin': 4778, 'specie': 4155, 'decline': 1068, 'ie': 2185, 'epson': 1470, 'compatibility': 827, 'rambo': 3535, 'wwe': 4962, 'cena': 644, 'patrick': 3184, 'security': 3895, 'wrestling': 4955, 'hogan': 2105, 'afford': 84, 'terminator': 4428, 'hiss': 2096, 'emarker': 1411, 'playlist': 3290, 'emarks': 1412, 'execution': 1541, 'censor': 645, 'gammell': 1843, 'ti': 4493, 'compromise': 849, 'gruesome': 1973, 'helquist': 2067, 'echo': 1365, 'scarier': 3841, 'aloud': 127, 'mythology': 2912, 'rice': 3731, 'bellydance': 387, 'atea': 258, 'privacy': 3410, 'brando': 496, 'altitude': 136, 'trail': 4564, 'rugged': 3787, 'warmer': 4821, 'trim': 4595, 'condescend': 860, 'thinker': 4468, 'ralph': 3531, 'recognition': 3594, 'gabriel': 1832, 'cult': 999, 'hound': 2143, 'ballet': 318, 'defense': 1081, 'predator': 3369, 'ryan': 3800, 'christopher': 717, 'officer': 3040, 'julie': 2415, 'silence': 4008, 'malfunction': 2688, 'douglas': 1277, 'genuine': 1874, 'brio': 519, 'sensor': 3915, 'automatic': 286, 'feeder': 1644, 'jammed': 2366, 'reset': 3691, 'stewart': 4227, 'mellow': 2772, 'amnesia': 149, 'crawl': 964, 'jude': 2410, 'tubthumping': 4610, 'lent': 2544, 'lightning': 2570, 'gal': 1835, 'pitiful': 3271, 'earthquake': 1355, 'laser': 2496, 'reminiscent': 3659, 'mule': 2895, 'gibson': 1885, 'oppose': 3065, 'seldon': 3902, 'isaac': 2348, 'spoiler': 4177, 'galaxy': 1836, 'futuristic': 1828, 'defend': 1080, 'unexpected': 4656, 'genesis': 1868, 'wwi': 4963, 'hardback': 2015, 'bud': 535, 'carrot': 613, 'vacuum': 4721, 'sincerely': 4024, 'viking': 4767, 'addiction': 53, 'nick': 2963, 'cf': 654, 'dentist': 1116, 'batman': 346, 'guinea': 1982, 'phase': 3232, 'mesmerize': 2789, 'mccartney': 2746, 'removable': 3663, 'ritter': 3748, 'goodbye': 1918, 'joyce': 2409, 'janet': 2369, 'gay': 1854, 'external': 1580, 'microphone': 2801, 'spear': 4152, 'catholic': 631, 'philosophical': 3239, 'portrait': 3329, 'recovery': 3603, 'cancer': 587, 'sensation': 3911, 'turtle': 4616, 'dystopian': 1342, 'aerial': 80, 'racist': 3519, 'shakespeare': 3953, 'rainy': 3529, 'dinosaur': 1192, 'harness': 2025, 'rashel': 3549, 'dominate': 1266, 'quinn': 3508, 'curie': 1005, 'prize': 3412, 'simpletech': 4016, 'mb': 2745, 'massacre': 2727, 'patti': 3186, 'evita': 1515, 'intex': 2321, 'inflate': 2258, 'restock': 3706, 'airbed': 102, 'weigh': 4858, 'deflate': 1090, 'inflates': 2259, 'deflates': 1091, 'comforter': 805, 'lump': 2654, 'xtra': 4969, 'flannel': 1707, 'fleetwood': 1716, 'rumour': 3790, 'attend': 265, 'mercedes': 2785, 'harmon': 2023, 'ford': 1753, 'passionate': 3173, 'cocktail': 779, 'jungle': 2422, 'oop': 3054, 'fonda': 1744, 'barbra': 328, 'robbed': 3753, 'luke': 2653, 'mattel': 2737, 'kinsella': 2448, 'sophie': 4126, 'wickham': 4885, 'eby': 1364, 'romeo': 3768, 'spread': 4184, 'nurse': 3012, 'garcia': 1848, 'incest': 2225, 'elite': 1402, 'yello': 4977, 'steiner': 4219, 'shirley': 3975, 'homosexuality': 2117, 'manson': 2698, 'bugliosi': 544, 'helter': 2068, 'skelter': 4042, 'stoner': 4244, 'gnostic': 1908, 'tene': 4424, 'airplane': 104, 'dali': 1026, 'basement': 336, 'ninety': 2975, 'batcave': 345, 'pci': 3191, 'clavell': 746, 'nomad': 2984, 'recharge': 3591, 'earphone': 1352, 'forbidden': 1751, 'knit': 2457, 'voodoo': 4801, 'nba': 2931, 'toefl': 4522, 'shift': 3969, 'civil': 733, 'earpiece': 1353, 'vegan': 4738, 'tina': 4511, 'wilderness': 4895, 'sd': 3878, 'sandisk': 3818, 'sansa': 3822, 'appal': 196, 'carnegie': 610, 'snack': 4083, 'advocate': 79, 'vincent': 4772, 'prosecutor': 3453, 'senseless': 3913, 'slasher': 4054, 'monk': 2854, 'collar': 787, 'dracula': 1285, 'flint': 1722, 'wireless': 4910, 'jabra': 2359, 'eargels': 1348, 'earbuds': 1346, 'jawbone': 2376, 'eargel': 1347, 'clan': 738, 'swedish': 4359, 'odyssey': 3033, 'ian': 2175, 'misfortune': 2830, 'philadelphia': 3237, 'programmer': 3433, 'winston': 4906, 'moby': 2841, 'peck': 3196, 'ahab': 96, 'damme': 1028, 'flea': 1715, 'tho': 4471, 'frank': 1785, 'lackey': 2477, 'venice': 4745, 'tuscan': 4617, 'tuscany': 4618, 'villa': 4769, 'pal': 3138, 'communism': 817, 'rollerball': 3763, 'shin': 3970, 'russell': 3794, 'pastor': 3176, 'megaman': 2768, 'chandler': 661, 'noir': 2981, 'scooter': 3863, 'pratchett': 3361, 'discworld': 1220, 'om': 3048, 'celiac': 641, 'gluten': 1907, 'amy': 154, 'usmle': 4713, 'freshman': 1798, 'dogg': 1260, 'gba': 1856, 'timothy': 4510, 'carter': 615, 'rebel': 3580, 'bowie': 484, 'holmes': 2112, 'confrontation': 868, 'sting': 4234, 'cummins': 1002, 'freud': 1799, 'organic': 3076, 'parable': 3151, 'vivitar': 4793, 'joan': 2394, 'palance': 3139, 'souljah': 4134, 'fw': 1830, 'birthing': 419, 'childbirth': 696, 'sheri': 3966, 'lamaze': 2483, 'bayles': 350, 'argento': 217, 'statue': 4211, 'usher': 4712, 'auel': 276, 'ayla': 304, 'prehistoric': 3376, 'neanderthal': 2932, 'lipstick': 2590, 'sega': 3900, 'gamecube': 1840, 'limerick': 2578, 'gameboy': 1839, 'astrology': 256, 'antivirus': 183, 'femalien': 1654, 'unrated': 4681, 'flyboys': 1736, 'lafayette': 2480, 'escadrille': 1482, 'dogfight': 1259, 'judith': 2413, 'hostel': 2140, 'bleak': 432, 'bebel': 365, 'everest': 1504, 'gammelgaard': 1842, 'elmo': 1405, 'firefighter': 1689, 'csi': 997, 'frm': 1806, 'garp': 1850, 'enrich': 1454, 'oceania': 3028, 'totalitarian': 4544, 'newspeak': 2958, 'totalitarianism': 4545, 'scariest': 3842, 'fundamentalist': 1820, 'concealer': 852, 'huppert': 2168, 'perverse': 3229, 'zeta': 4995, 'rosalind': 3773, 'montag': 2859, 'fireman': 1690, 'farenheit': 1621, 'piper': 3266, 'fellowship': 1651, 'gimli': 1889, 'moria': 2869, 'rivendell': 3749, 'ati': 259, 'radeon': 3521, 'emily': 1416, 'pam': 3141, 'finnegans': 1687, 'finnegan': 1686, 'geforce': 1858, 'lapinator': 2490, 'hatebreed': 2032, 'halti': 2000, 'continuum': 900, 'musiq': 2905, 'lola': 2622, 'franka': 1786, 'soccer': 4092, 'tism': 4515, 'ziggy': 4996, 'stardust': 4202, 'nickelodeon': 2965, 'knot': 2460, 'liam': 2555, 'owen': 3119, 'neeson': 2941, 'lili': 2576, 'asvab': 257, 'goodman': 1919, 'cedar': 638, 'florette': 1727, 'manon': 2697, 'apache': 193, 'marquez': 2716, 'oprah': 3067, 'buendia': 540, 'macondo': 2664, 'papua': 3148, 'java': 2374, 'canterbury': 592, 'chaucer': 677, 'pellegrino': 3202, 'coyote': 956, 'perabo': 3210, 'redgrave': 3608, 'warnes': 4825, 'ronson': 3769, 'tomcat': 4528, 'fraser': 1789, 'mckellen': 2747, 'brendan': 509, 'mosby': 2872, 'stacie': 4191, 'orrico': 3084, 'christina': 714, 'ry': 3799, 'carlton': 609, 'hopkins': 2128, 'lovebird': 2643, 'linksys': 2587, 'basset': 343, 'baskerville': 340, 'doyle': 1282, 'sherlock': 3967, 'baskervilles': 341, 'marlon': 2715, 'donati': 1268, 'claustrophobic': 745, 'ventriloquist': 4747}\n"
          ],
          "name": "stdout"
        }
      ]
    },
    {
      "cell_type": "code",
      "metadata": {
        "id": "1Vcb7DUMK80I",
        "colab_type": "code",
        "outputId": "d35ff7c4-10ad-4fbf-cdef-850ff22df861",
        "colab": {
          "base_uri": "https://localhost:8080/",
          "height": 884
        }
      },
      "source": [
        "print(Train_X_Tfidf)"
      ],
      "execution_count": 228,
      "outputs": [
        {
          "output_type": "stream",
          "text": [
            "  (0, 4975)\t0.06938596572401537\n",
            "  (0, 4948)\t0.05382985370268391\n",
            "  (0, 4892)\t0.11723818854107895\n",
            "  (0, 4862)\t0.0545130914338351\n",
            "  (0, 4708)\t0.12776119152305676\n",
            "  (0, 4614)\t0.09147880821345104\n",
            "  (0, 4156)\t0.13488611075298393\n",
            "  (0, 4073)\t0.09196696652161021\n",
            "  (0, 4040)\t0.09767867624304678\n",
            "  (0, 4000)\t0.10198096658119934\n",
            "  (0, 3695)\t0.15484697105647668\n",
            "  (0, 3552)\t0.09850515549500942\n",
            "  (0, 3416)\t0.0845546218683585\n",
            "  (0, 3124)\t0.13395307442770482\n",
            "  (0, 3073)\t0.08660292783244004\n",
            "  (0, 3068)\t0.16047779489294817\n",
            "  (0, 2960)\t0.09117937572932755\n",
            "  (0, 2944)\t0.1344144086284772\n",
            "  (0, 2892)\t0.06492657036844217\n",
            "  (0, 2734)\t0.13262695805357477\n",
            "  (0, 2359)\t0.14292506495836502\n",
            "  (0, 2351)\t0.10663986396277707\n",
            "  (0, 1880)\t0.049649752402516775\n",
            "  (0, 1859)\t0.14513656755519097\n",
            "  (0, 1701)\t0.19284096047956154\n",
            "  :\t:\n",
            "  (6664, 1420)\t0.20735738397295808\n",
            "  (6664, 1241)\t0.20363414869065574\n",
            "  (6664, 1150)\t0.20606269567044813\n",
            "  (6664, 922)\t0.4332651379076388\n",
            "  (6664, 753)\t0.19221565197016288\n",
            "  (6664, 666)\t0.10233038110444075\n",
            "  (6664, 300)\t0.31213479417937584\n",
            "  (6665, 4228)\t0.2230853297397898\n",
            "  (6665, 4146)\t0.2696974881510623\n",
            "  (6665, 4137)\t0.2345348491957484\n",
            "  (6665, 4119)\t0.3109331293883098\n",
            "  (6665, 4112)\t0.15574748742200795\n",
            "  (6665, 3799)\t0.3189196647061119\n",
            "  (6665, 2903)\t0.2522967236877502\n",
            "  (6665, 2901)\t0.1531239718550357\n",
            "  (6665, 2685)\t0.26843391501299313\n",
            "  (6665, 2684)\t0.10357992544715888\n",
            "  (6665, 2297)\t0.2985892080041524\n",
            "  (6665, 2238)\t0.22862785011939832\n",
            "  (6665, 1952)\t0.20133158057127123\n",
            "  (6665, 1917)\t0.10083142885884673\n",
            "  (6665, 1741)\t0.24476504144464128\n",
            "  (6665, 959)\t0.22908796172760496\n",
            "  (6665, 287)\t0.31472639932939533\n",
            "  (6665, 112)\t0.16243610736918587\n"
          ],
          "name": "stdout"
        }
      ]
    },
    {
      "cell_type": "markdown",
      "metadata": {
        "id": "OXHnB33fK80O",
        "colab_type": "text"
      },
      "source": [
        "##### STEP -7: Use the ML Algorithms"
      ]
    },
    {
      "cell_type": "code",
      "metadata": {
        "id": "YvWwGnNFK80f",
        "colab_type": "code",
        "outputId": "14e35f9f-5acc-4c44-b93a-716d8713fe56",
        "colab": {
          "base_uri": "https://localhost:8080/",
          "height": 34
        }
      },
      "source": [
        "# Classifier - Algorithm - SVM\n",
        "# fit the training dataset on the classifier\n",
        "SVM = svm.SVC(C=1.0, kernel='linear', degree=3, gamma='auto')\n",
        "SVM.fit(Train_X_Tfidf,Train_Y)\n",
        "# predict the labels on validation dataset\n",
        "predictions_SVM = SVM.predict(Test_X_Tfidf)\n",
        "# Use accuracy_score function to get the accuracy\n",
        "print(\"SVM Accuracy Score -> \",accuracy_score(predictions_SVM, Test_Y)*100)"
      ],
      "execution_count": 229,
      "outputs": [
        {
          "output_type": "stream",
          "text": [
            "SVM Accuracy Score ->  84.64307138572286\n"
          ],
          "name": "stdout"
        }
      ]
    },
    {
      "cell_type": "code",
      "metadata": {
        "id": "fQCVSyW3K80S",
        "colab_type": "code",
        "outputId": "372f7da4-a69c-43bc-9e5d-cc781767613c",
        "colab": {
          "base_uri": "https://localhost:8080/",
          "height": 34
        }
      },
      "source": [
        "\"\"\"GIVEN \"\"\"\n",
        "# Classifier - Algorithm - SVM\n",
        "# fit the training dataset on the classifier\n",
        "SVM = svm.SVC(C=1.0, kernel='linear', degree=3, gamma='auto')\n",
        "SVM.fit(Train_X_Tfidf,Train_Y)\n",
        "# predict the labels on validation dataset\n",
        "predictions_SVM = SVM.predict(Test_X_Tfidf)\n",
        "# Use accuracy_score function to get the accuracy\n",
        "print(\"SVM Accuracy Score -> \",accuracy_score(predictions_SVM, Test_Y)*100)"
      ],
      "execution_count": 230,
      "outputs": [
        {
          "output_type": "stream",
          "text": [
            "SVM Accuracy Score ->  84.64307138572286\n"
          ],
          "name": "stdout"
        }
      ]
    }
  ]
}
